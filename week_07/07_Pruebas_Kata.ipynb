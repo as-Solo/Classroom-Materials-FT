{
 "cells": [
  {
   "cell_type": "code",
   "execution_count": 11,
   "id": "distinct-watershed",
   "metadata": {},
   "outputs": [],
   "source": [
    "from itertools import combinations\n",
    "\n",
    "def queue_time(customers, n):\n",
    "    \n",
    "    if len(customers) == 0:\n",
    "        return 0\n",
    "    elif n > len(customers):\n",
    "        return max(customers)\n",
    "    else:\n",
    "        lista_colas = []\n",
    "        \n",
    "        for elem in combinations(customers, n):\n",
    "            lista_colas.append(sum(elem))\n",
    "        print (lista_colas)   \n",
    "        return sum(lista_colas)"
   ]
  },
  {
   "cell_type": "code",
   "execution_count": 57,
   "id": "hungarian-society",
   "metadata": {},
   "outputs": [
    {
     "data": {
      "text/plain": [
       "3.0"
      ]
     },
     "execution_count": 57,
     "metadata": {},
     "output_type": "execute_result"
    }
   ],
   "source": [
    "customers = [2,2,3,3,4,4]"
   ]
  },
  {
   "cell_type": "code",
   "execution_count": 56,
   "id": "dressed-kenya",
   "metadata": {},
   "outputs": [
    {
     "name": "stdout",
     "output_type": "stream",
     "text": [
      "[7, 8, 8, 9, 10, 10, 11, 11, 12, 12, 11, 11, 12, 12, 13, 13, 14, 15, 15, 16]\n"
     ]
    },
    {
     "ename": "AttributeError",
     "evalue": "'int' object has no attribute 'mean'",
     "output_type": "error",
     "traceback": [
      "\u001b[0;31m---------------------------------------------------------------------------\u001b[0m",
      "\u001b[0;31mAttributeError\u001b[0m                            Traceback (most recent call last)",
      "\u001b[0;32m<ipython-input-56-ccfff39d952f>\u001b[0m in \u001b[0;36m<module>\u001b[0;34m\u001b[0m\n\u001b[0;32m----> 1\u001b[0;31m \u001b[0mqueue_time\u001b[0m\u001b[0;34m(\u001b[0m\u001b[0mcustomers\u001b[0m\u001b[0;34m,\u001b[0m \u001b[0;36m2\u001b[0m\u001b[0;34m)\u001b[0m\u001b[0;34m.\u001b[0m\u001b[0mmean\u001b[0m\u001b[0;34m(\u001b[0m\u001b[0;34m)\u001b[0m\u001b[0;34m\u001b[0m\u001b[0;34m\u001b[0m\u001b[0m\n\u001b[0m",
      "\u001b[0;31mAttributeError\u001b[0m: 'int' object has no attribute 'mean'"
     ]
    }
   ],
   "source": [
    "queue_time(customers, 2)"
   ]
  },
  {
   "cell_type": "code",
   "execution_count": 66,
   "id": "dressed-capture",
   "metadata": {},
   "outputs": [],
   "source": [
    "n = 3\n",
    "customers = [1,5,5,1,1,5]"
   ]
  },
  {
   "cell_type": "code",
   "execution_count": 68,
   "id": "operating-planet",
   "metadata": {},
   "outputs": [],
   "source": [
    "#lista_colas = []\n",
    "lista_cajas = []\n",
    "sumatorio = []\n",
    "for i in range(n):\n",
    "    lista_colas.append(customers[i::n])\n",
    "    lista_cajas.append(0)\n",
    "    sumatorio.append(0)"
   ]
  },
  {
   "cell_type": "code",
   "execution_count": 71,
   "id": "legal-alaska",
   "metadata": {},
   "outputs": [],
   "source": [
    "for i in range (len(lista_cajas)):\n",
    "    lista_cajas[i] = customers[i]"
   ]
  },
  {
   "cell_type": "code",
   "execution_count": 80,
   "id": "later-noise",
   "metadata": {},
   "outputs": [],
   "source": [
    "rango = sum(customers) - sum(lista_cajas)"
   ]
  },
  {
   "cell_type": "code",
   "execution_count": 82,
   "id": "activated-grass",
   "metadata": {},
   "outputs": [],
   "source": [
    "sumatorio = lista_cajas"
   ]
  },
  {
   "cell_type": "code",
   "execution_count": 87,
   "id": "willing-powell",
   "metadata": {},
   "outputs": [],
   "source": [
    "clientes_atendidos = 3"
   ]
  },
  {
   "cell_type": "code",
   "execution_count": 88,
   "id": "color-ballet",
   "metadata": {},
   "outputs": [
    {
     "data": {
      "text/plain": [
       "[1, 1, 5]"
      ]
     },
     "execution_count": 88,
     "metadata": {},
     "output_type": "execute_result"
    }
   ],
   "source": [
    "aux = customers[clientes_atendidos:]\n",
    "aux"
   ]
  },
  {
   "cell_type": "code",
   "execution_count": null,
   "id": "adolescent-intellectual",
   "metadata": {},
   "outputs": [],
   "source": [
    "\n",
    "    "
   ]
  },
  {
   "cell_type": "code",
   "execution_count": 89,
   "id": "hydraulic-elevation",
   "metadata": {},
   "outputs": [
    {
     "ename": "SyntaxError",
     "evalue": "invalid syntax (<ipython-input-89-43d64a979e0e>, line 2)",
     "output_type": "error",
     "traceback": [
      "\u001b[0;36m  File \u001b[0;32m\"<ipython-input-89-43d64a979e0e>\"\u001b[0;36m, line \u001b[0;32m2\u001b[0m\n\u001b[0;31m    for i in range(n)\u001b[0m\n\u001b[0m                     ^\u001b[0m\n\u001b[0;31mSyntaxError\u001b[0m\u001b[0;31m:\u001b[0m invalid syntax\n"
     ]
    }
   ],
   "source": [
    "while rango != 0:\n",
    "    for i in range(n):\n",
    "        if lista_cajas[i] == 0:\n",
    "            lista_cajas[i] = aux[0]\n",
    "            sumatorio[i] += aux[0]\n",
    "            clientes_atendidos += 1\n",
    "            rango -= aux[0]\n",
    "            aux = customers[clientes_atendidos:]\n",
    "        else:\n",
    "            lista_cajas\n",
    "    \n",
    "        \n",
    "    "
   ]
  },
  {
   "cell_type": "code",
   "execution_count": null,
   "id": "civic-boring",
   "metadata": {},
   "outputs": [],
   "source": []
  },
  {
   "cell_type": "code",
   "execution_count": null,
   "id": "welcome-owner",
   "metadata": {},
   "outputs": [],
   "source": [
    "for i in range(len())"
   ]
  },
  {
   "cell_type": "code",
   "execution_count": 55,
   "id": "consecutive-costa",
   "metadata": {},
   "outputs": [
    {
     "name": "stdout",
     "output_type": "stream",
     "text": [
      "[1, 2, 4]\n",
      "[2, 2, 4]\n",
      "[4, 2, 4]\n"
     ]
    }
   ],
   "source": [
    "for i in range (0, len(sumatorio)):\n",
    "    lista_cajas[lista_cajas.index(min(lista_cajas))] = customers[i]\n",
    "    print (lista_cajas)"
   ]
  },
  {
   "cell_type": "markdown",
   "id": "widespread-print",
   "metadata": {},
   "source": [
    "entran los dos primeros le sumo a sumatorio 0 customers[i] y a sumatorio 1 customers[i+1] lista cajas es igual a  "
   ]
  },
  {
   "cell_type": "code",
   "execution_count": 50,
   "id": "accessible-timber",
   "metadata": {},
   "outputs": [
    {
     "data": {
      "text/plain": [
       "[1, 2, 4, 5, 5, 6]"
      ]
     },
     "execution_count": 50,
     "metadata": {},
     "output_type": "execute_result"
    }
   ],
   "source": [
    "customers = [1,2,4,9,5,6]\n",
    "customers[customers.index(min(customers))] = 5\n",
    "customers"
   ]
  },
  {
   "cell_type": "code",
   "execution_count": null,
   "id": "interior-detail",
   "metadata": {},
   "outputs": [],
   "source": []
  },
  {
   "cell_type": "code",
   "execution_count": 93,
   "id": "occasional-identifier",
   "metadata": {},
   "outputs": [
    {
     "data": {
      "text/plain": [
       "[1, 5, 5]"
      ]
     },
     "execution_count": 93,
     "metadata": {},
     "output_type": "execute_result"
    }
   ],
   "source": [
    "lista_cajas"
   ]
  },
  {
   "cell_type": "code",
   "execution_count": 94,
   "id": "cardiac-campbell",
   "metadata": {},
   "outputs": [
    {
     "data": {
      "text/plain": [
       "1"
      ]
     },
     "execution_count": 94,
     "metadata": {},
     "output_type": "execute_result"
    }
   ],
   "source": [
    "lista_cajas[lista_cajas.index(min(customers))]"
   ]
  },
  {
   "cell_type": "code",
   "execution_count": 95,
   "id": "informed-overhead",
   "metadata": {},
   "outputs": [],
   "source": [
    "lista_cajas = [0,0,0]"
   ]
  },
  {
   "cell_type": "code",
   "execution_count": 98,
   "id": "filled-spelling",
   "metadata": {},
   "outputs": [
    {
     "name": "stdout",
     "output_type": "stream",
     "text": [
      "[8, 6, 5]\n",
      "[8, 6, 10]\n",
      "[8, 11, 10]\n",
      "[9, 11, 10]\n",
      "[10, 11, 10]\n",
      "[15, 11, 10]\n"
     ]
    }
   ],
   "source": [
    "for i in range(len(customers)):\n",
    "    lista_cajas[lista_cajas.index(min(lista_cajas))] += customers[i]\n",
    "    print(lista_cajas)"
   ]
  },
  {
   "cell_type": "code",
   "execution_count": 99,
   "id": "differential-diamond",
   "metadata": {},
   "outputs": [
    {
     "data": {
      "text/plain": [
       "15"
      ]
     },
     "execution_count": 99,
     "metadata": {},
     "output_type": "execute_result"
    }
   ],
   "source": [
    "max(lista_cajas)"
   ]
  }
 ],
 "metadata": {
  "kernelspec": {
   "display_name": "Python 3",
   "language": "python",
   "name": "python3"
  },
  "language_info": {
   "codemirror_mode": {
    "name": "ipython",
    "version": 3
   },
   "file_extension": ".py",
   "mimetype": "text/x-python",
   "name": "python",
   "nbconvert_exporter": "python",
   "pygments_lexer": "ipython3",
   "version": "3.8.5"
  }
 },
 "nbformat": 4,
 "nbformat_minor": 5
}
