{
 "cells": [
  {
   "cell_type": "markdown",
   "metadata": {},
   "source": [
    "# Tree ensembles"
   ]
  },
  {
   "cell_type": "markdown",
   "metadata": {
    "toc": true
   },
   "source": [
    "<h1>Table of Contents<span class=\"tocSkip\"></span></h1>\n",
    "<div class=\"toc\"><ul class=\"toc-item\"><li><span><a href=\"#Bagging\" data-toc-modified-id=\"Bagging-1\"><span class=\"toc-item-num\">1&nbsp;&nbsp;</span>Bagging</a></span></li><li><span><a href=\"#Random-Forest\" data-toc-modified-id=\"Random-Forest-2\"><span class=\"toc-item-num\">2&nbsp;&nbsp;</span>Random Forest</a></span><ul class=\"toc-item\"><li><span><a href=\"#The-problem\" data-toc-modified-id=\"The-problem-2.1\"><span class=\"toc-item-num\">2.1&nbsp;&nbsp;</span>The problem</a></span><ul class=\"toc-item\"><li><span><a href=\"#The-metric\" data-toc-modified-id=\"The-metric-2.1.1\"><span class=\"toc-item-num\">2.1.1&nbsp;&nbsp;</span>The metric</a></span></li><li><span><a href=\"#Train-test-split\" data-toc-modified-id=\"Train-test-split-2.1.2\"><span class=\"toc-item-num\">2.1.2&nbsp;&nbsp;</span>Train test split</a></span></li><li><span><a href=\"#Logistic-regression\" data-toc-modified-id=\"Logistic-regression-2.1.3\"><span class=\"toc-item-num\">2.1.3&nbsp;&nbsp;</span>Logistic regression</a></span></li><li><span><a href=\"#Decision-tree-classifier\" data-toc-modified-id=\"Decision-tree-classifier-2.1.4\"><span class=\"toc-item-num\">2.1.4&nbsp;&nbsp;</span>Decision tree classifier</a></span></li><li><span><a href=\"#Decision-tree-classifier\" data-toc-modified-id=\"Decision-tree-classifier-2.1.5\"><span class=\"toc-item-num\">2.1.5&nbsp;&nbsp;</span>Decision tree classifier</a></span></li></ul></li></ul></li><li><span><a href=\"#Boosting\" data-toc-modified-id=\"Boosting-3\"><span class=\"toc-item-num\">3&nbsp;&nbsp;</span>Boosting</a></span></li><li><span><a href=\"#Gradient-Boosting\" data-toc-modified-id=\"Gradient-Boosting-4\"><span class=\"toc-item-num\">4&nbsp;&nbsp;</span>Gradient Boosting</a></span><ul class=\"toc-item\"><li><ul class=\"toc-item\"><li><span><a href=\"#Decision-tree-classifier\" data-toc-modified-id=\"Decision-tree-classifier-4.0.1\"><span class=\"toc-item-num\">4.0.1&nbsp;&nbsp;</span>Decision tree classifier</a></span></li></ul></li></ul></li><li><span><a href=\"#NOTE\" data-toc-modified-id=\"NOTE-5\"><span class=\"toc-item-num\">5&nbsp;&nbsp;</span>NOTE</a></span></li><li><span><a href=\"#Further-materials\" data-toc-modified-id=\"Further-materials-6\"><span class=\"toc-item-num\">6&nbsp;&nbsp;</span>Further materials</a></span></li></ul></div>"
   ]
  },
  {
   "cell_type": "code",
<<<<<<< HEAD
   "execution_count": 16,
=======
   "execution_count": 1,
>>>>>>> 5f86fe6cd7087fd71e8d78f3903801008ee6c49b
   "metadata": {},
   "outputs": [],
   "source": [
    "import pandas as pd"
   ]
  },
  {
   "cell_type": "code",
<<<<<<< HEAD
   "execution_count": 17,
=======
   "execution_count": 3,
>>>>>>> 5f86fe6cd7087fd71e8d78f3903801008ee6c49b
   "metadata": {},
   "outputs": [],
   "source": [
    "from sklearn.ensemble import RandomForestClassifier, GradientBoostingClassifier\n",
    "from sklearn.tree import DecisionTreeClassifier\n",
    "\n",
    "from sklearn.linear_model import LogisticRegression\n",
    "from sklearn.metrics import fbeta_score\n",
    "from sklearn.model_selection import train_test_split, GridSearchCV"
   ]
  },
  {
   "cell_type": "markdown",
   "metadata": {},
   "source": [
    "Ensemble models in ML are those that:\n",
    " * use several *weak learners* to\n",
    " * build an averaging model than behaves better than the individual ones"
   ]
  },
  {
   "cell_type": "markdown",
   "metadata": {},
   "source": [
    "## Bagging"
   ]
  },
  {
   "cell_type": "markdown",
   "metadata": {},
   "source": [
    "Bagging (Bootstrap Aggregation) is a Machine Learning tool used to:\n",
    " * improve the stability of an algorithm (robust to little changes in data)\n",
    " * reduce overfitting\n",
    " \n",
    "It consists on, given an original dataset $D$:\n",
    " 1. building different datasets $D_i$ from $D$, extracting samples with replacement (bootstraping)\n",
    " 2. and building a model for each dataset $D_i$\n",
    " 3. for finally averaging predictions in test phase (aggregating)"
   ]
  },
  {
   "cell_type": "markdown",
   "metadata": {},
   "source": [
    "<img width=600 src=\"https://upload.wikimedia.org/wikipedia/commons/thumb/c/c8/Ensemble_Bagging.svg/440px-Ensemble_Bagging.svg.png\">"
   ]
  },
  {
   "cell_type": "markdown",
   "metadata": {},
   "source": [
    "## Random Forest"
   ]
  },
  {
   "cell_type": "markdown",
   "metadata": {},
   "source": [
    "Random Forest applies the Bagging logic to build several decision trees"
   ]
  },
  {
   "cell_type": "markdown",
   "metadata": {},
   "source": [
    "<img width=600 src=\"https://cdn.analyticsvidhya.com/wp-content/uploads/2020/02/rfc_vs_dt1.png\">"
   ]
  },
  {
   "cell_type": "markdown",
   "metadata": {},
   "source": [
    "Lets build a simple Logistic Regression, a simple Decision Tree, and then look at the improvements with a Random Forest"
   ]
  },
  {
   "cell_type": "code",
<<<<<<< HEAD
   "execution_count": 3,
=======
   "execution_count": 4,
>>>>>>> 5f86fe6cd7087fd71e8d78f3903801008ee6c49b
   "metadata": {},
   "outputs": [],
   "source": [
    "df = pd.read_csv('../datasets/breast_cancer.csv')"
   ]
  },
  {
   "cell_type": "code",
<<<<<<< HEAD
   "execution_count": 4,
=======
   "execution_count": 5,
>>>>>>> 5f86fe6cd7087fd71e8d78f3903801008ee6c49b
   "metadata": {},
   "outputs": [
    {
     "data": {
      "text/plain": [
       "(569, 31)"
      ]
     },
<<<<<<< HEAD
     "execution_count": 4,
=======
     "execution_count": 5,
>>>>>>> 5f86fe6cd7087fd71e8d78f3903801008ee6c49b
     "metadata": {},
     "output_type": "execute_result"
    }
   ],
   "source": [
    "df.shape"
   ]
  },
  {
   "cell_type": "markdown",
   "metadata": {},
   "source": [
    "Steps to follow:"
   ]
  },
  {
   "cell_type": "markdown",
   "metadata": {},
   "source": [
    "### The problem"
   ]
  },
  {
   "cell_type": "markdown",
   "metadata": {},
   "source": [
    "1. Choose a metric that represents our notion of good fit\n",
    "2. Train-test split\n",
    "3. Train a logistic regression\n",
    "4. Train a decision tree\n",
    "5. Train a random forest\n",
    "6. Compare results"
   ]
  },
  {
   "cell_type": "markdown",
   "metadata": {},
   "source": [
    "#### The metric"
   ]
  },
  {
   "cell_type": "markdown",
   "metadata": {},
   "source": [
    "Will be f3 score for threshold 0.2: recall is 3x important than precision"
   ]
  },
  {
   "cell_type": "code",
<<<<<<< HEAD
   "execution_count": 20,
=======
   "execution_count": 6,
>>>>>>> 5f86fe6cd7087fd71e8d78f3903801008ee6c49b
   "metadata": {},
   "outputs": [],
   "source": [
    "threshold = 0.2"
   ]
  },
  {
   "cell_type": "markdown",
   "metadata": {},
   "source": [
    "#### Train test split"
   ]
  },
  {
   "cell_type": "code",
<<<<<<< HEAD
   "execution_count": 21,
=======
   "execution_count": 7,
>>>>>>> 5f86fe6cd7087fd71e8d78f3903801008ee6c49b
   "metadata": {},
   "outputs": [],
   "source": [
    "target = \"is_cancer\""
   ]
  },
  {
   "cell_type": "code",
<<<<<<< HEAD
   "execution_count": 22,
=======
   "execution_count": 8,
>>>>>>> 5f86fe6cd7087fd71e8d78f3903801008ee6c49b
   "metadata": {},
   "outputs": [],
   "source": [
    "X = df.drop(target, axis=1)\n",
    "y = df[target]"
   ]
  },
  {
   "cell_type": "code",
<<<<<<< HEAD
   "execution_count": 23,
=======
   "execution_count": 9,
>>>>>>> 5f86fe6cd7087fd71e8d78f3903801008ee6c49b
   "metadata": {},
   "outputs": [],
   "source": [
    "X_train, X_test, y_train, y_test = train_test_split(X, y, test_size=0.2, random_state=666)"
   ]
  },
  {
   "cell_type": "markdown",
   "metadata": {},
   "source": [
    "To have an intuition of what a good metric score is, lets evaluate a baseline model"
   ]
  },
  {
   "cell_type": "code",
<<<<<<< HEAD
   "execution_count": 24,
   "metadata": {},
   "outputs": [],
   "source": [
    "import numpy as np"
   ]
  },
  {
   "cell_type": "code",
   "execution_count": 25,
=======
   "execution_count": 10,
>>>>>>> 5f86fe6cd7087fd71e8d78f3903801008ee6c49b
   "metadata": {},
   "outputs": [
    {
     "data": {
      "text/plain": [
       "0.8712121212121212"
      ]
     },
<<<<<<< HEAD
     "execution_count": 25,
=======
     "execution_count": 10,
>>>>>>> 5f86fe6cd7087fd71e8d78f3903801008ee6c49b
     "metadata": {},
     "output_type": "execute_result"
    }
   ],
   "source": [
    "fbeta_score(\n",
    "    y_pred=np.ones(X_test.shape[0]),\n",
    "    y_true=y_test,\n",
    "    beta=3\n",
    ")"
   ]
  },
  {
   "cell_type": "markdown",
   "metadata": {},
   "source": [
    "#### Logistic regression"
   ]
  },
  {
   "cell_type": "code",
<<<<<<< HEAD
   "execution_count": 26,
=======
   "execution_count": 11,
>>>>>>> 5f86fe6cd7087fd71e8d78f3903801008ee6c49b
   "metadata": {},
   "outputs": [],
   "source": [
    "from sklearn.linear_model import LogisticRegression"
   ]
  },
  {
   "cell_type": "code",
<<<<<<< HEAD
   "execution_count": 27,
=======
   "execution_count": 12,
>>>>>>> 5f86fe6cd7087fd71e8d78f3903801008ee6c49b
   "metadata": {},
   "outputs": [],
   "source": [
    "log = LogisticRegression(max_iter=10000)"
   ]
  },
  {
   "cell_type": "code",
<<<<<<< HEAD
   "execution_count": 28,
=======
   "execution_count": 13,
>>>>>>> 5f86fe6cd7087fd71e8d78f3903801008ee6c49b
   "metadata": {},
   "outputs": [
    {
     "data": {
      "text/plain": [
       "LogisticRegression(max_iter=10000)"
      ]
     },
<<<<<<< HEAD
     "execution_count": 28,
=======
     "execution_count": 13,
>>>>>>> 5f86fe6cd7087fd71e8d78f3903801008ee6c49b
     "metadata": {},
     "output_type": "execute_result"
    }
   ],
   "source": [
    "log.fit(X_train, y_train)"
   ]
  },
  {
   "cell_type": "code",
<<<<<<< HEAD
   "execution_count": 29,
=======
   "execution_count": 14,
>>>>>>> 5f86fe6cd7087fd71e8d78f3903801008ee6c49b
   "metadata": {},
   "outputs": [],
   "source": [
    "log_test_score = fbeta_score(\n",
    "    y_pred=log.predict_proba(X_test)[:, 1] > threshold,\n",
    "    y_true=y_test,\n",
    "    beta=3\n",
    ")"
   ]
  },
  {
   "cell_type": "code",
<<<<<<< HEAD
   "execution_count": 30,
=======
   "execution_count": 15,
>>>>>>> 5f86fe6cd7087fd71e8d78f3903801008ee6c49b
   "metadata": {},
   "outputs": [
    {
     "name": "stdout",
     "output_type": "stream",
     "text": [
      "The test score with logistic regression is 0.944\n"
     ]
    }
   ],
   "source": [
    "print(f\"The test score with logistic regression is {log_test_score.round(3)}\")"
   ]
  },
  {
   "cell_type": "markdown",
   "metadata": {},
   "source": [
    "#### Decision tree classifier"
   ]
  },
  {
   "cell_type": "code",
<<<<<<< HEAD
   "execution_count": 31,
=======
   "execution_count": 16,
>>>>>>> 5f86fe6cd7087fd71e8d78f3903801008ee6c49b
   "metadata": {},
   "outputs": [],
   "source": [
    "from sklearn.tree import DecisionTreeClassifier"
   ]
  },
  {
   "cell_type": "code",
<<<<<<< HEAD
   "execution_count": 40,
=======
   "execution_count": 61,
>>>>>>> 5f86fe6cd7087fd71e8d78f3903801008ee6c49b
   "metadata": {},
   "outputs": [],
   "source": [
    "tree = DecisionTreeClassifier(max_depth=6)"
   ]
  },
  {
   "cell_type": "code",
<<<<<<< HEAD
   "execution_count": 41,
=======
   "execution_count": 62,
>>>>>>> 5f86fe6cd7087fd71e8d78f3903801008ee6c49b
   "metadata": {},
   "outputs": [
    {
     "data": {
      "text/plain": [
       "DecisionTreeClassifier(max_depth=6)"
      ]
     },
<<<<<<< HEAD
     "execution_count": 41,
=======
     "execution_count": 62,
>>>>>>> 5f86fe6cd7087fd71e8d78f3903801008ee6c49b
     "metadata": {},
     "output_type": "execute_result"
    }
   ],
   "source": [
    "tree.fit(X_train, y_train)"
   ]
  },
  {
   "cell_type": "code",
<<<<<<< HEAD
   "execution_count": 42,
=======
   "execution_count": 63,
>>>>>>> 5f86fe6cd7087fd71e8d78f3903801008ee6c49b
   "metadata": {},
   "outputs": [],
   "source": [
    "tree_test_score = fbeta_score(\n",
    "    y_pred=tree.predict_proba(X_test)[:, 1] > threshold,\n",
    "    y_true=y_test,\n",
    "    beta=3\n",
    ")"
   ]
  },
  {
   "cell_type": "code",
<<<<<<< HEAD
   "execution_count": 43,
=======
   "execution_count": 64,
>>>>>>> 5f86fe6cd7087fd71e8d78f3903801008ee6c49b
   "metadata": {},
   "outputs": [
    {
     "name": "stdout",
     "output_type": "stream",
     "text": [
<<<<<<< HEAD
      "The test score with decision tree is 0.948\n"
=======
      "The test score with decision tree is 0.9677\n"
>>>>>>> 5f86fe6cd7087fd71e8d78f3903801008ee6c49b
     ]
    }
   ],
   "source": [
<<<<<<< HEAD
    "print(f\"The test score with decision tree is {tree_test_score.round(3)}\")"
=======
    "print(f\"The test score with decision tree is {tree_test_score.round(4)}\")"
>>>>>>> 5f86fe6cd7087fd71e8d78f3903801008ee6c49b
   ]
  },
  {
   "cell_type": "code",
<<<<<<< HEAD
   "execution_count": 44,
=======
   "execution_count": 65,
>>>>>>> 5f86fe6cd7087fd71e8d78f3903801008ee6c49b
   "metadata": {},
   "outputs": [],
   "source": [
    "from sklearn.tree import plot_tree"
   ]
  },
  {
   "cell_type": "code",
<<<<<<< HEAD
   "execution_count": 45,
=======
   "execution_count": 66,
>>>>>>> 5f86fe6cd7087fd71e8d78f3903801008ee6c49b
   "metadata": {},
   "outputs": [],
   "source": [
    "import matplotlib.pyplot as plt"
   ]
  },
  {
   "cell_type": "code",
<<<<<<< HEAD
   "execution_count": 46,
=======
   "execution_count": 67,
>>>>>>> 5f86fe6cd7087fd71e8d78f3903801008ee6c49b
   "metadata": {},
   "outputs": [
    {
     "data": {
<<<<<<< HEAD
      "image/png": "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\n",
=======
      "image/png": "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\n",
>>>>>>> 5f86fe6cd7087fd71e8d78f3903801008ee6c49b
      "text/plain": [
       "<Figure size 1080x720 with 1 Axes>"
      ]
     },
     "metadata": {
      "needs_background": "light"
     },
     "output_type": "display_data"
    }
   ],
   "source": [
    "fig = plt.figure(figsize=(15, 10))\n",
    "plot_tree(tree, feature_names=df.columns[:-1], filled=True);"
   ]
  },
  {
   "cell_type": "code",
   "execution_count": null,
   "metadata": {},
   "outputs": [],
   "source": [
    "fig.savefig(\"classif_cancer.svg\")"
   ]
  },
  {
   "cell_type": "markdown",
   "metadata": {},
   "source": [
    "#### Decision tree classifier"
   ]
  },
  {
   "cell_type": "code",
<<<<<<< HEAD
   "execution_count": 47,
=======
   "execution_count": 68,
>>>>>>> 5f86fe6cd7087fd71e8d78f3903801008ee6c49b
   "metadata": {},
   "outputs": [],
   "source": [
    "from sklearn.ensemble import RandomForestClassifier"
   ]
  },
  {
   "cell_type": "markdown",
   "metadata": {},
   "source": [
    " * n_estimators: number of trees\n",
    " * max_depth: max depth of tree\n",
    " * max_features: number of variables to use in each tree (will change across trees)"
   ]
  },
  {
   "cell_type": "code",
<<<<<<< HEAD
   "execution_count": 48,
   "metadata": {},
   "outputs": [],
   "source": [
    "rf = RandomForestClassifier(n_estimators=100, max_depth=4, max_features=20)"
=======
   "execution_count": 81,
   "metadata": {},
   "outputs": [],
   "source": [
    "rf = RandomForestClassifier(n_estimators=200, max_depth=8, max_features=30)"
>>>>>>> 5f86fe6cd7087fd71e8d78f3903801008ee6c49b
   ]
  },
  {
   "cell_type": "code",
<<<<<<< HEAD
   "execution_count": 49,
=======
   "execution_count": 82,
>>>>>>> 5f86fe6cd7087fd71e8d78f3903801008ee6c49b
   "metadata": {},
   "outputs": [
    {
     "data": {
      "text/plain": [
<<<<<<< HEAD
       "RandomForestClassifier(max_depth=4, max_features=20)"
      ]
     },
     "execution_count": 49,
=======
       "RandomForestClassifier(max_depth=8, max_features=30, n_estimators=200)"
      ]
     },
     "execution_count": 82,
>>>>>>> 5f86fe6cd7087fd71e8d78f3903801008ee6c49b
     "metadata": {},
     "output_type": "execute_result"
    }
   ],
   "source": [
    "rf.fit(X_train, y_train)"
   ]
  },
  {
   "cell_type": "code",
<<<<<<< HEAD
   "execution_count": 50,
=======
   "execution_count": 83,
>>>>>>> 5f86fe6cd7087fd71e8d78f3903801008ee6c49b
   "metadata": {},
   "outputs": [],
   "source": [
    "rf_test_score = fbeta_score(\n",
    "    y_pred=rf.predict_proba(X_test)[:, 1] > threshold,\n",
    "    y_true=y_test,\n",
    "    beta=3\n",
    ")"
   ]
  },
  {
   "cell_type": "code",
<<<<<<< HEAD
   "execution_count": 51,
=======
   "execution_count": 84,
>>>>>>> 5f86fe6cd7087fd71e8d78f3903801008ee6c49b
   "metadata": {},
   "outputs": [
    {
     "name": "stdout",
     "output_type": "stream",
     "text": [
<<<<<<< HEAD
      "The test score with random forest is 0.962\n"
=======
      "The test score with random forest is 0.959\n"
>>>>>>> 5f86fe6cd7087fd71e8d78f3903801008ee6c49b
     ]
    }
   ],
   "source": [
    "print(f\"The test score with random forest is {rf_test_score.round(3)}\")"
   ]
  },
  {
   "cell_type": "markdown",
   "metadata": {},
   "source": [
    "## Boosting"
   ]
  },
  {
   "cell_type": "markdown",
   "metadata": {},
   "source": [
    "Boosting is another ensemble technique to create a collection of predictors. In this case:\n",
    " * learners (models) are built sequentially\n",
    " * early learners fit simple models to the data\n",
    " * errors are analyzed and taken into account for the subsequent model construction "
   ]
  },
  {
   "cell_type": "markdown",
   "metadata": {},
   "source": [
    "<img width=600 src=\"https://iq.opengenus.org/content/images/2020/01/boosted-trees-process.png\">"
   ]
  },
  {
   "cell_type": "markdown",
   "metadata": {},
   "source": [
    "## Gradient Boosting"
   ]
  },
  {
   "cell_type": "markdown",
   "metadata": {},
   "source": [
    "Gradient Boosting applies Boosting logic (apart from Bagging) to build several decision trees."
   ]
  },
  {
   "cell_type": "markdown",
   "metadata": {},
   "source": [
    "It fits **consecutive** trees and, at every step\n",
    " * weights the data samples differently\n",
    " * to focus on the most difficult entries to be predicted"
   ]
  },
  {
   "cell_type": "markdown",
   "metadata": {},
   "source": [
    "#### Decision tree classifier"
   ]
  },
  {
   "cell_type": "code",
<<<<<<< HEAD
   "execution_count": 52,
=======
   "execution_count": 86,
>>>>>>> 5f86fe6cd7087fd71e8d78f3903801008ee6c49b
   "metadata": {},
   "outputs": [],
   "source": [
    "from sklearn.ensemble import GradientBoostingClassifier"
   ]
  },
  {
   "cell_type": "markdown",
   "metadata": {},
   "source": [
    " * n_estimators: number of trees\n",
    " * max_depth: max depth of tree\n",
    " * max_features: number of variables to use in each tree (will change across trees)"
   ]
  },
  {
   "cell_type": "code",
<<<<<<< HEAD
   "execution_count": 81,
   "metadata": {},
   "outputs": [],
   "source": [
    "gb = GradientBoostingClassifier(n_estimators=500, max_depth=4, max_features=30)"
=======
   "execution_count": 110,
   "metadata": {},
   "outputs": [],
   "source": [
    "gb = GradientBoostingClassifier(n_estimators=400, max_depth=8, max_features=30)"
>>>>>>> 5f86fe6cd7087fd71e8d78f3903801008ee6c49b
   ]
  },
  {
   "cell_type": "code",
<<<<<<< HEAD
   "execution_count": 82,
=======
   "execution_count": 111,
>>>>>>> 5f86fe6cd7087fd71e8d78f3903801008ee6c49b
   "metadata": {},
   "outputs": [
    {
     "data": {
      "text/plain": [
<<<<<<< HEAD
       "GradientBoostingClassifier(max_depth=4, max_features=30, n_estimators=500)"
      ]
     },
     "execution_count": 82,
=======
       "GradientBoostingClassifier(max_depth=8, max_features=30, n_estimators=400)"
      ]
     },
     "execution_count": 111,
>>>>>>> 5f86fe6cd7087fd71e8d78f3903801008ee6c49b
     "metadata": {},
     "output_type": "execute_result"
    }
   ],
   "source": [
    "gb.fit(X_train, y_train)"
   ]
  },
  {
   "cell_type": "code",
<<<<<<< HEAD
   "execution_count": 83,
=======
   "execution_count": 112,
>>>>>>> 5f86fe6cd7087fd71e8d78f3903801008ee6c49b
   "metadata": {},
   "outputs": [],
   "source": [
    "gb_test_score = fbeta_score(\n",
    "    y_pred=gb.predict_proba(X_test)[:, 1] > threshold,\n",
    "    y_true=y_test,\n",
    "    beta=3\n",
    ")"
   ]
  },
  {
   "cell_type": "code",
<<<<<<< HEAD
   "execution_count": 84,
=======
   "execution_count": 113,
>>>>>>> 5f86fe6cd7087fd71e8d78f3903801008ee6c49b
   "metadata": {},
   "outputs": [
    {
     "name": "stdout",
     "output_type": "stream",
     "text": [
<<<<<<< HEAD
      "The test score with gradient boosting is 0.952\n"
=======
      "The test score with gradient boosting is 0.9657\n"
>>>>>>> 5f86fe6cd7087fd71e8d78f3903801008ee6c49b
     ]
    }
   ],
   "source": [
<<<<<<< HEAD
    "print(f\"The test score with gradient boosting is {gb_test_score.round(3)}\")"
=======
    "print(f\"The test score with gradient boosting is {gb_test_score.round(4)}\")"
>>>>>>> 5f86fe6cd7087fd71e8d78f3903801008ee6c49b
   ]
  },
  {
   "cell_type": "markdown",
   "metadata": {},
   "source": [
<<<<<<< HEAD
    "What a pity, our Random Forest or Gradient boosting didn't improve Decision Tree results.  \n",
    "This is not the general case: normally they perform better!!"
=======
    "What a pity, our Random Forest or Gradient boosting didn't improve Decision Tree results considerably.   \n",
    "This is not the general case: normally they perform much better!!"
>>>>>>> 5f86fe6cd7087fd71e8d78f3903801008ee6c49b
   ]
  },
  {
   "cell_type": "markdown",
   "metadata": {},
   "source": [
    "We still can do GridSearchCV to find best hyperparams, and maybe improve the results!"
   ]
  },
  {
   "cell_type": "markdown",
   "metadata": {},
   "source": [
    "## NOTE"
   ]
  },
  {
   "cell_type": "markdown",
   "metadata": {},
   "source": [
    " * Random Forests **can** be trained in a parallel manner: if you build 1000 trees, you can do it in different machines\n",
    " * Gradient Boosting **cannot** be trained in a parallel manner: trees are built sequentially"
   ]
  },
  {
   "cell_type": "markdown",
   "metadata": {},
   "source": [
    "## Further materials"
   ]
  },
  {
   "cell_type": "markdown",
   "metadata": {},
   "source": [
    "See [this post](https://towardsdatascience.com/decision-tree-ensembles-bagging-and-boosting-266a8ba60fd9) for an overview of the theory of Tree ensembles"
   ]
  },
  {
   "cell_type": "markdown",
   "metadata": {},
   "source": [
    "[See StatQuest Gradient Boosting](https://www.youtube.com/watch?v=3CC4N4z3GJc)"
   ]
  },
  {
   "cell_type": "markdown",
   "metadata": {},
   "source": [
    "[XGBoost](https://medium.com/@jboscomendoza/tutorial-xgboost-en-python-53e48fc58f73)"
   ]
  },
  {
   "cell_type": "markdown",
   "metadata": {},
   "source": [
    "* [Introduction to Statistical Learning ISL (Chapter 2)](http://faculty.marshall.usc.edu/gareth-james/ISL/ISLR%20Seventh%20Printing.pdf)\n",
    "* [repo from tdpetrou with materials from ISL](https://github.com/tdpetrou/Machine-Learning-Books-With-Python/tree/master/Introduction%20to%20Statistical%20Learning)\n",
    "\n",
    "* CheckOut: XGBoost, LightGBM, CatBoost\n"
   ]
  }
 ],
 "metadata": {
  "kernelspec": {
   "display_name": "Python 3",
   "language": "python",
   "name": "python3"
  },
  "language_info": {
   "codemirror_mode": {
    "name": "ipython",
    "version": 3
   },
   "file_extension": ".py",
   "mimetype": "text/x-python",
   "name": "python",
   "nbconvert_exporter": "python",
   "pygments_lexer": "ipython3",
   "version": "3.8.5"
  },
  "toc": {
   "base_numbering": 1,
   "nav_menu": {
    "height": "145.994px",
    "width": "198.991px"
   },
   "number_sections": true,
   "sideBar": true,
   "skip_h1_title": true,
   "title_cell": "Table of Contents",
   "title_sidebar": "Contents",
   "toc_cell": true,
   "toc_position": {
    "height": "calc(100% - 180px)",
    "left": "10px",
    "top": "150px",
    "width": "216.094px"
   },
   "toc_section_display": true,
   "toc_window_display": true
  },
  "varInspector": {
   "cols": {
    "lenName": 16,
    "lenType": 16,
    "lenVar": 40
   },
   "kernels_config": {
    "python": {
     "delete_cmd_postfix": "",
     "delete_cmd_prefix": "del ",
     "library": "var_list.py",
     "varRefreshCmd": "print(var_dic_list())"
    },
    "r": {
     "delete_cmd_postfix": ") ",
     "delete_cmd_prefix": "rm(",
     "library": "var_list.r",
     "varRefreshCmd": "cat(var_dic_list()) "
    }
   },
   "types_to_exclude": [
    "module",
    "function",
    "builtin_function_or_method",
    "instance",
    "_Feature"
   ],
   "window_display": false
  }
 },
 "nbformat": 4,
 "nbformat_minor": 4
}
