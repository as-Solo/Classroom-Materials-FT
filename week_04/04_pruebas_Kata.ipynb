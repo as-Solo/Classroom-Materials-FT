{
 "cells": [
  {
   "cell_type": "code",
   "execution_count": 6,
   "metadata": {},
   "outputs": [],
   "source": [
    "code_dict =  {'.-...': '&', '--..--': ',', '....-': '4', '.....': '5',\n",
    "     '...---...': 'SOS', '-...': 'B', '-..-': 'X', '.-.': 'R',\n",
    "     '.--': 'W', '..---': '2', '.-': 'A', '..': 'I', '..-.': 'F',\n",
    "     '.': 'E', '.-..': 'L', '...': 'S', '..-': 'U', '..--..': '?',\n",
    "     '.----': '1', '-.-': 'K', '-..': 'D', '-....': '6', '-...-': '=',\n",
    "     '---': 'O', '.--.': 'P', '.-.-.-': '.', '--': 'M', '-.': 'N',\n",
    "     '....': 'H', '.----.': \"'\", '...-': 'V', '--...': '7', '-.-.-.': ';',\n",
    "     '-....-': '-', '..--.-': '_', '-.--.-': ')', '-.-.--': '!', '--.': 'G',\n",
    "     '--.-': 'Q', '--..': 'Z', '-..-.': '/', '.-.-.': '+', '-.-.': 'C', '---...': ':',\n",
    "     '-.--': 'Y', '-': 'T', '.--.-.': '@', '...-..-': '$', '.---': 'J', '-----': '0',\n",
    "     '----.': '9', '.-..-.': '\"', '-.--.': '(', '---..': '8', '...--': '3'\n",
    "     }"
   ]
  },
  {
   "cell_type": "code",
   "execution_count": 7,
   "metadata": {},
   "outputs": [],
   "source": [
    "entrada = '.... . -.--   .--- ..- -.. .'"
   ]
  },
  {
   "cell_type": "code",
   "execution_count": 22,
   "metadata": {},
   "outputs": [],
   "source": [
    "lista_palabras = entrada.split('   ')"
   ]
  },
  {
   "cell_type": "code",
   "execution_count": 43,
   "metadata": {},
   "outputs": [
    {
     "data": {
      "text/plain": [
       "'HEY JUDE'"
      ]
     },
     "execution_count": 43,
     "metadata": {},
     "output_type": "execute_result"
    }
   ],
   "source": [
    "lista_palabras\n",
    "\n",
    "lista_frase = list()\n",
    "for letra in lista_palabras:\n",
    "    lista_aux = letra.split(' ')\n",
    "    lista_frase.append(lista_aux)\n",
    "    \n",
    "\n",
    "lista_frase\n",
    "\n",
    "frase = str()\n",
    "\n",
    "for palabra in lista_frase:\n",
    "    frase += ' '\n",
    "    for letra in palabra:\n",
    "        frase += code_dict[letra]\n",
    "\n",
    "frase = frase.strip()\n",
    "\n",
    "frase"
   ]
  },
  {
   "cell_type": "code",
   "execution_count": null,
   "metadata": {},
   "outputs": [],
   "source": []
  },
  {
   "cell_type": "code",
   "execution_count": 46,
   "metadata": {},
   "outputs": [],
   "source": [
    "import re"
   ]
  },
  {
   "cell_type": "code",
   "execution_count": 53,
   "metadata": {},
   "outputs": [],
   "source": [
    "pattern = '[.-]+'"
   ]
  },
  {
   "cell_type": "code",
   "execution_count": 54,
   "metadata": {},
   "outputs": [
    {
     "data": {
      "text/plain": [
       "'.... . -.--*.--- ..- -.. .'"
      ]
     },
     "execution_count": 54,
     "metadata": {},
     "output_type": "execute_result"
    }
   ],
   "source": [
    "entrada.replace('   ', '')"
   ]
  },
  {
   "cell_type": "code",
   "execution_count": 52,
   "metadata": {},
   "outputs": [
    {
     "ename": "SyntaxError",
     "evalue": "invalid syntax (<ipython-input-52-9661832652c4>, line 1)",
     "output_type": "error",
     "traceback": [
      "\u001b[1;36m  File \u001b[1;32m\"<ipython-input-52-9661832652c4>\"\u001b[1;36m, line \u001b[1;32m1\u001b[0m\n\u001b[1;33m    precios = re.findall(pattern, entrada).lambda(x : code_dict[x])\u001b[0m\n\u001b[1;37m                                           ^\u001b[0m\n\u001b[1;31mSyntaxError\u001b[0m\u001b[1;31m:\u001b[0m invalid syntax\n"
     ]
    }
   ],
   "source": [
    "precios = re.findall(pattern, entrada).lambda(x : code_dict[x])"
   ]
  },
  {
   "cell_type": "code",
   "execution_count": 51,
   "metadata": {},
   "outputs": [
    {
     "data": {
      "text/plain": [
       "['....', '.', '-.--', '.---', '..-', '-..', '.']"
      ]
     },
     "execution_count": 51,
     "metadata": {},
     "output_type": "execute_result"
    }
   ],
   "source": [
    "precios"
   ]
  }
 ],
 "metadata": {
  "kernelspec": {
   "display_name": "Python 3",
   "language": "python",
   "name": "python3"
  },
  "language_info": {
   "codemirror_mode": {
    "name": "ipython",
    "version": 3
   },
   "file_extension": ".py",
   "mimetype": "text/x-python",
   "name": "python",
   "nbconvert_exporter": "python",
   "pygments_lexer": "ipython3",
   "version": "3.8.5"
  }
 },
 "nbformat": 4,
 "nbformat_minor": 4
}
