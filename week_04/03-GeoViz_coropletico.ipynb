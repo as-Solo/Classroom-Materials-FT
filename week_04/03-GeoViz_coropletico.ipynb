{
 "cells": [
  {
   "cell_type": "markdown",
   "metadata": {
    "toc": true
   },
   "source": [
    "<h1>Table of Contents<span class=\"tocSkip\"></span></h1>\n",
    "<div class=\"toc\"><ul class=\"toc-item\"><li><span><a href=\"#Mapas-Coropléticos\" data-toc-modified-id=\"Mapas-Coropléticos-1\"><span class=\"toc-item-num\">1&nbsp;&nbsp;</span>Mapas Coropléticos</a></span></li></ul></div>"
   ]
  },
  {
   "cell_type": "markdown",
   "metadata": {},
   "source": [
    "### Mapas Coropléticos"
   ]
  },
  {
   "cell_type": "markdown",
   "metadata": {},
   "source": [
    "![mapa](../images/geo_portada.jpg)"
   ]
  },
  {
   "cell_type": "code",
   "execution_count": 3,
   "metadata": {},
   "outputs": [],
   "source": [
    "#!pip3 install folium"
   ]
  },
  {
   "cell_type": "code",
   "execution_count": 26,
   "metadata": {},
   "outputs": [],
   "source": [
    "#!pip install --upgrade setuptools"
   ]
  },
  {
   "cell_type": "code",
   "execution_count": 21,
   "metadata": {},
   "outputs": [
    {
     "data": {
      "text/plain": [
       "False"
      ]
     },
     "execution_count": 21,
     "metadata": {},
     "output_type": "execute_result"
    }
   ],
   "source": [
    "import sys\n",
    "'geopandas' in sys.modules"
   ]
  },
  {
   "cell_type": "code",
   "execution_count": 22,
   "metadata": {},
   "outputs": [
    {
     "name": "stdout",
     "output_type": "stream",
     "text": [
      "Collecting geopandas\n",
      "  Using cached geopandas-0.9.0-py2.py3-none-any.whl (994 kB)\n",
      "Collecting fiona>=1.8\n",
      "  Using cached Fiona-1.8.19.tar.gz (1.3 MB)\n"
     ]
    },
    {
     "name": "stderr",
     "output_type": "stream",
     "text": [
      "    ERROR: Command errored out with exit status 1:\n",
      "     command: 'C:\\Users\\aleja\\anaconda3\\python.exe' -c 'import sys, setuptools, tokenize; sys.argv[0] = '\"'\"'C:\\\\Users\\\\aleja\\\\AppData\\\\Local\\\\Temp\\\\pip-install-mik4z63w\\\\fiona\\\\setup.py'\"'\"'; __file__='\"'\"'C:\\\\Users\\\\aleja\\\\AppData\\\\Local\\\\Temp\\\\pip-install-mik4z63w\\\\fiona\\\\setup.py'\"'\"';f=getattr(tokenize, '\"'\"'open'\"'\"', open)(__file__);code=f.read().replace('\"'\"'\\r\\n'\"'\"', '\"'\"'\\n'\"'\"');f.close();exec(compile(code, __file__, '\"'\"'exec'\"'\"'))' egg_info --egg-base 'C:\\Users\\aleja\\AppData\\Local\\Temp\\pip-pip-egg-info-x73n2sde'\n",
      "         cwd: C:\\Users\\aleja\\AppData\\Local\\Temp\\pip-install-mik4z63w\\fiona\\\n",
      "    Complete output (1 lines):\n",
      "    A GDAL API version must be specified. Provide a path to gdal-config using a GDAL_CONFIG environment variable or use a GDAL_VERSION environment variable.\n",
      "    ----------------------------------------\n",
      "ERROR: Command errored out with exit status 1: python setup.py egg_info Check the logs for full command output.\n"
     ]
    }
   ],
   "source": [
    "import sys  \n",
    "!{sys.executable} -m pip install geopandas"
   ]
  },
  {
   "cell_type": "code",
   "execution_count": 27,
   "metadata": {},
   "outputs": [
    {
     "name": "stdout",
     "output_type": "stream",
     "text": [
      "Collecting gdal\n",
      "  Using cached GDAL-3.2.2.tar.gz (601 kB)\n"
     ]
    },
    {
     "name": "stderr",
     "output_type": "stream",
     "text": [
      "  ERROR: Command errored out with exit status 1:\n",
      "   command: 'C:\\Users\\aleja\\anaconda3\\python.exe' -u -c 'import sys, setuptools, tokenize; sys.argv[0] = '\"'\"'C:\\\\Users\\\\aleja\\\\AppData\\\\Local\\\\Temp\\\\pip-install-2f4ci3a9\\\\gdal\\\\setup.py'\"'\"'; __file__='\"'\"'C:\\\\Users\\\\aleja\\\\AppData\\\\Local\\\\Temp\\\\pip-install-2f4ci3a9\\\\gdal\\\\setup.py'\"'\"';f=getattr(tokenize, '\"'\"'open'\"'\"', open)(__file__);code=f.read().replace('\"'\"'\\r\\n'\"'\"', '\"'\"'\\n'\"'\"');f.close();exec(compile(code, __file__, '\"'\"'exec'\"'\"'))' bdist_wheel -d 'C:\\Users\\aleja\\AppData\\Local\\Temp\\pip-wheel-32tyjpxr'\n",
      "       cwd: C:\\Users\\aleja\\AppData\\Local\\Temp\\pip-install-2f4ci3a9\\gdal\\\n",
      "  Complete output (54 lines):\n",
      "  running bdist_wheel\n",
      "  running build\n",
      "  running build_py\n",
      "  creating build\n",
      "  creating build\\lib.win-amd64-3.8\n",
      "  creating build\\lib.win-amd64-3.8\\osgeo\n",
      "  copying osgeo\\gdal.py -> build\\lib.win-amd64-3.8\\osgeo\n",
      "  copying osgeo\\gdalconst.py -> build\\lib.win-amd64-3.8\\osgeo\n",
      "  copying osgeo\\gdalnumeric.py -> build\\lib.win-amd64-3.8\\osgeo\n",
      "  copying osgeo\\gdal_array.py -> build\\lib.win-amd64-3.8\\osgeo\n",
      "  copying osgeo\\gnm.py -> build\\lib.win-amd64-3.8\\osgeo\n",
      "  copying osgeo\\ogr.py -> build\\lib.win-amd64-3.8\\osgeo\n",
      "  copying osgeo\\osr.py -> build\\lib.win-amd64-3.8\\osgeo\n",
      "  copying osgeo\\__init__.py -> build\\lib.win-amd64-3.8\\osgeo\n",
      "  creating build\\lib.win-amd64-3.8\\osgeo\\utils\n",
      "  copying osgeo\\utils\\epsg_tr.py -> build\\lib.win-amd64-3.8\\osgeo\\utils\n",
      "  copying osgeo\\utils\\esri2wkt.py -> build\\lib.win-amd64-3.8\\osgeo\\utils\n",
      "  copying osgeo\\utils\\gcps2vec.py -> build\\lib.win-amd64-3.8\\osgeo\\utils\n",
      "  copying osgeo\\utils\\gcps2wld.py -> build\\lib.win-amd64-3.8\\osgeo\\utils\n",
      "  copying osgeo\\utils\\gdal2xyz.py -> build\\lib.win-amd64-3.8\\osgeo\\utils\n",
      "  copying osgeo\\utils\\gdalchksum.py -> build\\lib.win-amd64-3.8\\osgeo\\utils\n",
      "  copying osgeo\\utils\\gdalcompare.py -> build\\lib.win-amd64-3.8\\osgeo\\utils\n",
      "  copying osgeo\\utils\\gdalident.py -> build\\lib.win-amd64-3.8\\osgeo\\utils\n",
      "  copying osgeo\\utils\\gdalimport.py -> build\\lib.win-amd64-3.8\\osgeo\\utils\n",
      "  copying osgeo\\utils\\gdalmove.py -> build\\lib.win-amd64-3.8\\osgeo\\utils\n",
      "  copying osgeo\\utils\\gdal_auth.py -> build\\lib.win-amd64-3.8\\osgeo\\utils\n",
      "  copying osgeo\\utils\\gdal_calc.py -> build\\lib.win-amd64-3.8\\osgeo\\utils\n",
      "  copying osgeo\\utils\\gdal_edit.py -> build\\lib.win-amd64-3.8\\osgeo\\utils\n",
      "  copying osgeo\\utils\\gdal_fillnodata.py -> build\\lib.win-amd64-3.8\\osgeo\\utils\n",
      "  copying osgeo\\utils\\gdal_merge.py -> build\\lib.win-amd64-3.8\\osgeo\\utils\n",
      "  copying osgeo\\utils\\gdal_pansharpen.py -> build\\lib.win-amd64-3.8\\osgeo\\utils\n",
      "  copying osgeo\\utils\\gdal_polygonize.py -> build\\lib.win-amd64-3.8\\osgeo\\utils\n",
      "  copying osgeo\\utils\\gdal_proximity.py -> build\\lib.win-amd64-3.8\\osgeo\\utils\n",
      "  copying osgeo\\utils\\gdal_retile.py -> build\\lib.win-amd64-3.8\\osgeo\\utils\n",
      "  copying osgeo\\utils\\gdal_sieve.py -> build\\lib.win-amd64-3.8\\osgeo\\utils\n",
      "  copying osgeo\\utils\\mkgraticule.py -> build\\lib.win-amd64-3.8\\osgeo\\utils\n",
      "  copying osgeo\\utils\\ogrmerge.py -> build\\lib.win-amd64-3.8\\osgeo\\utils\n",
      "  copying osgeo\\utils\\pct2rgb.py -> build\\lib.win-amd64-3.8\\osgeo\\utils\n",
      "  copying osgeo\\utils\\rgb2pct.py -> build\\lib.win-amd64-3.8\\osgeo\\utils\n",
      "  copying osgeo\\utils\\__init__.py -> build\\lib.win-amd64-3.8\\osgeo\\utils\n",
      "  C:\\Users\\aleja\\anaconda3\\lib\\site-packages\\setuptools\\lib2to3_ex.py:36: SetuptoolsDeprecationWarning: 2to3 support is deprecated. If the project still requires Python 2 support, please migrate to a single-codebase solution or employ an independent conversion process.\n",
      "    warnings.warn(\n"
     ]
    },
    {
     "name": "stdout",
     "output_type": "stream",
     "text": [
      "Building wheels for collected packages: gdal\n",
      "  Building wheel for gdal (setup.py): started\n",
      "  Building wheel for gdal (setup.py): finished with status 'error'\n",
      "  Running setup.py clean for gdal\n",
      "Failed to build gdal\n",
      "Installing collected packages: gdal\n",
      "    Running setup.py install for gdal: started\n",
      "    Running setup.py install for gdal: finished with status 'error'\n"
     ]
    },
    {
     "name": "stderr",
     "output_type": "stream",
     "text": [
      "  Fixing build\\lib.win-amd64-3.8\\osgeo\\gdal.py build\\lib.win-amd64-3.8\\osgeo\\gdalconst.py build\\lib.win-amd64-3.8\\osgeo\\gdalnumeric.py build\\lib.win-amd64-3.8\\osgeo\\gdal_array.py build\\lib.win-amd64-3.8\\osgeo\\gnm.py build\\lib.win-amd64-3.8\\osgeo\\ogr.py build\\lib.win-amd64-3.8\\osgeo\\osr.py build\\lib.win-amd64-3.8\\osgeo\\__init__.py build\\lib.win-amd64-3.8\\osgeo\\utils\\epsg_tr.py build\\lib.win-amd64-3.8\\osgeo\\utils\\esri2wkt.py build\\lib.win-amd64-3.8\\osgeo\\utils\\gcps2vec.py build\\lib.win-amd64-3.8\\osgeo\\utils\\gcps2wld.py build\\lib.win-amd64-3.8\\osgeo\\utils\\gdal2xyz.py build\\lib.win-amd64-3.8\\osgeo\\utils\\gdalchksum.py build\\lib.win-amd64-3.8\\osgeo\\utils\\gdalcompare.py build\\lib.win-amd64-3.8\\osgeo\\utils\\gdalident.py build\\lib.win-amd64-3.8\\osgeo\\utils\\gdalimport.py build\\lib.win-amd64-3.8\\osgeo\\utils\\gdalmove.py build\\lib.win-amd64-3.8\\osgeo\\utils\\gdal_auth.py build\\lib.win-amd64-3.8\\osgeo\\utils\\gdal_calc.py build\\lib.win-amd64-3.8\\osgeo\\utils\\gdal_edit.py build\\lib.win-amd64-3.8\\osgeo\\utils\\gdal_fillnodata.py build\\lib.win-amd64-3.8\\osgeo\\utils\\gdal_merge.py build\\lib.win-amd64-3.8\\osgeo\\utils\\gdal_pansharpen.py build\\lib.win-amd64-3.8\\osgeo\\utils\\gdal_polygonize.py build\\lib.win-amd64-3.8\\osgeo\\utils\\gdal_proximity.py build\\lib.win-amd64-3.8\\osgeo\\utils\\gdal_retile.py build\\lib.win-amd64-3.8\\osgeo\\utils\\gdal_sieve.py build\\lib.win-amd64-3.8\\osgeo\\utils\\mkgraticule.py build\\lib.win-amd64-3.8\\osgeo\\utils\\ogrmerge.py build\\lib.win-amd64-3.8\\osgeo\\utils\\pct2rgb.py build\\lib.win-amd64-3.8\\osgeo\\utils\\rgb2pct.py build\\lib.win-amd64-3.8\\osgeo\\utils\\__init__.py\n",
      "  Skipping optional fixer: ws_comma\n",
      "  Fixing build\\lib.win-amd64-3.8\\osgeo\\gdal.py build\\lib.win-amd64-3.8\\osgeo\\gdalconst.py build\\lib.win-amd64-3.8\\osgeo\\gdalnumeric.py build\\lib.win-amd64-3.8\\osgeo\\gdal_array.py build\\lib.win-amd64-3.8\\osgeo\\gnm.py build\\lib.win-amd64-3.8\\osgeo\\ogr.py build\\lib.win-amd64-3.8\\osgeo\\osr.py build\\lib.win-amd64-3.8\\osgeo\\__init__.py build\\lib.win-amd64-3.8\\osgeo\\utils\\epsg_tr.py build\\lib.win-amd64-3.8\\osgeo\\utils\\esri2wkt.py build\\lib.win-amd64-3.8\\osgeo\\utils\\gcps2vec.py build\\lib.win-amd64-3.8\\osgeo\\utils\\gcps2wld.py build\\lib.win-amd64-3.8\\osgeo\\utils\\gdal2xyz.py build\\lib.win-amd64-3.8\\osgeo\\utils\\gdalchksum.py build\\lib.win-amd64-3.8\\osgeo\\utils\\gdalcompare.py build\\lib.win-amd64-3.8\\osgeo\\utils\\gdalident.py build\\lib.win-amd64-3.8\\osgeo\\utils\\gdalimport.py build\\lib.win-amd64-3.8\\osgeo\\utils\\gdalmove.py build\\lib.win-amd64-3.8\\osgeo\\utils\\gdal_auth.py build\\lib.win-amd64-3.8\\osgeo\\utils\\gdal_calc.py build\\lib.win-amd64-3.8\\osgeo\\utils\\gdal_edit.py build\\lib.win-amd64-3.8\\osgeo\\utils\\gdal_fillnodata.py build\\lib.win-amd64-3.8\\osgeo\\utils\\gdal_merge.py build\\lib.win-amd64-3.8\\osgeo\\utils\\gdal_pansharpen.py build\\lib.win-amd64-3.8\\osgeo\\utils\\gdal_polygonize.py build\\lib.win-amd64-3.8\\osgeo\\utils\\gdal_proximity.py build\\lib.win-amd64-3.8\\osgeo\\utils\\gdal_retile.py build\\lib.win-amd64-3.8\\osgeo\\utils\\gdal_sieve.py build\\lib.win-amd64-3.8\\osgeo\\utils\\mkgraticule.py build\\lib.win-amd64-3.8\\osgeo\\utils\\ogrmerge.py build\\lib.win-amd64-3.8\\osgeo\\utils\\pct2rgb.py build\\lib.win-amd64-3.8\\osgeo\\utils\\rgb2pct.py build\\lib.win-amd64-3.8\\osgeo\\utils\\__init__.py\n",
      "  Skipping optional fixer: ws_comma\n",
      "  running build_ext\n",
      "  building 'osgeo._gdal' extension\n",
      "  building 'osgeo._gdalconst' extension\n",
      "  building 'osgeo._osr' extension\n",
      "  building 'osgeo._ogr' extension\n",
      "  building 'osgeo._gnm' extension\n",
      "  building 'osgeo._gdal_array' extension\n",
      "  error: Microsoft Visual C++ 14.0 or greater is required. Get it with \"Microsoft C++ Build Tools\": https://visualstudio.microsoft.com/visual-cpp-build-tools/\n",
      "  ----------------------------------------\n",
      "  ERROR: Failed building wheel for gdal\n",
      "    ERROR: Command errored out with exit status 1:\n",
      "     command: 'C:\\Users\\aleja\\anaconda3\\python.exe' -u -c 'import sys, setuptools, tokenize; sys.argv[0] = '\"'\"'C:\\\\Users\\\\aleja\\\\AppData\\\\Local\\\\Temp\\\\pip-install-2f4ci3a9\\\\gdal\\\\setup.py'\"'\"'; __file__='\"'\"'C:\\\\Users\\\\aleja\\\\AppData\\\\Local\\\\Temp\\\\pip-install-2f4ci3a9\\\\gdal\\\\setup.py'\"'\"';f=getattr(tokenize, '\"'\"'open'\"'\"', open)(__file__);code=f.read().replace('\"'\"'\\r\\n'\"'\"', '\"'\"'\\n'\"'\"');f.close();exec(compile(code, __file__, '\"'\"'exec'\"'\"'))' install --record 'C:\\Users\\aleja\\AppData\\Local\\Temp\\pip-record-eu47y3f0\\install-record.txt' --single-version-externally-managed --compile --install-headers 'C:\\Users\\aleja\\anaconda3\\Include\\gdal'\n",
      "         cwd: C:\\Users\\aleja\\AppData\\Local\\Temp\\pip-install-2f4ci3a9\\gdal\\\n",
      "    Complete output (54 lines):\n",
      "    running install\n",
      "    running build\n",
      "    running build_py\n",
      "    creating build\n",
      "    creating build\\lib.win-amd64-3.8\n",
      "    creating build\\lib.win-amd64-3.8\\osgeo\n",
      "    copying osgeo\\gdal.py -> build\\lib.win-amd64-3.8\\osgeo\n",
      "    copying osgeo\\gdalconst.py -> build\\lib.win-amd64-3.8\\osgeo\n",
      "    copying osgeo\\gdalnumeric.py -> build\\lib.win-amd64-3.8\\osgeo\n",
      "    copying osgeo\\gdal_array.py -> build\\lib.win-amd64-3.8\\osgeo\n",
      "    copying osgeo\\gnm.py -> build\\lib.win-amd64-3.8\\osgeo\n",
      "    copying osgeo\\ogr.py -> build\\lib.win-amd64-3.8\\osgeo\n",
      "    copying osgeo\\osr.py -> build\\lib.win-amd64-3.8\\osgeo\n",
      "    copying osgeo\\__init__.py -> build\\lib.win-amd64-3.8\\osgeo\n",
      "    creating build\\lib.win-amd64-3.8\\osgeo\\utils\n",
      "    copying osgeo\\utils\\epsg_tr.py -> build\\lib.win-amd64-3.8\\osgeo\\utils\n",
      "    copying osgeo\\utils\\esri2wkt.py -> build\\lib.win-amd64-3.8\\osgeo\\utils\n",
      "    copying osgeo\\utils\\gcps2vec.py -> build\\lib.win-amd64-3.8\\osgeo\\utils\n",
      "    copying osgeo\\utils\\gcps2wld.py -> build\\lib.win-amd64-3.8\\osgeo\\utils\n",
      "    copying osgeo\\utils\\gdal2xyz.py -> build\\lib.win-amd64-3.8\\osgeo\\utils\n",
      "    copying osgeo\\utils\\gdalchksum.py -> build\\lib.win-amd64-3.8\\osgeo\\utils\n",
      "    copying osgeo\\utils\\gdalcompare.py -> build\\lib.win-amd64-3.8\\osgeo\\utils\n",
      "    copying osgeo\\utils\\gdalident.py -> build\\lib.win-amd64-3.8\\osgeo\\utils\n",
      "    copying osgeo\\utils\\gdalimport.py -> build\\lib.win-amd64-3.8\\osgeo\\utils\n",
      "    copying osgeo\\utils\\gdalmove.py -> build\\lib.win-amd64-3.8\\osgeo\\utils\n",
      "    copying osgeo\\utils\\gdal_auth.py -> build\\lib.win-amd64-3.8\\osgeo\\utils\n",
      "    copying osgeo\\utils\\gdal_calc.py -> build\\lib.win-amd64-3.8\\osgeo\\utils\n",
      "    copying osgeo\\utils\\gdal_edit.py -> build\\lib.win-amd64-3.8\\osgeo\\utils\n",
      "    copying osgeo\\utils\\gdal_fillnodata.py -> build\\lib.win-amd64-3.8\\osgeo\\utils\n",
      "    copying osgeo\\utils\\gdal_merge.py -> build\\lib.win-amd64-3.8\\osgeo\\utils\n",
      "    copying osgeo\\utils\\gdal_pansharpen.py -> build\\lib.win-amd64-3.8\\osgeo\\utils\n",
      "    copying osgeo\\utils\\gdal_polygonize.py -> build\\lib.win-amd64-3.8\\osgeo\\utils\n",
      "    copying osgeo\\utils\\gdal_proximity.py -> build\\lib.win-amd64-3.8\\osgeo\\utils\n",
      "    copying osgeo\\utils\\gdal_retile.py -> build\\lib.win-amd64-3.8\\osgeo\\utils\n",
      "    copying osgeo\\utils\\gdal_sieve.py -> build\\lib.win-amd64-3.8\\osgeo\\utils\n",
      "    copying osgeo\\utils\\mkgraticule.py -> build\\lib.win-amd64-3.8\\osgeo\\utils\n",
      "    copying osgeo\\utils\\ogrmerge.py -> build\\lib.win-amd64-3.8\\osgeo\\utils\n",
      "    copying osgeo\\utils\\pct2rgb.py -> build\\lib.win-amd64-3.8\\osgeo\\utils\n",
      "    copying osgeo\\utils\\rgb2pct.py -> build\\lib.win-amd64-3.8\\osgeo\\utils\n",
      "    copying osgeo\\utils\\__init__.py -> build\\lib.win-amd64-3.8\\osgeo\\utils\n",
      "    C:\\Users\\aleja\\anaconda3\\lib\\site-packages\\setuptools\\lib2to3_ex.py:36: SetuptoolsDeprecationWarning: 2to3 support is deprecated. If the project still requires Python 2 support, please migrate to a single-codebase solution or employ an independent conversion process.\n",
      "      warnings.warn(\n",
      "    Fixing build\\lib.win-amd64-3.8\\osgeo\\gdal.py build\\lib.win-amd64-3.8\\osgeo\\gdalconst.py build\\lib.win-amd64-3.8\\osgeo\\gdalnumeric.py build\\lib.win-amd64-3.8\\osgeo\\gdal_array.py build\\lib.win-amd64-3.8\\osgeo\\gnm.py build\\lib.win-amd64-3.8\\osgeo\\ogr.py build\\lib.win-amd64-3.8\\osgeo\\osr.py build\\lib.win-amd64-3.8\\osgeo\\__init__.py build\\lib.win-amd64-3.8\\osgeo\\utils\\epsg_tr.py build\\lib.win-amd64-3.8\\osgeo\\utils\\esri2wkt.py build\\lib.win-amd64-3.8\\osgeo\\utils\\gcps2vec.py build\\lib.win-amd64-3.8\\osgeo\\utils\\gcps2wld.py build\\lib.win-amd64-3.8\\osgeo\\utils\\gdal2xyz.py build\\lib.win-amd64-3.8\\osgeo\\utils\\gdalchksum.py build\\lib.win-amd64-3.8\\osgeo\\utils\\gdalcompare.py build\\lib.win-amd64-3.8\\osgeo\\utils\\gdalident.py build\\lib.win-amd64-3.8\\osgeo\\utils\\gdalimport.py build\\lib.win-amd64-3.8\\osgeo\\utils\\gdalmove.py build\\lib.win-amd64-3.8\\osgeo\\utils\\gdal_auth.py build\\lib.win-amd64-3.8\\osgeo\\utils\\gdal_calc.py build\\lib.win-amd64-3.8\\osgeo\\utils\\gdal_edit.py build\\lib.win-amd64-3.8\\osgeo\\utils\\gdal_fillnodata.py build\\lib.win-amd64-3.8\\osgeo\\utils\\gdal_merge.py build\\lib.win-amd64-3.8\\osgeo\\utils\\gdal_pansharpen.py build\\lib.win-amd64-3.8\\osgeo\\utils\\gdal_polygonize.py build\\lib.win-amd64-3.8\\osgeo\\utils\\gdal_proximity.py build\\lib.win-amd64-3.8\\osgeo\\utils\\gdal_retile.py build\\lib.win-amd64-3.8\\osgeo\\utils\\gdal_sieve.py build\\lib.win-amd64-3.8\\osgeo\\utils\\mkgraticule.py build\\lib.win-amd64-3.8\\osgeo\\utils\\ogrmerge.py build\\lib.win-amd64-3.8\\osgeo\\utils\\pct2rgb.py build\\lib.win-amd64-3.8\\osgeo\\utils\\rgb2pct.py build\\lib.win-amd64-3.8\\osgeo\\utils\\__init__.py\n",
      "    Skipping optional fixer: ws_comma\n",
      "    Fixing build\\lib.win-amd64-3.8\\osgeo\\gdal.py build\\lib.win-amd64-3.8\\osgeo\\gdalconst.py build\\lib.win-amd64-3.8\\osgeo\\gdalnumeric.py build\\lib.win-amd64-3.8\\osgeo\\gdal_array.py build\\lib.win-amd64-3.8\\osgeo\\gnm.py build\\lib.win-amd64-3.8\\osgeo\\ogr.py build\\lib.win-amd64-3.8\\osgeo\\osr.py build\\lib.win-amd64-3.8\\osgeo\\__init__.py build\\lib.win-amd64-3.8\\osgeo\\utils\\epsg_tr.py build\\lib.win-amd64-3.8\\osgeo\\utils\\esri2wkt.py build\\lib.win-amd64-3.8\\osgeo\\utils\\gcps2vec.py build\\lib.win-amd64-3.8\\osgeo\\utils\\gcps2wld.py build\\lib.win-amd64-3.8\\osgeo\\utils\\gdal2xyz.py build\\lib.win-amd64-3.8\\osgeo\\utils\\gdalchksum.py build\\lib.win-amd64-3.8\\osgeo\\utils\\gdalcompare.py build\\lib.win-amd64-3.8\\osgeo\\utils\\gdalident.py build\\lib.win-amd64-3.8\\osgeo\\utils\\gdalimport.py build\\lib.win-amd64-3.8\\osgeo\\utils\\gdalmove.py build\\lib.win-amd64-3.8\\osgeo\\utils\\gdal_auth.py build\\lib.win-amd64-3.8\\osgeo\\utils\\gdal_calc.py build\\lib.win-amd64-3.8\\osgeo\\utils\\gdal_edit.py build\\lib.win-amd64-3.8\\osgeo\\utils\\gdal_fillnodata.py build\\lib.win-amd64-3.8\\osgeo\\utils\\gdal_merge.py build\\lib.win-amd64-3.8\\osgeo\\utils\\gdal_pansharpen.py build\\lib.win-amd64-3.8\\osgeo\\utils\\gdal_polygonize.py build\\lib.win-amd64-3.8\\osgeo\\utils\\gdal_proximity.py build\\lib.win-amd64-3.8\\osgeo\\utils\\gdal_retile.py build\\lib.win-amd64-3.8\\osgeo\\utils\\gdal_sieve.py build\\lib.win-amd64-3.8\\osgeo\\utils\\mkgraticule.py build\\lib.win-amd64-3.8\\osgeo\\utils\\ogrmerge.py build\\lib.win-amd64-3.8\\osgeo\\utils\\pct2rgb.py build\\lib.win-amd64-3.8\\osgeo\\utils\\rgb2pct.py build\\lib.win-amd64-3.8\\osgeo\\utils\\__init__.py\n",
      "    Skipping optional fixer: ws_comma\n",
      "    running build_ext\n",
      "    building 'osgeo._gdal' extension\n",
      "    building 'osgeo._gdalconst' extension\n",
      "    building 'osgeo._osr' extension\n",
      "    building 'osgeo._ogr' extension\n",
      "    building 'osgeo._gnm' extension\n",
      "    building 'osgeo._gdal_array' extension\n",
      "    error: Microsoft Visual C++ 14.0 or greater is required. Get it with \"Microsoft C++ Build Tools\": https://visualstudio.microsoft.com/visual-cpp-build-tools/\n",
      "    ----------------------------------------\n",
      "ERROR: Command errored out with exit status 1: 'C:\\Users\\aleja\\anaconda3\\python.exe' -u -c 'import sys, setuptools, tokenize; sys.argv[0] = '\"'\"'C:\\\\Users\\\\aleja\\\\AppData\\\\Local\\\\Temp\\\\pip-install-2f4ci3a9\\\\gdal\\\\setup.py'\"'\"'; __file__='\"'\"'C:\\\\Users\\\\aleja\\\\AppData\\\\Local\\\\Temp\\\\pip-install-2f4ci3a9\\\\gdal\\\\setup.py'\"'\"';f=getattr(tokenize, '\"'\"'open'\"'\"', open)(__file__);code=f.read().replace('\"'\"'\\r\\n'\"'\"', '\"'\"'\\n'\"'\"');f.close();exec(compile(code, __file__, '\"'\"'exec'\"'\"'))' install --record 'C:\\Users\\aleja\\AppData\\Local\\Temp\\pip-record-eu47y3f0\\install-record.txt' --single-version-externally-managed --compile --install-headers 'C:\\Users\\aleja\\anaconda3\\Include\\gdal' Check the logs for full command output.\n"
     ]
    }
   ],
   "source": [
    "!pip install gdal"
   ]
  },
  {
   "cell_type": "code",
   "execution_count": 32,
   "metadata": {},
   "outputs": [
    {
     "name": "stdout",
     "output_type": "stream",
     "text": [
      "Collecting geopandas\n",
      "  Using cached geopandas-0.9.0-py2.py3-none-any.whl (994 kB)\n",
      "Collecting fiona>=1.8\n",
      "  Using cached Fiona-1.8.19.tar.gz (1.3 MB)\n"
     ]
    },
    {
     "name": "stderr",
     "output_type": "stream",
     "text": [
      "    ERROR: Command errored out with exit status 1:\n",
      "     command: 'C:\\Users\\aleja\\anaconda3\\python.exe' -c 'import sys, setuptools, tokenize; sys.argv[0] = '\"'\"'C:\\\\Users\\\\aleja\\\\AppData\\\\Local\\\\Temp\\\\pip-install-tx31zftg\\\\fiona\\\\setup.py'\"'\"'; __file__='\"'\"'C:\\\\Users\\\\aleja\\\\AppData\\\\Local\\\\Temp\\\\pip-install-tx31zftg\\\\fiona\\\\setup.py'\"'\"';f=getattr(tokenize, '\"'\"'open'\"'\"', open)(__file__);code=f.read().replace('\"'\"'\\r\\n'\"'\"', '\"'\"'\\n'\"'\"');f.close();exec(compile(code, __file__, '\"'\"'exec'\"'\"'))' egg_info --egg-base 'C:\\Users\\aleja\\AppData\\Local\\Temp\\pip-pip-egg-info-1ze2gcfy'\n",
      "         cwd: C:\\Users\\aleja\\AppData\\Local\\Temp\\pip-install-tx31zftg\\fiona\\\n",
      "    Complete output (1 lines):\n",
      "    A GDAL API version must be specified. Provide a path to gdal-config using a GDAL_CONFIG environment variable or use a GDAL_VERSION environment variable.\n",
      "    ----------------------------------------\n",
      "ERROR: Command errored out with exit status 1: python setup.py egg_info Check the logs for full command output.\n"
     ]
    }
   ],
   "source": [
    "!pip install geopandas"
   ]
  },
  {
   "cell_type": "code",
   "execution_count": 30,
   "metadata": {},
   "outputs": [
    {
     "ename": "ModuleNotFoundError",
     "evalue": "No module named 'geopandas'",
     "output_type": "error",
     "traceback": [
      "\u001b[1;31m---------------------------------------------------------------------------\u001b[0m",
      "\u001b[1;31mModuleNotFoundError\u001b[0m                       Traceback (most recent call last)",
      "\u001b[1;32m<ipython-input-30-378dbd4a29e7>\u001b[0m in \u001b[0;36m<module>\u001b[1;34m\u001b[0m\n\u001b[0;32m      3\u001b[0m \u001b[1;32mfrom\u001b[0m \u001b[0mfolium\u001b[0m\u001b[1;33m.\u001b[0m\u001b[0mplugins\u001b[0m \u001b[1;32mimport\u001b[0m \u001b[0mHeatMap\u001b[0m\u001b[1;33m,\u001b[0m \u001b[0mMarkerCluster\u001b[0m\u001b[1;33m\u001b[0m\u001b[1;33m\u001b[0m\u001b[0m\n\u001b[0;32m      4\u001b[0m \u001b[1;32mimport\u001b[0m \u001b[0mpandas\u001b[0m \u001b[1;32mas\u001b[0m \u001b[0mpd\u001b[0m\u001b[1;33m\u001b[0m\u001b[1;33m\u001b[0m\u001b[0m\n\u001b[1;32m----> 5\u001b[1;33m \u001b[1;32mimport\u001b[0m \u001b[0mgeopandas\u001b[0m \u001b[1;32mas\u001b[0m \u001b[0mgpd\u001b[0m\u001b[1;33m\u001b[0m\u001b[1;33m\u001b[0m\u001b[0m\n\u001b[0m",
      "\u001b[1;31mModuleNotFoundError\u001b[0m: No module named 'geopandas'"
     ]
    }
   ],
   "source": [
    "import folium\n",
    "from folium import Choropleth, Circle, Marker, Icon, Map\n",
    "from folium.plugins import HeatMap, MarkerCluster\n",
    "import pandas as pd\n",
    "import geopandas as gpd"
   ]
  },
  {
   "cell_type": "markdown",
   "metadata": {},
   "source": [
    "Pero... ¿GEOQUÉ?\n",
    "- https://es.wikipedia.org/wiki/GeoJSON"
   ]
  },
  {
   "cell_type": "markdown",
   "metadata": {},
   "source": [
    "El GeoJSON va a tener la información de las coordenadas de los límites de lo que queremos pintar. Esas coordenadas forman polígonos, que son lo que se va a poner de colorinchis. "
   ]
  },
  {
   "cell_type": "code",
   "execution_count": 3,
   "metadata": {},
   "outputs": [],
   "source": [
    "import json\n",
    "geo_json = r'../datasets/spain-communities.geojson'"
   ]
  },
  {
   "cell_type": "code",
   "execution_count": null,
   "metadata": {},
   "outputs": [],
   "source": [
    "#Abrimos el archivo con with open con json.load() para tener un diccionario\n"
   ]
  },
  {
   "cell_type": "code",
   "execution_count": null,
   "metadata": {},
   "outputs": [],
   "source": []
  },
  {
   "cell_type": "code",
   "execution_count": null,
   "metadata": {},
   "outputs": [],
   "source": [
    "# iteramos en el diccionario para sacar los nombres de las comunidades\n",
    "comunidades = []\n",
    "for index in range(len(geo_json['features'])):\n",
    "    comunidades.append(geo_json['features'][index]['properties']['name']) \n",
    "comunidades"
   ]
  },
  {
   "cell_type": "markdown",
   "metadata": {},
   "source": [
    "Somos analistas de datos pero vamos a inventarnos unos datitos .... sorry 🙄"
   ]
  },
  {
   "cell_type": "code",
   "execution_count": null,
   "metadata": {},
   "outputs": [],
   "source": []
  },
  {
   "cell_type": "markdown",
   "metadata": {},
   "source": [
    "Hacemos un dataframe con el diccionario que tiene la lista de comunidades obtenida del GeoJSON y los datitos inventados y renombramos las columnas."
   ]
  },
  {
   "cell_type": "code",
   "execution_count": null,
   "metadata": {},
   "outputs": [],
   "source": [
    "columnas=['comunidad', 'count']"
   ]
  },
  {
   "cell_type": "code",
   "execution_count": null,
   "metadata": {},
   "outputs": [],
   "source": [
    "comunidades_mapa = folium.Map(location=[40.416775, -3.703790], zoom_start=6) # <-- ,tiles='stamenwatercolor'"
   ]
  },
  {
   "cell_type": "code",
   "execution_count": null,
   "metadata": {},
   "outputs": [],
   "source": [
    "# generamos el mapa coroplético a modificando el mapa que ya tenemos \n"
   ]
  }
 ],
 "metadata": {
  "kernelspec": {
   "display_name": "Python 3",
   "language": "python",
   "name": "python3"
  },
  "language_info": {
   "codemirror_mode": {
    "name": "ipython",
    "version": 3
   },
   "file_extension": ".py",
   "mimetype": "text/x-python",
   "name": "python",
   "nbconvert_exporter": "python",
   "pygments_lexer": "ipython3",
   "version": "3.8.5"
  },
  "toc": {
   "base_numbering": 1,
   "nav_menu": {},
   "number_sections": true,
   "sideBar": true,
   "skip_h1_title": true,
   "title_cell": "Table of Contents",
   "title_sidebar": "Contents",
   "toc_cell": true,
   "toc_position": {
    "height": "calc(100% - 180px)",
    "left": "10px",
    "top": "150px",
    "width": "288px"
   },
   "toc_section_display": true,
   "toc_window_display": false
  }
 },
 "nbformat": 4,
 "nbformat_minor": 4
}
