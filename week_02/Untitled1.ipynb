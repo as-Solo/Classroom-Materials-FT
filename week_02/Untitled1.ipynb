{
 "cells": [
  {
   "cell_type": "code",
   "execution_count": 26,
   "metadata": {},
   "outputs": [],
   "source": [
    "lista = [ 1, 2, 3, 4, 5, 6, '1', '2', '3', '4']"
   ]
  },
  {
   "cell_type": "code",
   "execution_count": 14,
   "metadata": {},
   "outputs": [
    {
     "name": "stdout",
     "output_type": "stream",
     "text": [
      "[1, 2, 3, 4, 5, 6, 1, 2, 3, 4]\n"
     ]
    }
   ],
   "source": [
    "abd = [int(x) for x in lista]\n",
    "print (abd)"
   ]
  },
  {
   "cell_type": "code",
   "execution_count": 4,
   "metadata": {},
   "outputs": [
    {
     "name": "stdout",
     "output_type": "stream",
     "text": [
      "[1, 2, 3, 4, 5, 6, 1, 2, 3, 4]\n"
     ]
    }
   ],
   "source": [
    "print (lista_02)"
   ]
  },
  {
   "cell_type": "code",
   "execution_count": 5,
   "metadata": {},
   "outputs": [
    {
     "name": "stdout",
     "output_type": "stream",
     "text": [
      "31\n"
     ]
    }
   ],
   "source": [
    "print (sum(lista_02))"
   ]
  },
  {
   "cell_type": "code",
   "execution_count": 27,
   "metadata": {},
   "outputs": [],
   "source": [
    "lista = [int(x)*2 for x in lista]"
   ]
  },
  {
   "cell_type": "code",
   "execution_count": 28,
   "metadata": {},
   "outputs": [
    {
     "name": "stdout",
     "output_type": "stream",
     "text": [
      "[2, 4, 6, 8, 10, 12, 2, 4, 6, 8]\n"
     ]
    }
   ],
   "source": [
    "print (lista)"
   ]
  },
  {
   "cell_type": "code",
   "execution_count": 29,
   "metadata": {},
   "outputs": [],
   "source": [
    "lista_02 = [[ 1, 2, 3, 4, 5, 6, '1', '2', '3', '4'], [ 1, 2, 3, 4, 5, 6, '1', '2', '3', '4'], [ 1, 2, 3, 4, 5, 6, '1', '2', '3', '4']]"
   ]
  },
  {
   "cell_type": "code",
   "execution_count": 44,
   "metadata": {},
   "outputs": [
    {
     "ename": "TypeError",
     "evalue": "list indices must be integers or slices, not str",
     "output_type": "error",
     "traceback": [
      "\u001b[1;31m---------------------------------------------------------------------------\u001b[0m",
      "\u001b[1;31mTypeError\u001b[0m                                 Traceback (most recent call last)",
      "\u001b[1;32m<ipython-input-44-73ebdccfb676>\u001b[0m in \u001b[0;36m<module>\u001b[1;34m\u001b[0m\n\u001b[1;32m----> 1\u001b[1;33m \u001b[0mlista_03\u001b[0m \u001b[1;33m=\u001b[0m \u001b[1;33m[\u001b[0m\u001b[0mint\u001b[0m\u001b[1;33m(\u001b[0m\u001b[0melem\u001b[0m\u001b[1;33m[\u001b[0m\u001b[0mx\u001b[0m\u001b[1;33m]\u001b[0m\u001b[1;33m)\u001b[0m \u001b[1;32mfor\u001b[0m \u001b[0melem\u001b[0m \u001b[1;32min\u001b[0m \u001b[0mlista_02\u001b[0m \u001b[1;32mfor\u001b[0m \u001b[0mx\u001b[0m \u001b[1;32min\u001b[0m \u001b[0melem\u001b[0m\u001b[1;33m]\u001b[0m \u001b[1;31m#[[row[i] for row in matrix] for i in range(2)]\u001b[0m\u001b[1;33m\u001b[0m\u001b[1;33m\u001b[0m\u001b[0m\n\u001b[0m",
      "\u001b[1;32m<ipython-input-44-73ebdccfb676>\u001b[0m in \u001b[0;36m<listcomp>\u001b[1;34m(.0)\u001b[0m\n\u001b[1;32m----> 1\u001b[1;33m \u001b[0mlista_03\u001b[0m \u001b[1;33m=\u001b[0m \u001b[1;33m[\u001b[0m\u001b[0mint\u001b[0m\u001b[1;33m(\u001b[0m\u001b[0melem\u001b[0m\u001b[1;33m[\u001b[0m\u001b[0mx\u001b[0m\u001b[1;33m]\u001b[0m\u001b[1;33m)\u001b[0m \u001b[1;32mfor\u001b[0m \u001b[0melem\u001b[0m \u001b[1;32min\u001b[0m \u001b[0mlista_02\u001b[0m \u001b[1;32mfor\u001b[0m \u001b[0mx\u001b[0m \u001b[1;32min\u001b[0m \u001b[0melem\u001b[0m\u001b[1;33m]\u001b[0m \u001b[1;31m#[[row[i] for row in matrix] for i in range(2)]\u001b[0m\u001b[1;33m\u001b[0m\u001b[1;33m\u001b[0m\u001b[0m\n\u001b[0m",
      "\u001b[1;31mTypeError\u001b[0m: list indices must be integers or slices, not str"
     ]
    }
   ],
   "source": [
    "lista_03 = [int(elem[x]) for elem in lista_02 for x in elem] #[[row[i] for row in matrix] for i in range(2)]"
   ]
  },
  {
   "cell_type": "code",
   "execution_count": 42,
   "metadata": {},
   "outputs": [
    {
     "name": "stdout",
     "output_type": "stream",
     "text": [
      "[([1, 2, 3, 4, 5, 6, '1', '2', '3', '4'], 1), ([1, 2, 3, 4, 5, 6, '1', '2', '3', '4'], 2), ([1, 2, 3, 4, 5, 6, '1', '2', '3', '4'], 3), ([1, 2, 3, 4, 5, 6, '1', '2', '3', '4'], 4), ([1, 2, 3, 4, 5, 6, '1', '2', '3', '4'], 5), ([1, 2, 3, 4, 5, 6, '1', '2', '3', '4'], 6), ([1, 2, 3, 4, 5, 6, '1', '2', '3', '4'], 1), ([1, 2, 3, 4, 5, 6, '1', '2', '3', '4'], 2), ([1, 2, 3, 4, 5, 6, '1', '2', '3', '4'], 3), ([1, 2, 3, 4, 5, 6, '1', '2', '3', '4'], 4), ([1, 2, 3, 4, 5, 6, '1', '2', '3', '4'], 1), ([1, 2, 3, 4, 5, 6, '1', '2', '3', '4'], 2), ([1, 2, 3, 4, 5, 6, '1', '2', '3', '4'], 3), ([1, 2, 3, 4, 5, 6, '1', '2', '3', '4'], 4), ([1, 2, 3, 4, 5, 6, '1', '2', '3', '4'], 5), ([1, 2, 3, 4, 5, 6, '1', '2', '3', '4'], 6), ([1, 2, 3, 4, 5, 6, '1', '2', '3', '4'], 1), ([1, 2, 3, 4, 5, 6, '1', '2', '3', '4'], 2), ([1, 2, 3, 4, 5, 6, '1', '2', '3', '4'], 3), ([1, 2, 3, 4, 5, 6, '1', '2', '3', '4'], 4), ([1, 2, 3, 4, 5, 6, '1', '2', '3', '4'], 1), ([1, 2, 3, 4, 5, 6, '1', '2', '3', '4'], 2), ([1, 2, 3, 4, 5, 6, '1', '2', '3', '4'], 3), ([1, 2, 3, 4, 5, 6, '1', '2', '3', '4'], 4), ([1, 2, 3, 4, 5, 6, '1', '2', '3', '4'], 5), ([1, 2, 3, 4, 5, 6, '1', '2', '3', '4'], 6), ([1, 2, 3, 4, 5, 6, '1', '2', '3', '4'], 1), ([1, 2, 3, 4, 5, 6, '1', '2', '3', '4'], 2), ([1, 2, 3, 4, 5, 6, '1', '2', '3', '4'], 3), ([1, 2, 3, 4, 5, 6, '1', '2', '3', '4'], 4)]\n"
     ]
    }
   ],
   "source": [
    "print(lista_03)"
   ]
  },
  {
   "cell_type": "code",
   "execution_count": null,
   "metadata": {},
   "outputs": [],
   "source": []
  }
 ],
 "metadata": {
  "kernelspec": {
   "display_name": "Python 3",
   "language": "python",
   "name": "python3"
  },
  "language_info": {
   "codemirror_mode": {
    "name": "ipython",
    "version": 3
   },
   "file_extension": ".py",
   "mimetype": "text/x-python",
   "name": "python",
   "nbconvert_exporter": "python",
   "pygments_lexer": "ipython3",
   "version": "3.8.5"
  }
 },
 "nbformat": 4,
 "nbformat_minor": 4
}
