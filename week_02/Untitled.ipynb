{
 "cells": [
  {
   "cell_type": "code",
   "execution_count": 24,
   "metadata": {},
   "outputs": [],
   "source": [
    "def fake_bin(x):\n",
    "    respuesta = ''\n",
    "    for element in x:\n",
    "        if element.isnumeric():\n",
    "            element = int(element)\n",
    "        if element >= 5:\n",
    "            element = 1\n",
    "        else:\n",
    "            element = 0\n",
    "        respuesta += str(element)\n",
    "    return respuesta\n",
    "        "
   ]
  },
  {
   "cell_type": "code",
   "execution_count": 28,
   "metadata": {},
   "outputs": [
    {
     "data": {
      "text/plain": [
       "'0011'"
      ]
     },
     "execution_count": 28,
     "metadata": {},
     "output_type": "execute_result"
    }
   ],
   "source": [
    "fake_bin('3456')"
   ]
  },
  {
   "cell_type": "code",
   "execution_count": 48,
   "metadata": {},
   "outputs": [],
   "source": [
    "import string"
   ]
  },
  {
   "cell_type": "code",
   "execution_count": 54,
   "metadata": {},
   "outputs": [],
   "source": [
    "words ='estabilidad'\n",
    "respuesta = str()\n",
    "respuesta = ''.join( '0' if n < '5' else '1' for n in words)\n",
    "\n",
    "#type (respuesta.join('0'))"
   ]
  },
  {
   "cell_type": "code",
   "execution_count": 50,
   "metadata": {},
   "outputs": [
    {
     "ename": "NameError",
     "evalue": "name 'pasassa' is not defined",
     "output_type": "error",
     "traceback": [
      "\u001b[1;31m---------------------------------------------------------------------------\u001b[0m",
      "\u001b[1;31mNameError\u001b[0m                                 Traceback (most recent call last)",
      "\u001b[1;32m<ipython-input-50-8112705021ff>\u001b[0m in \u001b[0;36m<module>\u001b[1;34m\u001b[0m\n\u001b[1;32m----> 1\u001b[1;33m \u001b[0mpasassa\u001b[0m\u001b[1;33m\u001b[0m\u001b[1;33m\u001b[0m\u001b[0m\n\u001b[0m",
      "\u001b[1;31mNameError\u001b[0m: name 'pasassa' is not defined"
     ]
    }
   ],
   "source": []
  },
  {
   "cell_type": "code",
   "execution_count": 73,
   "metadata": {},
   "outputs": [
    {
     "ename": "SyntaxError",
     "evalue": "f-string: single '}' is not allowed (<ipython-input-73-4f64741aea90>, line 8)",
     "output_type": "error",
     "traceback": [
      "\u001b[1;36m  File \u001b[1;32m\"<ipython-input-73-4f64741aea90>\"\u001b[1;36m, line \u001b[1;32m8\u001b[0m\n\u001b[1;33m    respuesta =  (f'{(self.name).upper()}} es el nombre')\u001b[0m\n\u001b[1;37m                  ^\u001b[0m\n\u001b[1;31mSyntaxError\u001b[0m\u001b[1;31m:\u001b[0m f-string: single '}' is not allowed\n"
     ]
    }
   ],
   "source": [
    "class Soldier:\n",
    "    def __init__ (self, health, strength, name):\n",
    "        self.health = health\n",
    "        self.strength = strength\n",
    "        self.name = name\n",
    "    \n",
    "    def print_nombre(self):\n",
    "        respuesta =  (f'{(self.name).upper()}} es el nombre')\n",
    "        return respuesta"
   ]
  },
  {
   "cell_type": "code",
   "execution_count": 68,
   "metadata": {},
   "outputs": [],
   "source": [
    "soldado = (200, 300, 'Halal')"
   ]
  },
  {
   "cell_type": "code",
   "execution_count": 69,
   "metadata": {},
   "outputs": [
    {
     "ename": "AttributeError",
     "evalue": "'tuple' object has no attribute 'print_nombre'",
     "output_type": "error",
     "traceback": [
      "\u001b[1;31m---------------------------------------------------------------------------\u001b[0m",
      "\u001b[1;31mAttributeError\u001b[0m                            Traceback (most recent call last)",
      "\u001b[1;32m<ipython-input-69-a881b5a1249b>\u001b[0m in \u001b[0;36m<module>\u001b[1;34m\u001b[0m\n\u001b[1;32m----> 1\u001b[1;33m \u001b[0msoldado\u001b[0m\u001b[1;33m.\u001b[0m\u001b[0mprint_nombre\u001b[0m\u001b[1;33m(\u001b[0m\u001b[1;33m)\u001b[0m\u001b[1;33m\u001b[0m\u001b[1;33m\u001b[0m\u001b[0m\n\u001b[0m",
      "\u001b[1;31mAttributeError\u001b[0m: 'tuple' object has no attribute 'print_nombre'"
     ]
    }
   ],
   "source": [
    "soldado.print_nombre()"
   ]
  },
  {
   "cell_type": "code",
   "execution_count": 78,
   "metadata": {},
   "outputs": [],
   "source": [
    "class War:\n",
    "    \n",
    "    def __init__ (self, vikingArmy = list(), saxonArmy = list()):\n",
    "        \n",
    "        self.vikingArmy = vikingArmy\n",
    "        self.saxonArmy = saxonArmy\n",
    "\n",
    "    def addViking():\n",
    "        pass\n",
    "\n",
    "    def addSaxon():\n",
    "        pass\n",
    "\n",
    "    def vikingAttack():\n",
    "        pass\n",
    "\n",
    "    def saxonAttack():\n",
    "        pass\n",
    "\n",
    "    def showStatus():\n",
    "        pass\n"
   ]
  },
  {
   "cell_type": "code",
   "execution_count": 85,
   "metadata": {},
   "outputs": [],
   "source": [
    "primera_guerra = War()"
   ]
  },
  {
   "cell_type": "code",
   "execution_count": 86,
   "metadata": {},
   "outputs": [],
   "source": [
    "import random"
   ]
  },
  {
   "cell_type": "code",
   "execution_count": 108,
   "metadata": {},
   "outputs": [
    {
     "name": "stdout",
     "output_type": "stream",
     "text": [
      "7\n"
     ]
    }
   ],
   "source": [
    "saxonArmy = [1,2,3,4,5,6]\n",
    "saxonArmy.append(7)\n",
    "print (len(saxonArmy))"
   ]
  },
  {
   "cell_type": "code",
   "execution_count": null,
   "metadata": {},
   "outputs": [],
   "source": [
    "class War:\n",
    "    def __init__ (self, vikingArmy = list(), saxonArmy = list()):\n",
    "        self.vikingArmy = vikingArmy\n",
    "        self.saxonArmy = saxonArmy\n",
    "\n",
    "    def addViking(self, nombre):\n",
    "        self.vikingArmy.append(nombre)\n",
    "\n",
    "    def addSaxon(self, nombre):\n",
    "        self.saxonArmy.append(nombre)\n",
    "\n",
    "    def vikingAttack(self):\n",
    "        # eliges de la lista de saxon aleatoriamente uno para recibir el daño. Añadelo a un variable y te quitas de problemas\n",
    "        saxon = self.saxonArmy[random.randint(0,len(self.saxonArmy)-1)]\n",
    "\n",
    "        # eliges de la lista de vikingo aleatorimente uno para atacar. Añadelo a una variable y te quitas de problemas\n",
    "        vikingo = self.vikingArmy[random.randint(0,len(self.vikingArmy)-1)]\n",
    "\n",
    "        # llamas al método receivedDamage (vikingo.attack)\n",
    "        respuesta = saxon.receiveDamage (vikingo.attack())\n",
    "\n",
    "        # limpias la lista de saxon en caso de que alguno tenga la vida a cero (comprehension)\n",
    "        #if saxon.health <= 0:\n",
    "        #    self.saxonArmy.remove(saxon)\n",
    "        self.saxonArmy = [x for x in self.saxonArmy if x.health > 0]\n",
    "        \n",
    "        # llamas al método del objeto saxon receiveDamage(vikingo.attack) \n",
    "        return respuesta\n",
    "\n",
    "    def saxonAttack(self):\n",
    "        # eliges de la lista de vikingos aleatoriamente uno para recibir el daño.\n",
    "        vikingo = self.vikingArmy[random.randint(0,len(self.vikingArmy)-1)]\n",
    "        \n",
    "        # eliges de la lista de saxon uno aleatorimente para atacar.\n",
    "        saxon = self.saxonArmy[random.randint(0,len(self.saxonArmy)-1)]\n",
    "\n",
    "        # llamas al método receivedDamage (saxon.attack)\n",
    "        respuesta = vikingo.receiveDamage (saxon.attack())\n",
    "\n",
    "        # limpias la lista de saxon en caso de que alguno tenga la vida a cero (comprehension)\n",
    "        self.vikingArmy = [x for x in self.vikingArmy if x.health > 0]\n",
    "        \n",
    "        # llamas al método del objeto saxon receiveDamage(vikingo.attack) \n",
    "        return respuesta\n",
    "\n",
    "    def showStatus(self):\n",
    "        if len(self.saxonArmy) == 0:\n",
    "            return \"Vikings have won the war of the century!\"\n",
    "\n",
    "        elif len(self.vikingArmy) == 0:\n",
    "            return \"Saxons have fought for their lives and survive another day...\"\n",
    "\n",
    "        else:\n",
    "            return \"Vikings and Saxons are still in the thick of battle.\"\n"
   ]
  }
 ],
 "metadata": {
  "kernelspec": {
   "display_name": "Python 3",
   "language": "python",
   "name": "python3"
  },
  "language_info": {
   "codemirror_mode": {
    "name": "ipython",
    "version": 3
   },
   "file_extension": ".py",
   "mimetype": "text/x-python",
   "name": "python",
   "nbconvert_exporter": "python",
   "pygments_lexer": "ipython3",
   "version": "3.8.5"
  }
 },
 "nbformat": 4,
 "nbformat_minor": 4
}
