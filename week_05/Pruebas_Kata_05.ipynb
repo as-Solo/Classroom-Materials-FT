{
 "cells": [
  {
   "cell_type": "code",
   "execution_count": null,
   "id": "4443e3cf",
   "metadata": {},
   "outputs": [],
   "source": [
    "SELECT *\n",
    "FROM students \n",
    "WHERE ((quality1 = 'evil' OR quality2 = 'evil') AND quality2 = 'cunning')\n",
    "   OR (quality1 = 'brave' AND (quality1 != 'evil' OR quality2 != 'evil'))\n",
    "   OR (quality1 = 'studious' AND quality2 = 'intelligent')\n",
    "   OR (quality1 = 'hufflepuff' OR quality2 = 'hufflepuff')\n",
    "ORDER BY id ASC"
   ]
  },
  {
   "cell_type": "code",
   "execution_count": 1,
   "id": "ea4a6874",
   "metadata": {},
   "outputs": [
    {
     "name": "stdout",
     "output_type": "stream",
     "text": [
      "Collecting tqdm\n",
      "  Downloading tqdm-4.60.0-py2.py3-none-any.whl (75 kB)\n",
      "Installing collected packages: tqdm\n",
      "Successfully installed tqdm-4.60.0\n"
     ]
    }
   ],
   "source": [
    "!pip install tqdm"
   ]
  }
 ],
 "metadata": {
  "kernelspec": {
   "display_name": "Python 3",
   "language": "python",
   "name": "python3"
  },
  "language_info": {
   "codemirror_mode": {
    "name": "ipython",
    "version": 3
   },
   "file_extension": ".py",
   "mimetype": "text/x-python",
   "name": "python",
   "nbconvert_exporter": "python",
   "pygments_lexer": "ipython3",
   "version": "3.8.8"
  }
 },
 "nbformat": 4,
 "nbformat_minor": 5
}
