{
 "cells": [
  {
   "cell_type": "code",
   "execution_count": null,
   "id": "4443e3cf",
   "metadata": {},
   "outputs": [],
   "source": [
    "SELECT *\n",
    "FROM students \n",
    "WHERE ((quality1 = 'evil' OR quality2 = 'evil') AND quality2 = 'cunning')\n",
    "   OR (quality1 = 'brave' AND (quality1 != 'evil' OR quality2 != 'evil'))\n",
    "   OR (quality1 = 'studious' AND quality2 = 'intelligent')\n",
    "   OR (quality1 = 'hufflepuff' OR quality2 = 'hufflepuff')\n",
    "ORDER BY id ASC"
   ]
  },
  {
   "cell_type": "code",
   "execution_count": 1,
   "id": "ea4a6874",
   "metadata": {},
   "outputs": [
    {
     "name": "stdout",
     "output_type": "stream",
     "text": [
      "Collecting tqdm\n",
      "  Downloading tqdm-4.60.0-py2.py3-none-any.whl (75 kB)\n",
      "Installing collected packages: tqdm\n",
      "Successfully installed tqdm-4.60.0\n"
     ]
    }
   ],
   "source": [
    "!pip install tqdm"
   ]
  },
  {
   "cell_type": "code",
   "execution_count": null,
   "id": "8e8a6935",
   "metadata": {},
   "outputs": [],
   "source": [
    "def next_happy_year_mala(year):\n",
    "    year_unique = set(str(year))\n",
    "    aux = year\n",
    "    gatillo = len(year_unique)\n",
    "    \n",
    "    if len(year_unique) == 4:\n",
    "        gatillo = 3\n",
    "    \n",
    "    while gatillo != 4:\n",
    "        aux += 1\n",
    "        year_unique = set(str(aux))\n",
    "        gatillo = len(year_unique)\n",
    "\n",
    "    return (aux)"
   ]
  },
  {
   "cell_type": "code",
   "execution_count": 9,
   "id": "b5c67a0e",
   "metadata": {},
   "outputs": [],
   "source": [
    "def next_happy_year(year):\n",
    "    siguiente = year + 1\n",
    "    year_unique = set(str(siguiente))\n",
    "    \n",
    "    while len(year_unique) != 4:\n",
    "        siguiente += 1\n",
    "        year_unique = set(str(siguiente))\n",
    "        \n",
    "    return siguiente"
   ]
  },
  {
   "cell_type": "code",
   "execution_count": 1,
   "id": "a8ca0ab2",
   "metadata": {
    "collapsed": true
   },
   "outputs": [
    {
     "ename": "NameError",
     "evalue": "name 'next_happy_year' is not defined",
     "output_type": "error",
     "traceback": [
      "\u001b[0;31m---------------------------------------------------------------------------\u001b[0m",
      "\u001b[0;31mNameError\u001b[0m                                 Traceback (most recent call last)",
      "\u001b[0;32m<ipython-input-1-49a347121d73>\u001b[0m in \u001b[0;36m<module>\u001b[0;34m\u001b[0m\n\u001b[0;32m----> 1\u001b[0;31m \u001b[0mnext_happy_year\u001b[0m\u001b[0;34m(\u001b[0m\u001b[0;36m1987\u001b[0m\u001b[0;34m)\u001b[0m\u001b[0;34m\u001b[0m\u001b[0;34m\u001b[0m\u001b[0m\n\u001b[0m",
      "\u001b[0;31mNameError\u001b[0m: name 'next_happy_year' is not defined"
     ]
    }
   ],
   "source": [
    "next_happy_year(1987)"
   ]
  },
  {
   "cell_type": "code",
   "execution_count": 6,
   "id": "isolated-cleaner",
   "metadata": {},
   "outputs": [],
   "source": [
    "astromap = '..........\\n..........\\n..........\\n.......X..\\n..........\\n..........'"
   ]
  },
  {
   "cell_type": "code",
   "execution_count": 22,
   "id": "active-dream",
   "metadata": {},
   "outputs": [],
   "source": [
    "def find_spaceship(astromap):\n",
    "    lista_filas = astromap.split('\\n')\n",
    "    lista_filas.reverse()\n",
    "    for x in range(len(lista_filas)):\n",
    "        for y in range(len(lista_filas[x])):\n",
    "            if lista_filas[x][y] == 'X':\n",
    "                   return [y,x]\n",
    "                \n",
    "    return 'Spaceship lost forever.'"
   ]
  },
  {
   "cell_type": "code",
   "execution_count": null,
   "id": "changed-insider",
   "metadata": {},
   "outputs": [],
   "source": []
  },
  {
   "cell_type": "code",
   "execution_count": 2,
   "id": "african-consciousness",
   "metadata": {},
   "outputs": [],
   "source": [
    "recipe_01 = {\"flour\": 500, \"sugar\": 200, \"eggs\": 1}\n",
    "available_01 = {\"flour\": 1200, \"sugar\": 1200, \"eggs\": 5, \"milk\": 200}"
   ]
  },
  {
   "cell_type": "code",
   "execution_count": 3,
   "id": "cordless-sweet",
   "metadata": {},
   "outputs": [],
   "source": [
    "recipe_02 = {\"apples\": 3, \"flour\": 300, \"sugar\": 150, \"milk\": 100, \"oil\": 100}\n",
    "available_02 = {\"sugar\": 500, \"flour\": 2000, \"milk\": 2000}"
   ]
  },
  {
   "cell_type": "code",
   "execution_count": 31,
   "id": "similar-restriction",
   "metadata": {},
   "outputs": [],
   "source": [
    "def cakes(recipe, available):\n",
    "    respuesta = list()\n",
    "    for k,v in recipe.items():\n",
    "        try:\n",
    "            num = int(available[k]/v)\n",
    "            respuesta.append(num)\n",
    "        except:\n",
    "            num = 0\n",
    "            respuesta.append(num)\n",
    "        print (num)\n",
    "    \n",
    "    return min(respuesta)"
   ]
  },
  {
   "cell_type": "markdown",
   "id": "positive-equilibrium",
   "metadata": {},
   "source": [
    "Respuestas de peña:"
   ]
  },
  {
   "cell_type": "code",
   "execution_count": 33,
   "id": "valued-retrieval",
   "metadata": {},
   "outputs": [],
   "source": [
    "def cakes(recipe, available):\n",
    "    return min(available.get(k, 0)/recipe[k] for k in recipe)"
   ]
  },
  {
   "cell_type": "code",
   "execution_count": 34,
   "id": "hazardous-tutorial",
   "metadata": {},
   "outputs": [],
   "source": [
    "def cakes(recipe, available):\n",
    "    try:\n",
    "        return min([available[a]/recipe[a] for a in recipe])\n",
    "    except:\n",
    "        return 0"
   ]
  },
  {
   "cell_type": "code",
   "execution_count": null,
   "id": "specific-intranet",
   "metadata": {},
   "outputs": [],
   "source": []
  },
  {
   "cell_type": "code",
   "execution_count": null,
   "id": "corrected-honduras",
   "metadata": {},
   "outputs": [],
   "source": []
  },
  {
   "cell_type": "code",
   "execution_count": null,
   "id": "automatic-print",
   "metadata": {},
   "outputs": [],
   "source": []
  },
  {
   "cell_type": "code",
   "execution_count": null,
   "id": "attached-chosen",
   "metadata": {},
   "outputs": [],
   "source": []
  },
  {
   "cell_type": "code",
   "execution_count": 23,
   "id": "refined-tunisia",
   "metadata": {
    "scrolled": true
   },
   "outputs": [
    {
     "data": {
      "text/plain": [
       "(2, 7)"
      ]
     },
     "execution_count": 23,
     "metadata": {},
     "output_type": "execute_result"
    }
   ],
   "source": [
    "find_spaceship(astromap)"
   ]
  },
  {
   "cell_type": "code",
   "execution_count": 19,
   "id": "earned-capability",
   "metadata": {},
   "outputs": [
    {
     "ename": "SyntaxError",
     "evalue": "invalid syntax (<ipython-input-19-dc49d762945c>, line 4)",
     "output_type": "error",
     "traceback": [
      "\u001b[0;36m  File \u001b[0;32m\"<ipython-input-19-dc49d762945c>\"\u001b[0;36m, line \u001b[0;32m4\u001b[0m\n\u001b[0;31m    for x in range(len(lista_filas):\u001b[0m\n\u001b[0m                                   ^\u001b[0m\n\u001b[0;31mSyntaxError\u001b[0m\u001b[0;31m:\u001b[0m invalid syntax\n"
     ]
    }
   ],
   "source": [
    "def find_spaceship_02(astromap):\n",
    "    lista_filas = astromap.split('\\n')\n",
    "    \n",
    "    for x in range(len(lista_filas)):\n",
    "        for y in len(lista_filas[x]):\n",
    "            print[x,y]"
   ]
  }
 ],
 "metadata": {
  "kernelspec": {
   "display_name": "Python 3",
   "language": "python",
   "name": "python3"
  },
  "language_info": {
   "codemirror_mode": {
    "name": "ipython",
    "version": 3
   },
   "file_extension": ".py",
   "mimetype": "text/x-python",
   "name": "python",
   "nbconvert_exporter": "python",
   "pygments_lexer": "ipython3",
   "version": "3.8.5"
  }
 },
 "nbformat": 4,
 "nbformat_minor": 5
}
