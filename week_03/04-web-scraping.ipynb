{
 "cells": [
  {
   "cell_type": "markdown",
   "id": "372d8cdf",
   "metadata": {
    "toc": true
   },
   "source": [
    "<h1>Table of Contents<span class=\"tocSkip\"></span></h1>\n",
    "<div class=\"toc\"><ul class=\"toc-item\"><li><span><a href=\"#Repaso-HTML\" data-toc-modified-id=\"Repaso-HTML-1\"><span class=\"toc-item-num\">1&nbsp;&nbsp;</span>Repaso HTML</a></span><ul class=\"toc-item\"><li><span><a href=\"#Tags\" data-toc-modified-id=\"Tags-1.1\"><span class=\"toc-item-num\">1.1&nbsp;&nbsp;</span>Tags</a></span></li><li><span><a href=\"#Attributes\" data-toc-modified-id=\"Attributes-1.2\"><span class=\"toc-item-num\">1.2&nbsp;&nbsp;</span>Attributes</a></span></li></ul></li><li><span><a href=\"#Beautitul-soup\" data-toc-modified-id=\"Beautitul-soup-2\"><span class=\"toc-item-num\">2&nbsp;&nbsp;</span>Beautitul soup</a></span><ul class=\"toc-item\"><li><span><a href=\"#Hacer-scraping-de-los-elementos-HTML-usando-la-clase-Attribute\" data-toc-modified-id=\"Hacer-scraping-de-los-elementos-HTML-usando-la-clase-Attribute-2.1\"><span class=\"toc-item-num\">2.1&nbsp;&nbsp;</span>Hacer scraping de los elementos HTML usando la clase Attribute</a></span></li><li><span><a href=\"#Obtener-las-etiquetas-HTML-usando-findAll\" data-toc-modified-id=\"Obtener-las-etiquetas-HTML-usando-findAll-2.2\"><span class=\"toc-item-num\">2.2&nbsp;&nbsp;</span>Obtener las etiquetas HTML usando findAll</a></span></li><li><span><a href=\"#Buscar-el-enésimo-hijo-usando-Beautiful-Soup\" data-toc-modified-id=\"Buscar-el-enésimo-hijo-usando-Beautiful-Soup-2.3\"><span class=\"toc-item-num\">2.3&nbsp;&nbsp;</span>Buscar el enésimo hijo usando Beautiful Soup</a></span></li></ul></li><li><span><a href=\"#Diferencia-entre-find_all()-y-select()\" data-toc-modified-id=\"Diferencia-entre-find_all()-y-select()-3\"><span class=\"toc-item-num\">3&nbsp;&nbsp;</span>Diferencia entre find_all() y select()</a></span><ul class=\"toc-item\"><li><ul class=\"toc-item\"><li><span><a href=\"#Find_all\" data-toc-modified-id=\"Find_all-3.0.1\"><span class=\"toc-item-num\">3.0.1&nbsp;&nbsp;</span>Find_all</a></span></li><li><span><a href=\"#Select\" data-toc-modified-id=\"Select-3.0.2\"><span class=\"toc-item-num\">3.0.2&nbsp;&nbsp;</span>Select</a></span></li></ul></li></ul></li><li><span><a href=\"#Manos-a-la-obra\" data-toc-modified-id=\"Manos-a-la-obra-4\"><span class=\"toc-item-num\">4&nbsp;&nbsp;</span>Manos a la obra</a></span><ul class=\"toc-item\"><li><span><a href=\"#Ejemplo-1-Página-de-zapatillas-de-deporte\" data-toc-modified-id=\"Ejemplo-1-Página-de-zapatillas-de-deporte-4.1\"><span class=\"toc-item-num\">4.1&nbsp;&nbsp;</span>Ejemplo 1 Página de zapatillas de deporte</a></span></li><li><span><a href=\"#Ejemplo-wikipedia-medallero\" data-toc-modified-id=\"Ejemplo-wikipedia-medallero-4.2\"><span class=\"toc-item-num\">4.2&nbsp;&nbsp;</span>Ejemplo wikipedia medallero</a></span></li><li><span><a href=\"#Ejemplo-Wikipedia-Enlaces\" data-toc-modified-id=\"Ejemplo-Wikipedia-Enlaces-4.3\"><span class=\"toc-item-num\">4.3&nbsp;&nbsp;</span>Ejemplo Wikipedia Enlaces</a></span></li></ul></li><li><span><a href=\"#Summary\" data-toc-modified-id=\"Summary-5\"><span class=\"toc-item-num\">5&nbsp;&nbsp;</span>Summary</a></span></li></ul></div>"
   ]
  },
  {
   "cell_type": "markdown",
   "id": "b04bdfc7",
   "metadata": {},
   "source": [
    "# Web Scraping"
   ]
  },
  {
   "cell_type": "markdown",
   "id": "26e70674",
   "metadata": {},
   "source": [
    "![legtsgo](https://media.giphy.com/media/dwmNhd5H7YAz6/giphy.gif)"
   ]
  },
  {
   "cell_type": "markdown",
   "id": "28a668eb",
   "metadata": {},
   "source": [
    "## Repaso HTML\n",
    "El código HTML se compone de contenido `<etiquetado>`      \n",
    "HTML tiene una estructura jeárquica: parent tags, children tags, sibling tags:     \n",
    "\n",
    "```\n",
    "<html>\n",
    "    <head>\n",
    "        <title>Page Title</title>\n",
    "    </head>\n",
    "    <body>\n",
    "        <h1>My First Heading</h1>\n",
    "        <p>My first paragraph.</p>\n",
    "    </body>\n",
    "</html>\n",
    "```"
   ]
  },
  {
   "cell_type": "markdown",
   "id": "07344699",
   "metadata": {},
   "source": [
    "### Tags\n",
    "\n",
    "Las etiquetas pueden clasificarse en diferentes grupos, en función del tipo de contenido que se espera que posean\n",
    " * heading: `<h1>`, `<h2>`, `<h3>`, `<hgroup>`...\n",
    " * phrasing: `<b>`, `<sub>`...\n",
    " * embedded: `<audio>`, `<img>`, `<video>`...\n",
    " * tabulated: `<table>`, `<tr>`, `<tbody>`...\n",
    " * sections: `<header>`, `<section>`, `<article>`...\n",
    " * metadata: `<meta>`, `<title>`, `<script>`..."
   ]
  },
  {
   "cell_type": "markdown",
   "id": "2f0f313e",
   "metadata": {},
   "source": [
    "### Attributes\n",
    "Los atributos son propiedades que un tag puede o no tener. \n",
    "`<div> Zapas Marca Joma X54 </div>` En este caso, la etiqueta div no tiene atributos      \n",
    "\n",
    "* a `class` attribute with value `price-item`\n",
    "* an `id` attribute with value `offer`  \n",
    "\n",
    "`<div class=\"price-item\" id=\"offer\"> Zapas Marca Joma X54 </div>`     \n",
    "\n",
    "El atributo `id` debe ser único para una etiqueta (no debe haber dos etiquetas con el mismo `id`), sin embargo, `class` no pretende ser única, normalmente agrupa etiquetas con un comportamiento similar. Que el id sea único es una convención, html sí nos permite tener el mismo id. Nosotras no buscaremos por id, a no ser que queramos buscar algo concreto, porque querremos obtener muchos datos....     \n",
    "\n",
    "Otras etiquetas de uso frecuente son:\n",
    "* `dir`\n",
    "* `lang`\n",
    "* `style` (not to be confused with `<style>` tag)\n",
    "* `title` (not to be confused with `<title>` tag)"
   ]
  },
  {
   "cell_type": "markdown",
   "id": "12d9a0a9",
   "metadata": {},
   "source": [
    "## Beautitul soup\n",
    "“Si sólo tratas de sacar datos de una web. Beautiful Soup está aquí para ayudar “.\n",
    "\n",
    "Pero solo te ayudará si te [lees la documentación](https://www.crummy.com/software/BeautifulSoup/bs4/doc/) 🤭\n",
    "\n",
    "Beautiful Soup es una librería Python para obtener datos de HTML, XML y otros lenguajes de marcado. Digamos que has encontrado algunas páginas web que muestran datos relevantes para ti, como información de fechas, contenido, dirección, valores… pero esa web no proporciona ninguna forma de descargar los datos directamente. Beautiful Soup te ayuda a extraer contenido particular de una página web, elimina el marcado HTML, guardar la información e incluso te lo exporta en un archivo excel.        \n",
    "La documentación de Beautiful Soup te dará una idea de la variedad de cosas que la biblioteca Beautiful Soup te ayudará, desde aislar títulos y enlaces, extraer todo el texto de las etiquetas html, hasta alterar el HTML dentro del documento con el que está trabajando."
   ]
  },
  {
   "cell_type": "markdown",
   "id": "f942e901",
   "metadata": {},
   "source": [
    "### Hacer scraping de los elementos HTML usando la clase Attribute\n",
    "El objeto Beautiful Soup tiene una función llamada findAll que extrae o filtra elementos en función de sus atributos.    \n",
    "Podemos filtrar todos los elementos h2 cuya clase es widget-title:"
   ]
  },
  {
   "cell_type": "markdown",
   "id": "b5eaa2d7",
   "metadata": {},
   "source": [
    "```python\n",
    "tags = res.findAll(\"h2\", {\"class\": \"widget-title\"})\n",
    "```"
   ]
  },
  {
   "cell_type": "markdown",
   "id": "c4add8dd",
   "metadata": {},
   "source": [
    "Podemos usar una estructura for para iterar sobre ellos y hacer lo que sea con cada uno."
   ]
  },
  {
   "cell_type": "code",
   "execution_count": 19,
   "id": "a9db9df0",
   "metadata": {},
   "outputs": [],
   "source": [
    "url = \"https://www.python.org/\"\n",
    "html = requests.get(url)\n",
    "soup = BeautifulSoup(html.content,\"html.parser\")"
   ]
  },
  {
   "cell_type": "code",
   "execution_count": 18,
   "id": "083ef947",
   "metadata": {},
   "outputs": [],
   "source": [
    "tags = soup.find_all(\"h1\", {\"class\": \"h1 lh\"})"
   ]
  },
  {
   "cell_type": "code",
   "execution_count": 20,
   "id": "05034c78",
   "metadata": {},
   "outputs": [
    {
     "data": {
      "text/plain": [
       "[]"
      ]
     },
     "execution_count": 20,
     "metadata": {},
     "output_type": "execute_result"
    }
   ],
   "source": [
    "#findall nos devuelve una lista\n",
    "tags"
   ]
  },
  {
   "cell_type": "code",
   "execution_count": 21,
   "id": "27ff956e",
   "metadata": {},
   "outputs": [
    {
     "data": {
      "text/plain": [
       "0"
      ]
     },
     "execution_count": 21,
     "metadata": {},
     "output_type": "execute_result"
    }
   ],
   "source": [
    "len(tags)"
   ]
  },
  {
   "cell_type": "code",
   "execution_count": 22,
   "id": "c3fdee99",
   "metadata": {},
   "outputs": [
    {
     "ename": "IndexError",
     "evalue": "list index out of range",
     "output_type": "error",
     "traceback": [
      "\u001b[1;31m---------------------------------------------------------------------------\u001b[0m",
      "\u001b[1;31mIndexError\u001b[0m                                Traceback (most recent call last)",
      "\u001b[1;32m<ipython-input-22-ad8c14c53cee>\u001b[0m in \u001b[0;36m<module>\u001b[1;34m\u001b[0m\n\u001b[1;32m----> 1\u001b[1;33m \u001b[0mtags\u001b[0m\u001b[1;33m[\u001b[0m\u001b[1;36m1\u001b[0m\u001b[1;33m]\u001b[0m\u001b[1;33m.\u001b[0m\u001b[0mgetText\u001b[0m\u001b[1;33m(\u001b[0m\u001b[1;33m)\u001b[0m\u001b[1;33m\u001b[0m\u001b[1;33m\u001b[0m\u001b[0m\n\u001b[0m",
      "\u001b[1;31mIndexError\u001b[0m: list index out of range"
     ]
    }
   ],
   "source": [
    "tags[1].getText()"
   ]
  },
  {
   "cell_type": "code",
   "execution_count": 22,
   "id": "037236cf",
   "metadata": {},
   "outputs": [
    {
     "name": "stdout",
     "output_type": "stream",
     "text": [
      "Get Started\n",
      "Download\n",
      "Docs\n",
      "Jobs\n",
      "Latest News\n",
      "Upcoming Events\n",
      "Success Stories\n",
      "Use Python for…\n",
      "\n",
      ">>> Python Enhancement Proposals (PEPs): The future of Python is discussed here.\n",
      " RSS\n",
      "\n",
      "\n",
      ">>> Python Software Foundation\n",
      "\n"
     ]
    }
   ],
   "source": [
    "for tag in tags:\n",
    "    print(tag.getText())"
   ]
  },
  {
   "cell_type": "markdown",
   "id": "cf443cea",
   "metadata": {},
   "source": [
    "Usamos la función getText para imprimir solo el contenido interno de la etiqueta, pero si no usaste getText, terminarás con las etiquetas incluido todo lo que haya dentro de ellas."
   ]
  },
  {
   "cell_type": "markdown",
   "id": "7b9b49fb",
   "metadata": {},
   "source": [
    "### Obtener las etiquetas HTML usando findAll\n",
    "Vimos cómo findAll function filtra las etiquetas por clase, pero esto no es todo.\n",
    "\n",
    "Para filtrar una lista de etiquetas, reemplaza la línea resaltada del ejemplo anterior con la siguiente línea:"
   ]
  },
  {
   "cell_type": "code",
   "execution_count": null,
   "id": "c4b8ddc0",
   "metadata": {},
   "outputs": [],
   "source": [
    "#Este código obtiene todas las etiquetas span, a e img del código HTML descargado.\n",
    "tags = res.findAll(\"span\", \"a\" \"img\")"
   ]
  },
  {
   "cell_type": "markdown",
   "id": "4b173fcd",
   "metadata": {},
   "source": [
    "Además, puedes extraer etiquetas que tengan estas clases:"
   ]
  },
  {
   "cell_type": "code",
   "execution_count": null,
   "id": "23f2c3dc",
   "metadata": {},
   "outputs": [],
   "source": [
    "tags = res.findAll(\"a\", {\"class\": [\"url\", \"readmorebtn\"]})"
   ]
  },
  {
   "cell_type": "markdown",
   "id": "4a501767",
   "metadata": {},
   "source": [
    "Este código extrae todas las etiquetas a que tienen las clases readmorebtn y url.     \n",
    "Puedes filtrar el contenido en función del texto interno, utilizando el argumento text de esta manera:"
   ]
  },
  {
   "cell_type": "code",
   "execution_count": null,
   "id": "880d2e2c",
   "metadata": {},
   "outputs": [],
   "source": [
    "tags = res.findAll(text=\"Python Programming Basics with Examples\")"
   ]
  },
  {
   "cell_type": "markdown",
   "id": "c4464c68",
   "metadata": {},
   "source": [
    "La función findAll devuelve todos los elementos que coinciden con los atributos especificados, pero si deseas devolver un solo elemento, puedes usar el parámetro limit o usar la función find que solo devuelve el primer elemento."
   ]
  },
  {
   "cell_type": "markdown",
   "id": "abd12f70",
   "metadata": {},
   "source": [
    "### Buscar el enésimo hijo usando Beautiful Soup\n",
    "El objeto Beautiful Soup tiene muchas características potentes, puedes obtener elementos hijos directamente así:"
   ]
  },
  {
   "cell_type": "code",
   "execution_count": null,
   "id": "b5c8dc3d",
   "metadata": {},
   "outputs": [],
   "source": [
    "tags = res.span.findAll(\"a\")"
   ]
  },
  {
   "cell_type": "markdown",
   "id": "88486865",
   "metadata": {},
   "source": [
    "Esta línea obtendrá el primer elemento span en el objeto Beautiful Soup y luego obtendrá todos los elementos a en ese span.\n",
    "\n",
    "¿Qué pasa si necesitas conseguir el enésimo hijo?\n",
    "```python\n",
    "tag = res.find(\"nav\", {\"id\": \"site-navigation\"}).select(\"a\")[3]\n",
    "```\n",
    "\n",
    "Esta línea obtiene el elemento nav con id site-navigation y luego tomamos la cuarta etiqueta a de ese elemento nav.\n",
    "\n",
    "¡Beautiful Soup es brutaaaaaaaaaal!"
   ]
  },
  {
   "cell_type": "markdown",
   "id": "eb3fa61c",
   "metadata": {},
   "source": [
    "## Diferencia entre find_all() y select()"
   ]
  },
  {
   "cell_type": "markdown",
   "id": "b33d354d",
   "metadata": {},
   "source": [
    "#### Find_all\n",
    "[DOCUMENTACIÓN FINDALL](https://www.crummy.com/software/BeautifulSoup/bs4/doc/#calling-a-tag-is-like-calling-find-all)     \n",
    "El método find_all() escanea todo el documento en busca de resultados, pero a veces sólo se quiere encontrar un resultado. Si sabe que un documento sólo tiene una etiqueta <body>, es una pérdida de tiempo escanear todo el documento en busca de más. En lugar de pasar limit=1 cada vez que llame a find_all, puede utilizar el método find(). "
   ]
  },
  {
   "cell_type": "markdown",
   "id": "8b753fec",
   "metadata": {},
   "source": [
    "#### Select\n",
    "[DOCUMENTACIÓN SELECT](https://www.crummy.com/software/BeautifulSoup/bs4/doc/#css-selectors)     \n",
    "BeautifulSoup tiene un método .select() que utiliza el paquete SoupSieve para ejecutar un selector CSS contra un documento analizado y devolver todos los elementos coincidentes. Tag tiene un método similar que ejecuta un selector CSS contra el contenido de una sola etiqueta.\n",
    "\n",
    "(La integración de SoupSieve se añadió en Beautiful Soup 4.7.0.) Las versiones anteriores también tienen el método .select(), pero sólo se soportan los selectores CSS más utilizados. Si instalaste Beautiful Soup a través de pip, SoupSieve fue instalado al mismo tiempo, así que no tienes que hacer nada extra).\n",
    "\n",
    "La documentación de SoupSieve enumera todos los selectores CSS actualmente soportados"
   ]
  },
  {
   "cell_type": "markdown",
   "id": "2aa7e705",
   "metadata": {},
   "source": [
    "## Manos a la obra"
   ]
  },
  {
   "cell_type": "markdown",
   "id": "c492e787",
   "metadata": {},
   "source": [
    "### Ejemplo 1 Página de zapatillas de deporte"
   ]
  },
  {
   "cell_type": "markdown",
   "id": "c9673abb",
   "metadata": {},
   "source": [
    "Recuerda que tienes que instalar la librería beautifulsoup    "
   ]
  },
  {
   "cell_type": "code",
   "execution_count": 26,
   "id": "07f961bb",
   "metadata": {},
   "outputs": [],
   "source": [
    "#!pip install beautifulsoup4"
   ]
  },
  {
   "cell_type": "code",
   "execution_count": 1,
   "id": "5585b3e6",
   "metadata": {},
   "outputs": [],
   "source": [
    "import requests\n",
    "from bs4 import BeautifulSoup"
   ]
  },
  {
   "cell_type": "code",
   "execution_count": 2,
   "id": "d5c2ff5a",
   "metadata": {},
   "outputs": [],
   "source": [
    "import pandas as pd"
   ]
  },
  {
   "cell_type": "code",
   "execution_count": 26,
   "id": "3266f298",
   "metadata": {},
   "outputs": [],
   "source": [
    "url = \"https://www.murallasport.com/29-zapatillas-moda-mujer\"\n",
    "html = requests.get(url)\n",
    "soup = BeautifulSoup(html.content, \"html.parser\")"
   ]
  },
  {
   "cell_type": "code",
   "execution_count": 27,
   "id": "676b46b3",
   "metadata": {},
   "outputs": [],
   "source": [
    "nombres = soup.find_all(\"div\", {\"class\": \"name_product_box\"})"
   ]
  },
  {
   "cell_type": "code",
   "execution_count": 5,
   "id": "13d931e0",
   "metadata": {},
   "outputs": [
    {
     "data": {
      "text/plain": [
       "'Zapatilla Canvas Color Chuck Taylor All Star Mo...'"
      ]
     },
     "execution_count": 5,
     "metadata": {},
     "output_type": "execute_result"
    }
   ],
   "source": [
    "nombres[0].getText().strip()"
   ]
  },
  {
   "cell_type": "code",
   "execution_count": 6,
   "id": "5a617906",
   "metadata": {},
   "outputs": [
    {
     "name": "stdout",
     "output_type": "stream",
     "text": [
      "['Zapatilla Canvas Color Chuck Taylor All Star Mo...', 'Canvas Color Chuck Taylor All Star Move Low Top...', 'Zapatilla Mujer  Converse Lift  Hi Top  Beige', 'Zapatillas Mujer  Reebok Legacy 83  Verde', 'Zapatilla Adidas Mujer Courtphase Blanco', 'Zapatilla Nike Court Legacy Blanco', 'Zapatilla Mujer Nike Air Max Excee Blanco', 'Zapatilla Mujer New Balance 237  Multicolor', 'Zapatilla New Balance 237 Multicolor', 'Zapatilla Mujer Converse Move Hi Negro', 'Zapatilla Mujer Converse Move Hi Top Blanca', 'Zapatilla Mujer Skechers Bobs Squad Celeste', 'Zapatilla Mujer Skechers Bobs Squad Gris', 'Zapatilla Mujer Skechers Bobs Flex Blanco', 'Zapatilla Mujer Skechers Bobs Flex Negro', 'Zapatilla Mujer Skechers Ultraflex Marino', 'Zapatilla Mujer Skechers Ultra Flex 2.0 Negro', 'Zapatilla Mujer Skechers Skech-Air Dynamight Azul', 'Zapatilla Skechers Flex Advantage 2.0 Negro', 'Zapatilla Skechers Ultra Groove Azul', 'Zapatilla UNISEX Vans  CHECKERBOARD OLD SKOOL S...', 'Zapatilla Vans TIE DYE COMFYCUSH AUTHENTIC Mult...', 'Zapatilla  Vans Old Skool   Blanca', 'Zapatilla Vans Old Skool   Tie-Dye  Comfycush M...']\n"
     ]
    }
   ],
   "source": [
    "lista_nombres = [a.getText().strip() for a in nombres]\n",
    "print(lista_nombres)"
   ]
  },
  {
   "cell_type": "code",
   "execution_count": 7,
   "id": "aa3f9450",
   "metadata": {},
   "outputs": [],
   "source": [
    "#Seleccionamos los nombres de las zapatillas con el selector css utilizando select \n",
    "#obtenemos el mismo resultado que con findall\n",
    "nombres_ = soup.select(\"div.name_product_box\")"
   ]
  },
  {
   "cell_type": "code",
   "execution_count": 8,
   "id": "aa9acbc4",
   "metadata": {},
   "outputs": [],
   "source": [
    "marcas = soup.find_all(\"span\", {\"class\": \"marca-product-box\"})"
   ]
  },
  {
   "cell_type": "code",
   "execution_count": 12,
   "id": "82e6798b",
   "metadata": {},
   "outputs": [],
   "source": [
    "#otra sintaxis diferente\n",
    "marcas2 = soup.find_all( name = \"span\",\n",
    "                        class_= \"marca-product-box\"\n",
    ")"
   ]
  },
  {
   "cell_type": "code",
   "execution_count": 16,
   "id": "71ce3a25",
   "metadata": {},
   "outputs": [
    {
     "data": {
      "text/plain": [
       "[<span class=\"marca-product-box\">CONVERSE </span>,\n",
       " <span class=\"marca-product-box\">CONVERSE </span>,\n",
       " <span class=\"marca-product-box\">CONVERSE </span>,\n",
       " <span class=\"marca-product-box\">REEBOK </span>,\n",
       " <span class=\"marca-product-box\">ADIDAS </span>,\n",
       " <span class=\"marca-product-box\">NIKE </span>,\n",
       " <span class=\"marca-product-box\">NIKE </span>,\n",
       " <span class=\"marca-product-box\">NEW BALANCE </span>,\n",
       " <span class=\"marca-product-box\">NEW BALANCE </span>,\n",
       " <span class=\"marca-product-box\">CONVERSE </span>,\n",
       " <span class=\"marca-product-box\">CONVERSE </span>,\n",
       " <span class=\"marca-product-box\">SKECHERS </span>,\n",
       " <span class=\"marca-product-box\">SKECHERS </span>,\n",
       " <span class=\"marca-product-box\">SKECHERS </span>,\n",
       " <span class=\"marca-product-box\">SKECHERS </span>,\n",
       " <span class=\"marca-product-box\">SKECHERS </span>,\n",
       " <span class=\"marca-product-box\">SKECHERS </span>,\n",
       " <span class=\"marca-product-box\">SKECHERS </span>,\n",
       " <span class=\"marca-product-box\">SKECHERS </span>,\n",
       " <span class=\"marca-product-box\">SKECHERS </span>,\n",
       " <span class=\"marca-product-box\">VANS </span>,\n",
       " <span class=\"marca-product-box\">VANS </span>,\n",
       " <span class=\"marca-product-box\">VANS </span>,\n",
       " <span class=\"marca-product-box\">VANS </span>]"
      ]
     },
     "execution_count": 16,
     "metadata": {},
     "output_type": "execute_result"
    }
   ],
   "source": [
    "marcas2"
   ]
  },
  {
   "cell_type": "code",
   "execution_count": 14,
   "id": "b4f92a1f",
   "metadata": {},
   "outputs": [],
   "source": [
    "#sacamos las marcas también con el select\n",
    "marcas_select = soup.select(\"span.marca-product-box\")"
   ]
  },
  {
   "cell_type": "code",
   "execution_count": 15,
   "id": "756296ae",
   "metadata": {},
   "outputs": [
    {
     "name": "stdout",
     "output_type": "stream",
     "text": [
      "['CONVERSE ', 'CONVERSE ', 'CONVERSE ', 'REEBOK ', 'ADIDAS ', 'NIKE ', 'NIKE ', 'NEW BALANCE ', 'NEW BALANCE ', 'CONVERSE ', 'CONVERSE ', 'SKECHERS ', 'SKECHERS ', 'SKECHERS ', 'SKECHERS ', 'SKECHERS ', 'SKECHERS ', 'SKECHERS ', 'SKECHERS ', 'SKECHERS ', 'VANS ', 'VANS ', 'VANS ', 'VANS ']\n"
     ]
    }
   ],
   "source": [
    "lista_marcas = [marca.getText() for marca in marcas2]\n",
    "print(lista_marcas)"
   ]
  },
  {
   "cell_type": "code",
   "execution_count": 58,
   "id": "3d0fed63",
   "metadata": {},
   "outputs": [],
   "source": [
    "#lista de precios\n",
    "precios = soup.select(\"div.price_product_box\")"
   ]
  },
  {
   "cell_type": "code",
   "execution_count": 61,
   "id": "37d5e5cc",
   "metadata": {},
   "outputs": [],
   "source": [
    "precios_ = soup.find_all(\"div\", {\"class\":\"price_product_box\"})"
   ]
  },
  {
   "cell_type": "code",
   "execution_count": 64,
   "id": "b007eb46",
   "metadata": {},
   "outputs": [],
   "source": [
    "lista_precios = [precio.getText().strip() for precio in precios_]"
   ]
  },
  {
   "cell_type": "code",
   "execution_count": 67,
   "id": "32615a42",
   "metadata": {},
   "outputs": [],
   "source": [
    "diccionario = {\"Producto\": lista_nombres, \"Marca\": lista_marcas, \"Precio\": lista_precios}"
   ]
  },
  {
   "cell_type": "code",
   "execution_count": 70,
   "id": "f3c3b105",
   "metadata": {},
   "outputs": [
    {
     "data": {
      "text/html": [
       "<div>\n",
       "<style scoped>\n",
       "    .dataframe tbody tr th:only-of-type {\n",
       "        vertical-align: middle;\n",
       "    }\n",
       "\n",
       "    .dataframe tbody tr th {\n",
       "        vertical-align: top;\n",
       "    }\n",
       "\n",
       "    .dataframe thead th {\n",
       "        text-align: right;\n",
       "    }\n",
       "</style>\n",
       "<table border=\"1\" class=\"dataframe\">\n",
       "  <thead>\n",
       "    <tr style=\"text-align: right;\">\n",
       "      <th></th>\n",
       "      <th>Producto</th>\n",
       "      <th>Marca</th>\n",
       "      <th>Precio</th>\n",
       "    </tr>\n",
       "  </thead>\n",
       "  <tbody>\n",
       "    <tr>\n",
       "      <th>0</th>\n",
       "      <td>Zapatilla Mujer  Converse Lift  Hi Top  Beige</td>\n",
       "      <td>CONVERSE</td>\n",
       "      <td>85.00€</td>\n",
       "    </tr>\n",
       "    <tr>\n",
       "      <th>1</th>\n",
       "      <td>Zapatillas Mujer  Reebok Legacy 83  Verde</td>\n",
       "      <td>REEBOK</td>\n",
       "      <td>89.00€\\n100.00€</td>\n",
       "    </tr>\n",
       "    <tr>\n",
       "      <th>2</th>\n",
       "      <td>Zapatilla Adidas Mujer Courtphase Blanco</td>\n",
       "      <td>ADIDAS</td>\n",
       "      <td>70.00€</td>\n",
       "    </tr>\n",
       "    <tr>\n",
       "      <th>3</th>\n",
       "      <td>Zapatilla Nike Court Legacy Blanco</td>\n",
       "      <td>NIKE</td>\n",
       "      <td>64.99€</td>\n",
       "    </tr>\n",
       "    <tr>\n",
       "      <th>4</th>\n",
       "      <td>Zapatilla Mujer Nike Air Max Excee Blanco</td>\n",
       "      <td>NIKE</td>\n",
       "      <td>98.99€\\n109.99€</td>\n",
       "    </tr>\n",
       "  </tbody>\n",
       "</table>\n",
       "</div>"
      ],
      "text/plain": [
       "                                        Producto      Marca           Precio\n",
       "0  Zapatilla Mujer  Converse Lift  Hi Top  Beige  CONVERSE            85.00€\n",
       "1      Zapatillas Mujer  Reebok Legacy 83  Verde    REEBOK   89.00€\\n100.00€\n",
       "2       Zapatilla Adidas Mujer Courtphase Blanco    ADIDAS            70.00€\n",
       "3             Zapatilla Nike Court Legacy Blanco      NIKE            64.99€\n",
       "4      Zapatilla Mujer Nike Air Max Excee Blanco      NIKE   98.99€\\n109.99€"
      ]
     },
     "execution_count": 70,
     "metadata": {},
     "output_type": "execute_result"
    }
   ],
   "source": [
    "df = pd.DataFrame(diccionario)\n",
    "df.head()"
   ]
  },
  {
   "cell_type": "code",
   "execution_count": 73,
   "id": "6d4a7f78",
   "metadata": {},
   "outputs": [],
   "source": [
    "def limpia_precio(x):\n",
    "    x = x.split(\"\\n\")\n",
    "    x = x[0].split(\"€\")\n",
    "    return x[0] + \" €\""
   ]
  },
  {
   "cell_type": "code",
   "execution_count": 74,
   "id": "7a0d09fa",
   "metadata": {},
   "outputs": [
    {
     "data": {
      "text/html": [
       "<div>\n",
       "<style scoped>\n",
       "    .dataframe tbody tr th:only-of-type {\n",
       "        vertical-align: middle;\n",
       "    }\n",
       "\n",
       "    .dataframe tbody tr th {\n",
       "        vertical-align: top;\n",
       "    }\n",
       "\n",
       "    .dataframe thead th {\n",
       "        text-align: right;\n",
       "    }\n",
       "</style>\n",
       "<table border=\"1\" class=\"dataframe\">\n",
       "  <thead>\n",
       "    <tr style=\"text-align: right;\">\n",
       "      <th></th>\n",
       "      <th>Producto</th>\n",
       "      <th>Marca</th>\n",
       "      <th>Precio</th>\n",
       "    </tr>\n",
       "  </thead>\n",
       "  <tbody>\n",
       "    <tr>\n",
       "      <th>0</th>\n",
       "      <td>Zapatilla Mujer  Converse Lift  Hi Top  Beige</td>\n",
       "      <td>CONVERSE</td>\n",
       "      <td>85.00 €</td>\n",
       "    </tr>\n",
       "    <tr>\n",
       "      <th>1</th>\n",
       "      <td>Zapatillas Mujer  Reebok Legacy 83  Verde</td>\n",
       "      <td>REEBOK</td>\n",
       "      <td>89.00 €</td>\n",
       "    </tr>\n",
       "    <tr>\n",
       "      <th>2</th>\n",
       "      <td>Zapatilla Adidas Mujer Courtphase Blanco</td>\n",
       "      <td>ADIDAS</td>\n",
       "      <td>70.00 €</td>\n",
       "    </tr>\n",
       "    <tr>\n",
       "      <th>3</th>\n",
       "      <td>Zapatilla Nike Court Legacy Blanco</td>\n",
       "      <td>NIKE</td>\n",
       "      <td>64.99 €</td>\n",
       "    </tr>\n",
       "    <tr>\n",
       "      <th>4</th>\n",
       "      <td>Zapatilla Mujer Nike Air Max Excee Blanco</td>\n",
       "      <td>NIKE</td>\n",
       "      <td>98.99 €</td>\n",
       "    </tr>\n",
       "  </tbody>\n",
       "</table>\n",
       "</div>"
      ],
      "text/plain": [
       "                                        Producto      Marca   Precio\n",
       "0  Zapatilla Mujer  Converse Lift  Hi Top  Beige  CONVERSE   85.00 €\n",
       "1      Zapatillas Mujer  Reebok Legacy 83  Verde    REEBOK   89.00 €\n",
       "2       Zapatilla Adidas Mujer Courtphase Blanco    ADIDAS   70.00 €\n",
       "3             Zapatilla Nike Court Legacy Blanco      NIKE   64.99 €\n",
       "4      Zapatilla Mujer Nike Air Max Excee Blanco      NIKE   98.99 €"
      ]
     },
     "execution_count": 74,
     "metadata": {},
     "output_type": "execute_result"
    }
   ],
   "source": [
    "df.Precio = df.Precio.apply(limpia_precio)\n",
    "df.head()"
   ]
  },
  {
   "cell_type": "markdown",
   "id": "ea673d15",
   "metadata": {},
   "source": [
    "### Ejemplo wikipedia medallero"
   ]
  },
  {
   "cell_type": "code",
   "execution_count": 77,
   "id": "4158a044",
   "metadata": {},
   "outputs": [],
   "source": [
    "url_medallero='https://es.wikipedia.org/wiki/Juegos_Ol%C3%ADmpicos_de_Barcelona_1992'\n",
    "html_medallero = requests.get(url_medallero)"
   ]
  },
  {
   "cell_type": "code",
   "execution_count": 82,
   "id": "ea44fa66",
   "metadata": {},
   "outputs": [],
   "source": [
    "#soup\n",
    "soup = BeautifulSoup(html_medallero.content, \"html.parser\")"
   ]
  },
  {
   "cell_type": "code",
   "execution_count": 85,
   "id": "05ddb76c",
   "metadata": {},
   "outputs": [
    {
     "data": {
      "text/plain": [
       "14"
      ]
     },
     "execution_count": 85,
     "metadata": {},
     "output_type": "execute_result"
    }
   ],
   "source": [
    "#Tablas :)\n",
    "tablas = soup.find_all(\"table\")\n",
    "len(tablas)"
   ]
  },
  {
   "cell_type": "code",
   "execution_count": 92,
   "id": "85714ea4",
   "metadata": {},
   "outputs": [],
   "source": [
    "# Aquí hemos seleccionado la última tabla de la página de wikipedia\n",
    "ultima = tablas[-1]"
   ]
  },
  {
   "cell_type": "code",
   "execution_count": 104,
   "id": "78bb3bbb",
   "metadata": {},
   "outputs": [
    {
     "data": {
      "text/plain": [
       "<a href=\"/wiki/Control_de_autoridades\" title=\"Control de autoridades\">Control de autoridades</a>"
      ]
     },
     "execution_count": 104,
     "metadata": {},
     "output_type": "execute_result"
    }
   ],
   "source": [
    "# Busco todo lo que tenga la etiqueta \"a\" y como findall me devuelve una lista, me quedo con el primer elemento\n",
    "#porque vamos a ver unas funcionalidades de soup \n",
    "elemento = ultima.find_all(\"a\")[0]\n",
    "elemento"
   ]
  },
  {
   "cell_type": "code",
   "execution_count": 105,
   "id": "17ef2c77",
   "metadata": {},
   "outputs": [
    {
     "data": {
      "text/plain": [
       "'Control de autoridades'"
      ]
     },
     "execution_count": 105,
     "metadata": {},
     "output_type": "execute_result"
    }
   ],
   "source": [
    "# contenido de la caja, en este caso texto\n",
    "elemento.text"
   ]
  },
  {
   "cell_type": "code",
   "execution_count": 106,
   "id": "f698e626",
   "metadata": {},
   "outputs": [
    {
     "data": {
      "text/plain": [
       "['Control de autoridades']"
      ]
     },
     "execution_count": 106,
     "metadata": {},
     "output_type": "execute_result"
    }
   ],
   "source": [
    "# contenido como una lista\n",
    "elemento.contents"
   ]
  },
  {
   "cell_type": "code",
   "execution_count": 100,
   "id": "e322fd67",
   "metadata": {},
   "outputs": [
    {
     "data": {
      "text/plain": [
       "{'href': '/wiki/Control_de_autoridades', 'title': 'Control de autoridades'}"
      ]
     },
     "execution_count": 100,
     "metadata": {},
     "output_type": "execute_result"
    }
   ],
   "source": [
    "# sticker en la tapa de la caja\n",
    "elemento.attrs"
   ]
  },
  {
   "cell_type": "code",
   "execution_count": 101,
   "id": "d81093ec",
   "metadata": {},
   "outputs": [
    {
     "data": {
      "text/plain": [
       "dict"
      ]
     },
     "execution_count": 101,
     "metadata": {},
     "output_type": "execute_result"
    }
   ],
   "source": [
    "type(elemento.attrs)"
   ]
  },
  {
   "cell_type": "code",
   "execution_count": 110,
   "id": "a080bd1a",
   "metadata": {},
   "outputs": [],
   "source": [
    "#medallero\n",
    "medallero = soup.find_all(\"table\")[-4]"
   ]
  },
  {
   "cell_type": "code",
   "execution_count": 122,
   "id": "474b22f9",
   "metadata": {},
   "outputs": [
    {
     "data": {
      "text/plain": [
       "'Equipo Unificado'"
      ]
     },
     "execution_count": 122,
     "metadata": {},
     "output_type": "execute_result"
    }
   ],
   "source": [
    "medallero.find_all(\"tr\")[1].find_all(\"td\")[1].find(\"a\").text.strip()"
   ]
  },
  {
   "cell_type": "code",
   "execution_count": 124,
   "id": "aeab7ee5",
   "metadata": {},
   "outputs": [
    {
     "data": {
      "text/plain": [
       "<td>45</td>"
      ]
     },
     "execution_count": 124,
     "metadata": {},
     "output_type": "execute_result"
    }
   ],
   "source": [
    "medallero.find_all(\"tr\")[1].find_all(\"td\")[2]"
   ]
  },
  {
   "cell_type": "code",
   "execution_count": 125,
   "id": "2f75cf81",
   "metadata": {},
   "outputs": [
    {
     "data": {
      "text/plain": [
       "<td>38</td>"
      ]
     },
     "execution_count": 125,
     "metadata": {},
     "output_type": "execute_result"
    }
   ],
   "source": [
    "medallero.find_all(\"tr\")[1].find_all(\"td\")[3]"
   ]
  },
  {
   "cell_type": "code",
   "execution_count": 126,
   "id": "85ccfa43",
   "metadata": {},
   "outputs": [],
   "source": [
    "med_paises = []\n",
    "for f in medallero.find_all(\"tr\"): #lista con las filas de la  tabla\n",
    "    fila = [e for e in f.find_all(\"td\")] # elementos dentro de la fila\n",
    "    if len(fila) > 0 :\n",
    "        pais = {\n",
    "            \"nombre\": fila[1].find(\"a\").text.strip(),\n",
    "            \"oros\": int(fila[2].text),\n",
    "            \"platas\": int(fila[3].text),\n",
    "            \"bronce\": int(fila[4].text)\n",
    "            \n",
    "        }\n",
    "        med_paises.append(pais)"
   ]
  },
  {
   "cell_type": "code",
   "execution_count": 128,
   "id": "4061d2ce",
   "metadata": {},
   "outputs": [
    {
     "data": {
      "text/html": [
       "<div>\n",
       "<style scoped>\n",
       "    .dataframe tbody tr th:only-of-type {\n",
       "        vertical-align: middle;\n",
       "    }\n",
       "\n",
       "    .dataframe tbody tr th {\n",
       "        vertical-align: top;\n",
       "    }\n",
       "\n",
       "    .dataframe thead th {\n",
       "        text-align: right;\n",
       "    }\n",
       "</style>\n",
       "<table border=\"1\" class=\"dataframe\">\n",
       "  <thead>\n",
       "    <tr style=\"text-align: right;\">\n",
       "      <th></th>\n",
       "      <th>nombre</th>\n",
       "      <th>oros</th>\n",
       "      <th>platas</th>\n",
       "      <th>bronce</th>\n",
       "    </tr>\n",
       "  </thead>\n",
       "  <tbody>\n",
       "    <tr>\n",
       "      <th>0</th>\n",
       "      <td>Equipo Unificado</td>\n",
       "      <td>45</td>\n",
       "      <td>38</td>\n",
       "      <td>29</td>\n",
       "    </tr>\n",
       "    <tr>\n",
       "      <th>1</th>\n",
       "      <td>Estados Unidos</td>\n",
       "      <td>37</td>\n",
       "      <td>34</td>\n",
       "      <td>37</td>\n",
       "    </tr>\n",
       "    <tr>\n",
       "      <th>2</th>\n",
       "      <td>Alemania</td>\n",
       "      <td>33</td>\n",
       "      <td>21</td>\n",
       "      <td>28</td>\n",
       "    </tr>\n",
       "    <tr>\n",
       "      <th>3</th>\n",
       "      <td>China</td>\n",
       "      <td>16</td>\n",
       "      <td>22</td>\n",
       "      <td>16</td>\n",
       "    </tr>\n",
       "    <tr>\n",
       "      <th>4</th>\n",
       "      <td>Cuba</td>\n",
       "      <td>14</td>\n",
       "      <td>6</td>\n",
       "      <td>11</td>\n",
       "    </tr>\n",
       "  </tbody>\n",
       "</table>\n",
       "</div>"
      ],
      "text/plain": [
       "             nombre  oros  platas  bronce\n",
       "0  Equipo Unificado    45      38      29\n",
       "1    Estados Unidos    37      34      37\n",
       "2          Alemania    33      21      28\n",
       "3             China    16      22      16\n",
       "4              Cuba    14       6      11"
      ]
     },
     "execution_count": 128,
     "metadata": {},
     "output_type": "execute_result"
    }
   ],
   "source": [
    "data = pd.DataFrame(med_paises)\n",
    "data.head()"
   ]
  },
  {
   "cell_type": "markdown",
   "id": "c0a45c74",
   "metadata": {},
   "source": [
    "### Ejemplo Wikipedia Enlaces"
   ]
  },
  {
   "cell_type": "code",
   "execution_count": 129,
   "id": "0015c0d0",
   "metadata": {},
   "outputs": [],
   "source": [
    "url_rufus = \"https://es.wikipedia.org/wiki/Rufus_T._Firefly\""
   ]
  },
  {
   "cell_type": "markdown",
   "id": "5ad8ed3d",
   "metadata": {},
   "source": [
    "Documentación de Beautiful Soup     \n",
    "KeyError: [attr] - Caused by accessing tag['attr'] when the tag in question doesn’t define the attr attribute. The most common errors are KeyError: 'href' and KeyError: 'class'. Use tag.get('attr') if you’re not sure attr is defined, just as you would with a Python dictionary."
   ]
  },
  {
   "cell_type": "code",
   "execution_count": 130,
   "id": "cbca3ff9",
   "metadata": {},
   "outputs": [],
   "source": [
    "res_rufus = requests.get(url_rufus)"
   ]
  },
  {
   "cell_type": "code",
   "execution_count": 132,
   "id": "75563297",
   "metadata": {},
   "outputs": [],
   "source": [
    "# Acordaos de poner el content pls\n",
    "soup = BeautifulSoup(res_rufus.content, \"html.parser\")"
   ]
  },
  {
   "cell_type": "code",
   "execution_count": 160,
   "id": "502a79fd",
   "metadata": {},
   "outputs": [],
   "source": [
    "tags = soup(\"a\")\n",
    "# BeautifulSoup me permite extraer los atributos si conozco el nombre con .get\n",
    "enlaces = [tag.get(\"href\") for tag in tags]"
   ]
  },
  {
   "cell_type": "code",
   "execution_count": 161,
   "id": "b34a01d6",
   "metadata": {},
   "outputs": [
    {
     "ename": "KeyError",
     "evalue": "'href'",
     "output_type": "error",
     "traceback": [
      "\u001b[0;31m---------------------------------------------------------------------------\u001b[0m",
      "\u001b[0;31mKeyError\u001b[0m                                  Traceback (most recent call last)",
      "\u001b[0;32m<ipython-input-161-98edf81e8b94>\u001b[0m in \u001b[0;36m<module>\u001b[0;34m\u001b[0m\n\u001b[1;32m      1\u001b[0m \u001b[0;31m# Si no todos los elementos tienen href este método no funciona\u001b[0m\u001b[0;34m\u001b[0m\u001b[0;34m\u001b[0m\u001b[0;34m\u001b[0m\u001b[0m\n\u001b[0;32m----> 2\u001b[0;31m \u001b[0menlaces2\u001b[0m \u001b[0;34m=\u001b[0m \u001b[0;34m[\u001b[0m\u001b[0mtag\u001b[0m\u001b[0;34m.\u001b[0m\u001b[0mattrs\u001b[0m\u001b[0;34m[\u001b[0m\u001b[0;34m\"href\"\u001b[0m\u001b[0;34m]\u001b[0m \u001b[0;32mfor\u001b[0m \u001b[0mtag\u001b[0m \u001b[0;32min\u001b[0m \u001b[0mtags\u001b[0m\u001b[0;34m]\u001b[0m\u001b[0;34m\u001b[0m\u001b[0;34m\u001b[0m\u001b[0m\n\u001b[0m",
      "\u001b[0;32m<ipython-input-161-98edf81e8b94>\u001b[0m in \u001b[0;36m<listcomp>\u001b[0;34m(.0)\u001b[0m\n\u001b[1;32m      1\u001b[0m \u001b[0;31m# Si no todos los elementos tienen href este método no funciona\u001b[0m\u001b[0;34m\u001b[0m\u001b[0;34m\u001b[0m\u001b[0;34m\u001b[0m\u001b[0m\n\u001b[0;32m----> 2\u001b[0;31m \u001b[0menlaces2\u001b[0m \u001b[0;34m=\u001b[0m \u001b[0;34m[\u001b[0m\u001b[0mtag\u001b[0m\u001b[0;34m.\u001b[0m\u001b[0mattrs\u001b[0m\u001b[0;34m[\u001b[0m\u001b[0;34m\"href\"\u001b[0m\u001b[0;34m]\u001b[0m \u001b[0;32mfor\u001b[0m \u001b[0mtag\u001b[0m \u001b[0;32min\u001b[0m \u001b[0mtags\u001b[0m\u001b[0;34m]\u001b[0m\u001b[0;34m\u001b[0m\u001b[0;34m\u001b[0m\u001b[0m\n\u001b[0m",
      "\u001b[0;31mKeyError\u001b[0m: 'href'"
     ]
    }
   ],
   "source": [
    "# Si no todos los elementos tienen href este método no funciona\n",
    "enlaces2 = [tag.attrs[\"href\"] for tag in tags]"
   ]
  },
  {
   "cell_type": "code",
   "execution_count": 167,
   "id": "069fb07d",
   "metadata": {},
   "outputs": [],
   "source": [
    "enlaces_final = [enlace for enlace in enlaces[1:] if \"http\" in enlace]"
   ]
  },
  {
   "cell_type": "code",
   "execution_count": 169,
   "id": "e53618ab",
   "metadata": {},
   "outputs": [
    {
     "data": {
      "text/plain": [
       "['http://rufustf.com',\n",
       " 'https://www.wikidata.org/wiki/Q12201456',\n",
       " 'https://web.archive.org/web/20150406144829/http://www.elmundodetulsa.com/2009/03/rufus-t-firefly-my-synthetic-heart-2008.html',\n",
       " 'http://www.elmundodetulsa.com/2009/03/rufus-t-firefly-my-synthetic-heart-2008.html',\n",
       " 'http://www.latribunadeciudadreal.es/noticia.cfm/Vivir%20/20090617/ganador/iv/edicion/explosion/local/volvera/protagonizar/videoclip/EA8B24E7-1A64-968D-5921264AC0C50118',\n",
       " 'http://mondosonoro.com/Critica-Discos/Rufus-T-Firefly-en-ascenso/RUFUS-T-FIREFLY/7954.aspx',\n",
       " 'https://web.archive.org/web/20130616100127/http://www.rivasciudad.es/portal/contenedor_ficha.jsp?seccion=s_fdes_d4_v3.jsp&codbusqueda=527&language=es&codResi=1&codMenuPN=38&codMenuSN=42&codMenu=616&layout=contenedor_ficha.jsp&area=24',\n",
       " 'http://www.rivasciudad.es/portal/contenedor_ficha.jsp?seccion=s_fdes_d4_v3.jsp&codbusqueda=527&language=es&codResi=1&codMenuPN=38&codMenuSN=42&codMenu=616&layout=contenedor_ficha.jsp&area=24',\n",
       " 'http://poprocklaredo.webcindario.com/final2011.html',\n",
       " 'https://web.archive.org/web/20130430135359/http://origamirecords.com/rufus-t-firefly',\n",
       " 'http://www.origamirecords.com/rufus-t-firefly',\n",
       " 'https://www.diariodelaltoaragon.es/SuplementosNoticiasDetalle.aspx?Sup=5&Id=777347',\n",
       " 'http://cultura.elpais.com/cultura/2012/10/31/tentaciones/1351707005_147480.html',\n",
       " 'http://www.mondosonoro.com/Noticia/Los-Mejores-Discos-Nacionales-de-2012-Del-20-al-11/221634.aspx',\n",
       " 'http://blog.rtve.es/hoyempiezatodo/2012/09/page/2/',\n",
       " 'http://musicisnatural.com/rufus-t-firefly-groucho-estaria-orgulloso/',\n",
       " 'https://plus.google.com/+Musicisnaturalplus',\n",
       " 'https://madridandmusic.es/2018/10/18/rufus-t-firefly-madrid-music/',\n",
       " 'http://www.rufustf.com',\n",
       " 'https://www.facebook.com/rufustfoficial?fref=ts',\n",
       " 'https://twitter.com/_RufusTFirefly_',\n",
       " 'https://musicbrainz.org/artist/d902ed3e-1e77-4b5d-86b5-58e46718bbf7.html',\n",
       " 'http://cmon.fcdmurcia.es/entrevista-con-victor-cabezuelo-de-rufus-t-firefly/',\n",
       " 'https://www.wikidata.org/wiki/Q12201456',\n",
       " 'https://viaf.org/viaf/169532340',\n",
       " 'https://www.wikidata.org/wiki/Q12201456',\n",
       " 'https://es.wikipedia.org/w/index.php?title=Rufus_T._Firefly&oldid=133403537',\n",
       " 'https://www.wikidata.org/wiki/Special:EntityPage/Q12201456',\n",
       " 'https://fr.wikipedia.org/wiki/Rufus_T._Firefly',\n",
       " 'https://www.wikidata.org/wiki/Special:EntityPage/Q12201456#sitelinks-wikipedia',\n",
       " 'http://creativecommons.org/licenses/by-sa/3.0/',\n",
       " 'https://meta.wikimedia.org/wiki/Privacy_policy/es',\n",
       " 'https://www.mediawiki.org/wiki/Special:MyLanguage/How_to_contribute',\n",
       " 'https://stats.wikimedia.org/#/es.wikipedia.org',\n",
       " 'https://foundation.wikimedia.org/wiki/Cookie_statement/es',\n",
       " 'https://wikimediafoundation.org/',\n",
       " 'https://www.mediawiki.org/']"
      ]
     },
     "execution_count": 169,
     "metadata": {},
     "output_type": "execute_result"
    }
   ],
   "source": [
    "enlaces_final"
   ]
  },
  {
   "cell_type": "code",
   "execution_count": 176,
   "id": "58dd7fb3",
   "metadata": {},
   "outputs": [],
   "source": [
    "#enlaces"
   ]
  },
  {
   "cell_type": "markdown",
   "id": "a2e7b580",
   "metadata": {},
   "source": [
    "## Summary\n",
    "\n",
    "- Utilizamos la librería beautifulsouip\n",
    "- Diferencias entre html css y javascript - (nos quedamos con el html y  a veces nos sirven las clases del css)\n",
    "- Diferencia entre select y findall (select selectores css y findall etiquetas html)\n",
    "- getText y .text para extraer la información final, el dato, el texto\n",
    "- .get(\"loquesea\") para obtener lo que hay dentro de ese atributo \"loquesea\"\n"
   ]
  }
 ],
 "metadata": {
  "kernelspec": {
   "display_name": "Python 3",
   "language": "python",
   "name": "python3"
  },
  "language_info": {
   "codemirror_mode": {
    "name": "ipython",
    "version": 3
   },
   "file_extension": ".py",
   "mimetype": "text/x-python",
   "name": "python",
   "nbconvert_exporter": "python",
   "pygments_lexer": "ipython3",
   "version": "3.8.8"
  },
  "toc": {
   "base_numbering": 1,
   "nav_menu": {},
   "number_sections": true,
   "sideBar": true,
   "skip_h1_title": true,
   "title_cell": "Table of Contents",
   "title_sidebar": "Contents",
   "toc_cell": true,
   "toc_position": {},
   "toc_section_display": true,
   "toc_window_display": true
  }
 },
 "nbformat": 4,
 "nbformat_minor": 5
}
