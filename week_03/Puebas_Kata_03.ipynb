{
 "cells": [
  {
   "cell_type": "code",
   "execution_count": 1,
   "metadata": {},
   "outputs": [
    {
     "data": {
      "text/plain": [
       "[9.25, {'h': 4, 'a': 0, 'l': 0}, 'They did well']"
      ]
     },
     "execution_count": 1,
     "metadata": {},
     "output_type": "execute_result"
    }
   ],
   "source": [
    "def test(r):\n",
    "    class_average = round((sum(r)/len(r)), 3)\n",
    "    dictionary = {'h' : 0, 'a' : 0, 'l' : 0}\n",
    "\n",
    "    for nota in r:\n",
    "        if nota > 8:\n",
    "            dictionary['h'] += 1\n",
    "        \n",
    "        elif nota > 6:\n",
    "            dictionary['a'] += 1\n",
    "            \n",
    "        else:\n",
    "            dictionary['l'] += 1\n",
    "    \n",
    "    \n",
    "    if dictionary['l'] == 0 and dictionary['a'] == 0:\n",
    "        return [class_average, dictionary, \"They did well\"]\n",
    "    else:\n",
    "        return [class_average, dictionary]\n",
    "    \n",
    "    \n",
    "    \n",
    "    \n",
    "\n",
    "    \n",
    "test ([10, 9, 9, 9])"
   ]
  },
  {
   "cell_type": "code",
   "execution_count": null,
   "metadata": {},
   "outputs": [],
   "source": [
    "def count_smileys(arr):\n",
    "    if len(arr) == 0:\n",
    "        return 0\n",
    "    \n",
    "    \n",
    "    ojos = [':', ';']\n",
    "    boca = [')', 'D']\n",
    "    nariz = ['-', '~']\n",
    "    \n",
    "    smileys = 0\n",
    "    \n",
    "    for elem in arr:\n",
    "        if elem[0] in ojos and elem[-1] in boca:\n",
    "            if len(elem) > 2 and elem[1] in nariz:\n",
    "                smileys += 1\n",
    "                \n",
    "    return smileys"
   ]
  }
 ],
 "metadata": {
  "kernelspec": {
   "display_name": "Python 3",
   "language": "python",
   "name": "python3"
  },
  "language_info": {
   "codemirror_mode": {
    "name": "ipython",
    "version": 3
   },
   "file_extension": ".py",
   "mimetype": "text/x-python",
   "name": "python",
   "nbconvert_exporter": "python",
   "pygments_lexer": "ipython3",
   "version": "3.8.5"
  }
 },
 "nbformat": 4,
 "nbformat_minor": 4
}
