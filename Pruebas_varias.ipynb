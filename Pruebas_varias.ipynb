{
 "cells": [
  {
   "cell_type": "markdown",
   "id": "stainless-adjustment",
   "metadata": {},
   "source": [
    "## Cómo contar el número de veces que se repita un palabra en una frase"
   ]
  },
  {
   "cell_type": "code",
   "execution_count": 22,
   "id": "equipped-number",
   "metadata": {},
   "outputs": [],
   "source": [
    "cadena = 'En algunas ocasiones, debemos de hacer zoom (alejando y acercando) en una imagen o documento en concreto (ya sea para pulsar algo o para observar un texto más pequeño, por ejemplo). Para ello, usaremos la propiedad de transformación que permite hacer cualquier movimiento rotatorio o acercar y alejar la pantalla. En Firefox se puede usar MozTransform, tal y como vemos en el ejemplo:'"
   ]
  },
  {
   "cell_type": "code",
   "execution_count": 23,
   "id": "acceptable-bailey",
   "metadata": {},
   "outputs": [],
   "source": [
    "cadena = cadena.lower()"
   ]
  },
  {
   "cell_type": "code",
   "execution_count": 26,
   "id": "defined-margin",
   "metadata": {},
   "outputs": [],
   "source": [
    "transTable = cadena.maketrans(\"\", \"\", \",.-;:_[]()=/*-+¿?¡!\\\"\")\n",
    "cadena = cadena.translate(transTable)"
   ]
  },
  {
   "cell_type": "code",
   "execution_count": 34,
   "id": "abstract-minute",
   "metadata": {},
   "outputs": [],
   "source": [
    "cadena = cadena.split(' ')"
   ]
  },
  {
   "cell_type": "code",
   "execution_count": 44,
   "id": "armed-lyric",
   "metadata": {},
   "outputs": [],
   "source": [
    "veces = dict"
   ]
  },
  {
   "cell_type": "code",
   "execution_count": 45,
   "id": "federal-czech",
   "metadata": {},
   "outputs": [],
   "source": [
    "for elem in cadena:\n",
    "    try:\n",
    "        veces[elem] +=1\n",
    "    except:\n",
    "        veces[elem] = 1"
   ]
  },
  {
   "cell_type": "code",
   "execution_count": 56,
   "id": "european-study",
   "metadata": {},
   "outputs": [
    {
     "data": {
      "text/plain": [
       "'en'"
      ]
     },
     "execution_count": 56,
     "metadata": {},
     "output_type": "execute_result"
    }
   ],
   "source": [
    "max(veces.items(), key = lambda x : x[1])[0]"
   ]
  }
 ],
 "metadata": {
  "kernelspec": {
   "display_name": "Python 3",
   "language": "python",
   "name": "python3"
  },
  "language_info": {
   "codemirror_mode": {
    "name": "ipython",
    "version": 3
   },
   "file_extension": ".py",
   "mimetype": "text/x-python",
   "name": "python",
   "nbconvert_exporter": "python",
   "pygments_lexer": "ipython3",
   "version": "3.8.5"
  }
 },
 "nbformat": 4,
 "nbformat_minor": 5
}
