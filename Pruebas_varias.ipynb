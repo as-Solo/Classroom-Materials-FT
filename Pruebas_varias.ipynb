{
 "cells": [
  {
   "cell_type": "markdown",
   "id": "square-gross",
   "metadata": {},
   "source": [
    "## Cómo contar el número de veces que se repita un palabra en una frase"
   ]
  },
  {
   "cell_type": "code",
   "execution_count": 22,
   "id": "animated-comedy",
   "metadata": {},
   "outputs": [],
   "source": [
    "cadena = 'En algunas ocasiones, debemos de hacer zoom (alejando y acercando) en una imagen o documento en concreto (ya sea para pulsar algo o para observar un texto más pequeño, por ejemplo). Para ello, usaremos la propiedad de transformación que permite hacer cualquier movimiento rotatorio o acercar y alejar la pantalla. En Firefox se puede usar MozTransform, tal y como vemos en el ejemplo:'"
   ]
  },
  {
   "cell_type": "code",
   "execution_count": 23,
   "id": "mathematical-camel",
   "metadata": {},
   "outputs": [],
   "source": [
    "cadena = cadena.lower()"
   ]
  },
  {
   "cell_type": "code",
   "execution_count": 26,
   "id": "modified-display",
   "metadata": {},
   "outputs": [],
   "source": [
    "transTable = cadena.maketrans(\"\", \"\", \",.-;:_[]()=/*-+¿?¡!\\\"\")\n",
    "cadena = cadena.translate(transTable)"
   ]
  },
  {
   "cell_type": "code",
   "execution_count": 34,
   "id": "congressional-bleeding",
   "metadata": {},
   "outputs": [],
   "source": [
    "cadena = cadena.split(' ')"
   ]
  },
  {
   "cell_type": "code",
   "execution_count": 44,
   "id": "cellular-watts",
   "metadata": {},
   "outputs": [],
   "source": [
    "veces = dict"
   ]
  },
  {
   "cell_type": "code",
   "execution_count": 45,
   "id": "harmful-strand",
   "metadata": {},
   "outputs": [],
   "source": [
    "for elem in cadena:\n",
    "    try:\n",
    "        veces[elem] +=1\n",
    "    except:\n",
    "        veces[elem] = 1"
   ]
  },
  {
   "cell_type": "code",
   "execution_count": 56,
   "id": "detected-biodiversity",
   "metadata": {},
   "outputs": [
    {
     "data": {
      "text/plain": [
       "'en'"
      ]
     },
     "execution_count": 56,
     "metadata": {},
     "output_type": "execute_result"
    }
   ],
   "source": [
    "max(veces.items(), key = lambda x : x[1])[0]"
   ]
  },
  {
   "cell_type": "markdown",
   "id": "rental-kruger",
   "metadata": {},
   "source": [
    "## EJEMPLOS DE TRATAMIENTO DE COLUMNAS EN PANDAS"
   ]
  },
  {
   "cell_type": "markdown",
   "id": "interpreted-direction",
   "metadata": {},
   "source": [
    "Cambia todos los nombres de la columna SERVER por algo (en este caso mira si la celda contiene una palabra y de ser así cambia el valor de la celda por esa palabra)"
   ]
  },
  {
   "cell_type": "code",
   "execution_count": null,
   "id": "sixth-burton",
   "metadata": {},
   "outputs": [],
   "source": [
    "servers = [\"Microsoft\", \"Apache\", \"nginx\"]\n",
    "for s in servers:\n",
    "    websites[\"SERVER\"] = websites[\"SERVER\"].apply(lambda x: s if s in x else x)"
   ]
  },
  {
   "cell_type": "markdown",
   "id": "young-mathematics",
   "metadata": {},
   "source": [
    "La primera parte lo que hace es seleccionar todo lo que no coincida con la condicion que se ha puesto (por la virgulilla ~). Y en este caso, le cambia el valor por 'OTHER'"
   ]
  },
  {
   "cell_type": "code",
   "execution_count": null,
   "id": "economic-orleans",
   "metadata": {},
   "outputs": [],
   "source": [
    "websites.loc[~websites[\"WHOIS_COUNTRY\"].isin(top_ten), \"WHOIS_COUNTRY\"] = 'OTHER'"
   ]
  },
  {
   "cell_type": "markdown",
   "id": "loaded-catalog",
   "metadata": {},
   "source": []
  },
  {
   "cell_type": "code",
   "execution_count": null,
   "id": "endless-arena",
   "metadata": {},
   "outputs": [],
   "source": [
    "X = website.loc[:, website.columns != 'Type']"
   ]
  }
 ],
 "metadata": {
  "kernelspec": {
   "display_name": "Python 3",
   "language": "python",
   "name": "python3"
  },
  "language_info": {
   "codemirror_mode": {
    "name": "ipython",
    "version": 3
   },
   "file_extension": ".py",
   "mimetype": "text/x-python",
   "name": "python",
   "nbconvert_exporter": "python",
   "pygments_lexer": "ipython3",
   "version": "3.8.5"
  }
 },
 "nbformat": 4,
 "nbformat_minor": 5
}
