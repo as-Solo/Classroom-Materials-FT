{
 "cells": [
  {
   "cell_type": "code",
   "execution_count": 21,
   "id": "chemical-hotel",
   "metadata": {},
   "outputs": [],
   "source": [
    "lista = [6, 8, 9, 10]"
   ]
  },
  {
   "cell_type": "code",
   "execution_count": 43,
   "id": "legal-collaboration",
   "metadata": {},
   "outputs": [],
   "source": [
    "lista_bin = [bin(6), bin(8), bin(9), bin(10), bin(12)]"
   ]
  },
  {
   "cell_type": "code",
   "execution_count": 88,
   "id": "efficient-advisory",
   "metadata": {},
   "outputs": [
    {
     "data": {
      "text/plain": [
       "['0b1000', '0b1001', '0b1010', '0b110', '0b1100']"
      ]
     },
     "execution_count": 88,
     "metadata": {},
     "output_type": "execute_result"
    }
   ],
   "source": [
    "sorted(lista_bin)"
   ]
  },
  {
   "cell_type": "code",
   "execution_count": 90,
   "id": "departmental-defensive",
   "metadata": {
    "scrolled": true
   },
   "outputs": [
    {
     "data": {
      "text/plain": [
       "['0b1000', '0b1001', '0b1010', '0b110', '0b1100']"
      ]
     },
     "execution_count": 90,
     "metadata": {},
     "output_type": "execute_result"
    }
   ],
   "source": [
    "sorted(lista_bin)"
   ]
  },
  {
   "cell_type": "code",
   "execution_count": 92,
   "id": "minute-offer",
   "metadata": {},
   "outputs": [],
   "source": [
    "lista_bin.sort()"
   ]
  },
  {
   "cell_type": "code",
   "execution_count": 93,
   "id": "median-medium",
   "metadata": {},
   "outputs": [
    {
     "data": {
      "text/plain": [
       "['0b1000', '0b1001', '0b1010', '0b110', '0b1100']"
      ]
     },
     "execution_count": 93,
     "metadata": {},
     "output_type": "execute_result"
    }
   ],
   "source": [
    "lista_bin"
   ]
  },
  {
   "cell_type": "code",
   "execution_count": 37,
   "id": "violent-copyright",
   "metadata": {},
   "outputs": [],
   "source": [
    "lista_aux = []"
   ]
  },
  {
   "cell_type": "code",
   "execution_count": 41,
   "id": "atmospheric-belief",
   "metadata": {},
   "outputs": [],
   "source": [
    "for elem in lista_bin:\n",
    "    if elem.count('1') == 2:\n",
    "        lista_aux.append(elem)"
   ]
  },
  {
   "cell_type": "code",
   "execution_count": 45,
   "id": "biblical-dutch",
   "metadata": {},
   "outputs": [
    {
     "data": {
      "text/plain": [
       "['0b110', '0b1001', '0b1010']"
      ]
     },
     "execution_count": 45,
     "metadata": {},
     "output_type": "execute_result"
    }
   ],
   "source": [
    "lista_aux"
   ]
  },
  {
   "cell_type": "code",
   "execution_count": 72,
   "id": "sharp-controversy",
   "metadata": {},
   "outputs": [
    {
     "data": {
      "text/plain": [
       "10"
      ]
     },
     "execution_count": 72,
     "metadata": {},
     "output_type": "execute_result"
    }
   ],
   "source": [
    "int(str(1010), 2)"
   ]
  },
  {
   "cell_type": "code",
   "execution_count": 181,
   "id": "congressional-bundle",
   "metadata": {},
   "outputs": [],
   "source": [
    "arr = [3, 8, 3, 6, 5, 7, 9, 1]"
   ]
  },
  {
   "cell_type": "code",
   "execution_count": 178,
   "id": "informed-quick",
   "metadata": {},
   "outputs": [],
   "source": [
    "binarios = ['0b1', '0b1000', '0b1001', '0b101', '0b11', '0b11', '0b110', '0b111']"
   ]
  },
  {
   "cell_type": "code",
   "execution_count": 179,
   "id": "compliant-trinity",
   "metadata": {},
   "outputs": [],
   "source": [
    "lista_ordenada = sorted(binarios)"
   ]
  },
  {
   "cell_type": "code",
   "execution_count": 180,
   "id": "secure-owner",
   "metadata": {},
   "outputs": [
    {
     "data": {
      "text/plain": [
       "['0b1', '0b1000', '0b1001', '0b101', '0b11', '0b11', '0b110', '0b111']"
      ]
     },
     "execution_count": 180,
     "metadata": {},
     "output_type": "execute_result"
    }
   ],
   "source": [
    "lista_ordenada"
   ]
  },
  {
   "cell_type": "code",
   "execution_count": 182,
   "id": "looking-airfare",
   "metadata": {},
   "outputs": [],
   "source": [
    "def sort_by_bit(arr):\n",
    "    lista_bin = [format(elem, 'b') for elem in arr]\n",
    "    print(lista_bin)\n",
    "    print (sorted(lista_bin))\n",
    "    \n",
    "    lista_02 = [int(str(elem), 2) for elem in sorted(lista_bin)]\n",
    "    print (lista_02)\n",
    "    arr.sort()"
   ]
  },
  {
   "cell_type": "code",
   "execution_count": 184,
   "id": "physical-findings",
   "metadata": {},
   "outputs": [
    {
     "name": "stdout",
     "output_type": "stream",
     "text": [
      "['11', '1000', '11', '110', '101', '111', '1001', '1']\n",
      "['1', '1000', '1001', '101', '11', '11', '110', '111']\n",
      "[1, 8, 9, 5, 3, 3, 6, 7]\n"
     ]
    }
   ],
   "source": [
    "sort_by_bit(arr)"
   ]
  },
  {
   "cell_type": "code",
   "execution_count": 158,
   "id": "faced-questionnaire",
   "metadata": {},
   "outputs": [
    {
     "data": {
      "text/plain": [
       "[1, 3, 3, 5, 6, 7, 8, 9]"
      ]
     },
     "execution_count": 158,
     "metadata": {},
     "output_type": "execute_result"
    }
   ],
   "source": [
    "arr"
   ]
  },
  {
   "cell_type": "code",
   "execution_count": null,
   "id": "forward-banner",
   "metadata": {},
   "outputs": [],
   "source": [
    "def sort_by_bit(arr):\n",
    "    lista_auxiliar = []\n",
    "    cont == 1\n",
    "    lista_final = []\n",
    "    \n",
    "    lista_bin = [format(elem, 'b') for elem in arr]\n",
    "    lista_02 = [int(str(elem), 2) for elem in sorted(lista_bin)]\n"
   ]
  },
  {
   "cell_type": "code",
   "execution_count": 218,
   "id": "living-proportion",
   "metadata": {},
   "outputs": [],
   "source": [
    "def sort_by_bit(arr):\n",
    "    \n",
    "    cont = 1\n",
    "    lista_auxiliar = []\n",
    "    \n",
    "    lista_bin = [format(elem, 'b') for elem in arr]\n",
    "    print(lista_bin)\n",
    "    print(sorted(lista_bin))\n",
    "    \n",
    "    \n",
    "    \n",
    "    arr = []\n",
    "    \n",
    "    for elem in sorted(lista_bin):\n",
    "        print (cont, elem)\n",
    "        if str(elem).count('1') == cont:\n",
    "            lista_auxiliar.append(int(str(elem), 2))\n",
    "            \n",
    "        else:\n",
    "            lista_auxiliar.sort()\n",
    "            for num in lista_auxiliar:\n",
    "                arr.append(num)\n",
    "            lista_auxiliar = []\n",
    "            lista_auxiliar.append(int(str(elem), 2))\n",
    "            cont += 1\n",
    "    \n",
    "    lista_auxiliar.sort()\n",
    "    for num in lista_auxiliar:\n",
    "                arr.append(num)\n",
    "    \n",
    "    #lista_02 = [int(str(elem), 2) for elem in sorted(lista_bin)]\n",
    "    #print(lista_02)\n",
    "    print(arr)"
   ]
  },
  {
   "cell_type": "code",
   "execution_count": 220,
   "id": "dependent-singles",
   "metadata": {},
   "outputs": [
    {
     "name": "stdout",
     "output_type": "stream",
     "text": [
      "['1', '11', '11', '101', '110', '111', '1000', '1001']\n",
      "['1', '1000', '1001', '101', '11', '11', '110', '111']\n",
      "1 1\n",
      "1 1000\n",
      "1 1001\n",
      "2 101\n",
      "2 11\n",
      "2 11\n",
      "2 110\n",
      "2 111\n",
      "[1, 8, 3, 3, 5, 6, 9, 7]\n"
     ]
    }
   ],
   "source": [
    "sort_by_bit(arr)"
   ]
  },
  {
   "cell_type": "code",
   "execution_count": 215,
   "id": "split-timing",
   "metadata": {},
   "outputs": [
    {
     "data": {
      "text/plain": [
       "['1001', '101', '1010', '11']"
      ]
     },
     "execution_count": 215,
     "metadata": {},
     "output_type": "execute_result"
    }
   ],
   "source": [
    "mierda = ['1001', '101', '1010', '11']\n",
    "sorted(mierda)"
   ]
  },
  {
   "cell_type": "code",
   "execution_count": 221,
   "id": "united-ordering",
   "metadata": {},
   "outputs": [
    {
     "ename": "AttributeError",
     "evalue": "'str' object has no attribute 'counts'",
     "output_type": "error",
     "traceback": [
      "\u001b[0;31m---------------------------------------------------------------------------\u001b[0m",
      "\u001b[0;31mAttributeError\u001b[0m                            Traceback (most recent call last)",
      "\u001b[0;32m<ipython-input-221-d1c9e5b7b3be>\u001b[0m in \u001b[0;36m<module>\u001b[0;34m\u001b[0m\n\u001b[1;32m      2\u001b[0m \u001b[0;34m\u001b[0m\u001b[0m\n\u001b[1;32m      3\u001b[0m \u001b[0;32mfor\u001b[0m \u001b[0melem\u001b[0m \u001b[0;32min\u001b[0m \u001b[0mlista_prueba\u001b[0m\u001b[0;34m:\u001b[0m\u001b[0;34m\u001b[0m\u001b[0;34m\u001b[0m\u001b[0m\n\u001b[0;32m----> 4\u001b[0;31m     \u001b[0;32mif\u001b[0m \u001b[0melem\u001b[0m\u001b[0;34m.\u001b[0m\u001b[0mcounts\u001b[0m\u001b[0;34m(\u001b[0m\u001b[0;34m'1'\u001b[0m\u001b[0;34m)\u001b[0m \u001b[0;34m==\u001b[0m \u001b[0mcont\u001b[0m\u001b[0;34m:\u001b[0m\u001b[0;34m\u001b[0m\u001b[0;34m\u001b[0m\u001b[0m\n\u001b[0m\u001b[1;32m      5\u001b[0m         \u001b[0mlista_auxiliar\u001b[0m\u001b[0;34m.\u001b[0m\u001b[0mappend\u001b[0m\u001b[0;34m(\u001b[0m\u001b[0melem\u001b[0m\u001b[0;34m)\u001b[0m\u001b[0;34m\u001b[0m\u001b[0;34m\u001b[0m\u001b[0m\n\u001b[1;32m      6\u001b[0m     \u001b[0;32melse\u001b[0m\u001b[0;34m:\u001b[0m\u001b[0;34m\u001b[0m\u001b[0;34m\u001b[0m\u001b[0m\n",
      "\u001b[0;31mAttributeError\u001b[0m: 'str' object has no attribute 'counts'"
     ]
    }
   ],
   "source": [
    "lista_prueba = ['1', '1000', '1001', '101', '11', '11', '110', '111']\n",
    "\n",
    "for elem in lista_prueba:\n",
    "    if elem.counts('1') == cont:\n",
    "        lista_auxiliar.append(elem)\n",
    "    else:\n",
    "        lista_auxiliar.sort()\n",
    "        for elem in lista_auxiliar:\n",
    "            lista_final.append(elem)\n",
    "        lista_auxiliar = []\n",
    "        cont += 1\n",
    "            "
   ]
  },
  {
   "cell_type": "code",
   "execution_count": 97,
   "id": "outside-fiber",
   "metadata": {},
   "outputs": [],
   "source": [
    "kk = [100, 20, 90, 80]\n",
    "que_es = sorted(kk, key = lambda x: (bin(x).count(\"1\"), x))\n",
    "# realmente aquí lo que estamos haciendo es definir en la función sorted un argumento 'no default'.\n",
    "# Esto es la damos un criterio de ordenación mediante el lambda, que crea una tupla a partir de la lista kk, pero es solo\n",
    "# un criterio de ordenación"
   ]
  },
  {
   "cell_type": "code",
   "execution_count": null,
   "id": "adjacent-probability",
   "metadata": {},
   "outputs": [],
   "source": []
  },
  {
   "cell_type": "code",
   "execution_count": null,
   "id": "every-peoples",
   "metadata": {},
   "outputs": [],
   "source": []
  },
  {
   "cell_type": "code",
   "execution_count": null,
   "id": "portuguese-spiritual",
   "metadata": {},
   "outputs": [],
   "source": []
  },
  {
   "cell_type": "code",
   "execution_count": null,
   "id": "marked-adaptation",
   "metadata": {},
   "outputs": [],
   "source": []
  },
  {
   "cell_type": "code",
   "execution_count": null,
   "id": "psychological-merchant",
   "metadata": {},
   "outputs": [],
   "source": [
    "from bs4 import BeautifulSoup\n",
    "import requests"
   ]
  },
  {
   "cell_type": "code",
   "execution_count": 17,
   "id": "sharp-sussex",
   "metadata": {},
   "outputs": [],
   "source": [
    "def get_member_since(username):\n",
    "    url = 'https://www.codewars.com/users/' + username\n",
    "    html = requests.get(url)\n",
    "    info = BeautifulSoup(html.content, 'html.parser')\n",
    "    if info.find('h2').text == \"Whoops! The page you were looking for doesn't seem to exist.\":\n",
    "        print (info.find('h2').text)\n",
    "    else:\n",
    "        return info.find_all('div', {'class' : 'stat'})[2].text.replace('Member Since:', '')"
   ]
  },
  {
   "cell_type": "code",
   "execution_count": 83,
   "id": "scenic-conditioning",
   "metadata": {},
   "outputs": [
    {
     "data": {
      "text/plain": [
       "'Oct 2012'"
      ]
     },
     "execution_count": 83,
     "metadata": {},
     "output_type": "execute_result"
    }
   ],
   "source": [
    "username = 'jhoffner'\n",
    "url = 'https://www.codewars.com/users/' + username\n",
    "html = requests.get(url)\n",
    "info = BeautifulSoup(html.content, 'html.parser')\n",
    "\n",
    "prueba = info.find_all('div', {'class' : 'stat-box mt-1 mb-1 md:mb-0'})[1].text[13:21]\n",
    "prueba\n",
    "\n",
    "\n"
   ]
  },
  {
   "cell_type": "code",
   "execution_count": null,
   "id": "actual-civilization",
   "metadata": {},
   "outputs": [],
   "source": [
    "\"Whoops! The page you were looking for doesn't seem to exist.\""
   ]
  },
  {
   "cell_type": "code",
   "execution_count": 42,
   "id": "monthly-queue",
   "metadata": {},
   "outputs": [
    {
     "data": {
      "text/plain": [
       "<!DOCTYPE html>\n",
       "<html class=\"dark\"><head><meta charset=\"utf-8\"/>\n",
       "<script>window.NREUM||(NREUM={});NREUM.info={\"beacon\":\"bam.nr-data.net\",\"errorBeacon\":\"bam.nr-data.net\",\"licenseKey\":\"364dba19a3\",\"applicationID\":\"15446117\",\"transactionName\":\"Jg5ZQEdYXQ1XRRZAQQATRBtGX14W\",\"queueTime\":0,\"applicationTime\":74,\"agent\":\"\"}</script>\n",
       "<script>(window.NREUM||(NREUM={})).loader_config={licenseKey:\"364dba19a3\",applicationID:\"15446117\"};window.NREUM||(NREUM={}),__nr_require=function(e,t,n){function r(n){if(!t[n]){var i=t[n]={exports:{}};e[n][0].call(i.exports,function(t){var i=e[n][1][t];return r(i||t)},i,i.exports)}return t[n].exports}if(\"function\"==typeof __nr_require)return __nr_require;for(var i=0;i<n.length;i++)r(n[i]);return r}({1:[function(e,t,n){function r(){}function i(e,t,n){return function(){return o(e,[u.now()].concat(c(arguments)),t?null:this,n),t?void 0:this}}var o=e(\"handle\"),a=e(7),c=e(8),f=e(\"ee\").get(\"tracer\"),u=e(\"loader\"),s=NREUM;\"undefined\"==typeof window.newrelic&&(newrelic=s);var d=[\"setPageViewName\",\"setCustomAttribute\",\"setErrorHandler\",\"finished\",\"addToTrace\",\"inlineHit\",\"addRelease\"],p=\"api-\",l=p+\"ixn-\";a(d,function(e,t){s[t]=i(p+t,!0,\"api\")}),s.addPageAction=i(p+\"addPageAction\",!0),s.setCurrentRouteName=i(p+\"routeName\",!0),t.exports=newrelic,s.interaction=function(){return(new r).get()};var m=r.prototype={createTracer:function(e,t){var n={},r=this,i=\"function\"==typeof t;return o(l+\"tracer\",[u.now(),e,n],r),function(){if(f.emit((i?\"\":\"no-\")+\"fn-start\",[u.now(),r,i],n),i)try{return t.apply(this,arguments)}catch(e){throw f.emit(\"fn-err\",[arguments,this,e],n),e}finally{f.emit(\"fn-end\",[u.now()],n)}}}};a(\"actionText,setName,setAttribute,save,ignore,onEnd,getContext,end,get\".split(\",\"),function(e,t){m[t]=i(l+t)}),newrelic.noticeError=function(e,t){\"string\"==typeof e&&(e=new Error(e)),o(\"err\",[e,u.now(),!1,t])}},{}],2:[function(e,t,n){function r(){return c.exists&&performance.now?Math.round(performance.now()):(o=Math.max((new Date).getTime(),o))-a}function i(){return o}var o=(new Date).getTime(),a=o,c=e(9);t.exports=r,t.exports.offset=a,t.exports.getLastTimestamp=i},{}],3:[function(e,t,n){function r(e){return!(!e||!e.protocol||\"file:\"===e.protocol)}t.exports=r},{}],4:[function(e,t,n){function r(e,t){var n=e.getEntries();n.forEach(function(e){\"first-paint\"===e.name?d(\"timing\",[\"fp\",Math.floor(e.startTime)]):\"first-contentful-paint\"===e.name&&d(\"timing\",[\"fcp\",Math.floor(e.startTime)])})}function i(e,t){var n=e.getEntries();n.length>0&&d(\"lcp\",[n[n.length-1]])}function o(e){e.getEntries().forEach(function(e){e.hadRecentInput||d(\"cls\",[e])})}function a(e){if(e instanceof m&&!g){var t=Math.round(e.timeStamp),n={type:e.type};t<=p.now()?n.fid=p.now()-t:t>p.offset&&t<=Date.now()?(t-=p.offset,n.fid=p.now()-t):t=p.now(),g=!0,d(\"timing\",[\"fi\",t,n])}}function c(e){d(\"pageHide\",[p.now(),e])}if(!(\"init\"in NREUM&&\"page_view_timing\"in NREUM.init&&\"enabled\"in NREUM.init.page_view_timing&&NREUM.init.page_view_timing.enabled===!1)){var f,u,s,d=e(\"handle\"),p=e(\"loader\"),l=e(6),m=NREUM.o.EV;if(\"PerformanceObserver\"in window&&\"function\"==typeof window.PerformanceObserver){f=new PerformanceObserver(r);try{f.observe({entryTypes:[\"paint\"]})}catch(v){}u=new PerformanceObserver(i);try{u.observe({entryTypes:[\"largest-contentful-paint\"]})}catch(v){}s=new PerformanceObserver(o);try{s.observe({type:\"layout-shift\",buffered:!0})}catch(v){}}if(\"addEventListener\"in document){var g=!1,w=[\"click\",\"keydown\",\"mousedown\",\"pointerdown\",\"touchstart\"];w.forEach(function(e){document.addEventListener(e,a,!1)})}l(c)}},{}],5:[function(e,t,n){function r(e,t){if(!i)return!1;if(e!==i)return!1;if(!t)return!0;if(!o)return!1;for(var n=o.split(\".\"),r=t.split(\".\"),a=0;a<r.length;a++)if(r[a]!==n[a])return!1;return!0}var i=null,o=null,a=/Version\\/(\\S+)\\s+Safari/;if(navigator.userAgent){var c=navigator.userAgent,f=c.match(a);f&&c.indexOf(\"Chrome\")===-1&&c.indexOf(\"Chromium\")===-1&&(i=\"Safari\",o=f[1])}t.exports={agent:i,version:o,match:r}},{}],6:[function(e,t,n){function r(e){function t(){e(a&&document[a]?document[a]:document[i]?\"hidden\":\"visible\")}\"addEventListener\"in document&&o&&document.addEventListener(o,t,!1)}t.exports=r;var i,o,a;\"undefined\"!=typeof document.hidden?(i=\"hidden\",o=\"visibilitychange\",a=\"visibilityState\"):\"undefined\"!=typeof document.msHidden?(i=\"msHidden\",o=\"msvisibilitychange\"):\"undefined\"!=typeof document.webkitHidden&&(i=\"webkitHidden\",o=\"webkitvisibilitychange\",a=\"webkitVisibilityState\")},{}],7:[function(e,t,n){function r(e,t){var n=[],r=\"\",o=0;for(r in e)i.call(e,r)&&(n[o]=t(r,e[r]),o+=1);return n}var i=Object.prototype.hasOwnProperty;t.exports=r},{}],8:[function(e,t,n){function r(e,t,n){t||(t=0),\"undefined\"==typeof n&&(n=e?e.length:0);for(var r=-1,i=n-t||0,o=Array(i<0?0:i);++r<i;)o[r]=e[t+r];return o}t.exports=r},{}],9:[function(e,t,n){t.exports={exists:\"undefined\"!=typeof window.performance&&window.performance.timing&&\"undefined\"!=typeof window.performance.timing.navigationStart}},{}],ee:[function(e,t,n){function r(){}function i(e){function t(e){return e&&e instanceof r?e:e?u(e,f,a):a()}function n(n,r,i,o,a){if(a!==!1&&(a=!0),!l.aborted||o){e&&a&&e(n,r,i);for(var c=t(i),f=v(n),u=f.length,s=0;s<u;s++)f[s].apply(c,r);var p=d[h[n]];return p&&p.push([b,n,r,c]),c}}function o(e,t){y[e]=v(e).concat(t)}function m(e,t){var n=y[e];if(n)for(var r=0;r<n.length;r++)n[r]===t&&n.splice(r,1)}function v(e){return y[e]||[]}function g(e){return p[e]=p[e]||i(n)}function w(e,t){s(e,function(e,n){t=t||\"feature\",h[n]=t,t in d||(d[t]=[])})}var y={},h={},b={on:o,addEventListener:o,removeEventListener:m,emit:n,get:g,listeners:v,context:t,buffer:w,abort:c,aborted:!1};return b}function o(e){return u(e,f,a)}function a(){return new r}function c(){(d.api||d.feature)&&(l.aborted=!0,d=l.backlog={})}var f=\"nr@context\",u=e(\"gos\"),s=e(7),d={},p={},l=t.exports=i();t.exports.getOrSetContext=o,l.backlog=d},{}],gos:[function(e,t,n){function r(e,t,n){if(i.call(e,t))return e[t];var r=n();if(Object.defineProperty&&Object.keys)try{return Object.defineProperty(e,t,{value:r,writable:!0,enumerable:!1}),r}catch(o){}return e[t]=r,r}var i=Object.prototype.hasOwnProperty;t.exports=r},{}],handle:[function(e,t,n){function r(e,t,n,r){i.buffer([e],r),i.emit(e,t,n)}var i=e(\"ee\").get(\"handle\");t.exports=r,r.ee=i},{}],id:[function(e,t,n){function r(e){var t=typeof e;return!e||\"object\"!==t&&\"function\"!==t?-1:e===window?0:a(e,o,function(){return i++})}var i=1,o=\"nr@id\",a=e(\"gos\");t.exports=r},{}],loader:[function(e,t,n){function r(){if(!E++){var e=x.info=NREUM.info,t=l.getElementsByTagName(\"script\")[0];if(setTimeout(u.abort,3e4),!(e&&e.licenseKey&&e.applicationID&&t))return u.abort();f(h,function(t,n){e[t]||(e[t]=n)});var n=a();c(\"mark\",[\"onload\",n+x.offset],null,\"api\"),c(\"timing\",[\"load\",n]);var r=l.createElement(\"script\");r.src=\"https://\"+e.agent,t.parentNode.insertBefore(r,t)}}function i(){\"complete\"===l.readyState&&o()}function o(){c(\"mark\",[\"domContent\",a()+x.offset],null,\"api\")}var a=e(2),c=e(\"handle\"),f=e(7),u=e(\"ee\"),s=e(5),d=e(3),p=window,l=p.document,m=\"addEventListener\",v=\"attachEvent\",g=p.XMLHttpRequest,w=g&&g.prototype;if(d(p.location)){NREUM.o={ST:setTimeout,SI:p.setImmediate,CT:clearTimeout,XHR:g,REQ:p.Request,EV:p.Event,PR:p.Promise,MO:p.MutationObserver};var y=\"\"+location,h={beacon:\"bam.nr-data.net\",errorBeacon:\"bam.nr-data.net\",agent:\"js-agent.newrelic.com/nr-1208.min.js\"},b=g&&w&&w[m]&&!/CriOS/.test(navigator.userAgent),x=t.exports={offset:a.getLastTimestamp(),now:a,origin:y,features:{},xhrWrappable:b,userAgent:s};e(1),e(4),l[m]?(l[m](\"DOMContentLoaded\",o,!1),p[m](\"load\",r,!1)):(l[v](\"onreadystatechange\",i),p[v](\"onload\",r)),c(\"mark\",[\"firstbyte\",a.getLastTimestamp()],null,\"api\");var E=0}},{}],\"wrap-function\":[function(e,t,n){function r(e,t){function n(t,n,r,f,u){function nrWrapper(){var o,a,s,p;try{a=this,o=d(arguments),s=\"function\"==typeof r?r(o,a):r||{}}catch(l){i([l,\"\",[o,a,f],s],e)}c(n+\"start\",[o,a,f],s,u);try{return p=t.apply(a,o)}catch(m){throw c(n+\"err\",[o,a,m],s,u),m}finally{c(n+\"end\",[o,a,p],s,u)}}return a(t)?t:(n||(n=\"\"),nrWrapper[p]=t,o(t,nrWrapper,e),nrWrapper)}function r(e,t,r,i,o){r||(r=\"\");var c,f,u,s=\"-\"===r.charAt(0);for(u=0;u<t.length;u++)f=t[u],c=e[f],a(c)||(e[f]=n(c,s?f+r:r,i,f,o))}function c(n,r,o,a){if(!m||t){var c=m;m=!0;try{e.emit(n,r,o,t,a)}catch(f){i([f,n,r,o],e)}m=c}}return e||(e=s),n.inPlace=r,n.flag=p,n}function i(e,t){t||(t=s);try{t.emit(\"internal-error\",e)}catch(n){}}function o(e,t,n){if(Object.defineProperty&&Object.keys)try{var r=Object.keys(e);return r.forEach(function(n){Object.defineProperty(t,n,{get:function(){return e[n]},set:function(t){return e[n]=t,t}})}),t}catch(o){i([o],n)}for(var a in e)l.call(e,a)&&(t[a]=e[a]);return t}function a(e){return!(e&&e instanceof Function&&e.apply&&!e[p])}function c(e,t){var n=t(e);return n[p]=e,o(e,n,s),n}function f(e,t,n){var r=e[t];e[t]=c(r,n)}function u(){for(var e=arguments.length,t=new Array(e),n=0;n<e;++n)t[n]=arguments[n];return t}var s=e(\"ee\"),d=e(8),p=\"nr@original\",l=Object.prototype.hasOwnProperty,m=!1;t.exports=r,t.exports.wrapFunction=c,t.exports.wrapInPlace=f,t.exports.argsToArray=u},{}]},{},[\"loader\"]);</script><title>jhoffner | Codewars</title><meta content=\"authenticity_token\" name=\"csrf-param\"/>\n",
       "<meta content=\"768Fjmztus5tsXat4DZvwLfXfB0-Waf0n6nVVyHj2BbREBPqHwblkBz_F_ILdsmcsYoXzZn1aTFaMkTafRc0Uw\" name=\"csrf-token\"/><meta content=\"no-preview\" name=\"turbolinks-cache-control\"/><meta content=\"width=device-width, initial-scale=1.0, maximum-scale=1.0, user-scalable=no\" name=\"viewport\"/><meta property=\"og:title\"/><meta content=\"website\" property=\"og:type\"/><meta content=\"Codewars\" property=\"og:site_name\"/><meta content=\"https://www.codewars.com\" property=\"og:url\"/><meta content=\"https://www.codewars.com/assets/logos/logo-square-paper-bg-c3d2b1eb4fb35d75b0c0c0e3b74616fab527afdce9d1d3184624cf0b4e950357.jpg\" property=\"og:image\"/><meta content=\"https://www.codewars.com/assets/logos/logo-square-paper-bg-c3d2b1eb4fb35d75b0c0c0e3b74616fab527afdce9d1d3184624cf0b4e950357.jpg\" property=\"og:image:secure_url\"/><meta content=\"Codewars is where developers achieve code mastery through challenge. Train on kata in the dojo and reach your highest potential.\" property=\"og:description\"/><meta content=\"652826666\" property=\"fb:admins\"/><meta content=\"110951985735625\" property=\"fb:app_id\"/><meta content=\"@codewars\" name=\"twitter:site\"/><meta content=\"Codewars is where developers achieve code mastery through challenge. Train on kata in the dojo and reach your highest potential.\" name=\"description\"/><meta content=\"codewars, code kata, kata, code gym, coding, code practice, ruby, javascript, coffeescript, web development, software development, dojo\" name=\"keywords\"/><meta content=\"EMv3k6eCCUuSkbwJpGlLbtsBd_lCvmvDp1Ucsv0rIvM\" name=\"google-site-verification\"/><link href=\"https://fonts.googleapis.com/css?family=Lato&amp;display=swap\" media=\"screen\" rel=\"stylesheet\"/><link data-turbolinks-track=\"reload\" href=\"/packs/css/application-772bcfef.chunk.css\" media=\"screen\" rel=\"stylesheet\"/><script data-turbolinks-track=\"reload\" defer=\"defer\" src=\"/packs/js/runtime-61fd9eb1469aaa4d1cc6.js\"></script>\n",
       "<script data-turbolinks-track=\"reload\" defer=\"defer\" src=\"/packs/js/2-37a4c23ec9a59eeefd6c.chunk.js\"></script>\n",
       "<script data-turbolinks-track=\"reload\" defer=\"defer\" src=\"/packs/js/application-833455c6468edfa8ebe5.chunk.js\"></script><script async=\"\" src=\"https://www.googletagmanager.com/gtag/js?id=G-M3JYSQLS8M\"></script><script>window.dataLayer = window.dataLayer || [];\n",
       "function gtag() { dataLayer.push(arguments); }\n",
       "gtag('js', new Date());\n",
       "gtag('config', 'G-M3JYSQLS8M', {\n",
       "  send_page_view: false\n",
       "});</script></head><body class=\"show_view\" id=\"users\"><div id=\"app\"><div class=\"w-full\" id=\"shell\"><div class=\"sidenav-nubbin block md:hidden\"><i class=\"icon-moon-list\"></i></div><nav id=\"sidenav\"><ul class=\"top\"><li class=\"leading-relaxed nav-home\"><a class=\"inline-flex items-center overflow-x-hidden\" data-turbolinks=\"false\" href=\"https://www.codewars.com/\"><div class=\"logo mt-3 flex-shrink-0\"><img class=\"w-full h-full\" src=\"/assets/logos/logo-61192cf7c75904d495e7ad69695fbf0bffd965bc3e17ac60f6c6b475304db09d.svg\"/></div><span class=\"mt-10px ml-2.5 flex-shrink-0\">Sign Up</span></a></li><li class=\"leading-relaxed\"><a class=\"inline-flex items-center\" href=\"/kata/latest\"><div class=\"my-0.5\"><svg class=\"ml-1.5 w-6 h-6 inline-block\" fill=\"none\" stroke=\"currentColor\" viewbox=\"0 0 24 24\"><path d=\"M21 21l-6-6m2-5a7 7 0 11-14 0 7 7 0 0114 0z\" stroke-linecap=\"round\" stroke-linejoin=\"round\" stroke-width=\"2\"></path></svg></div><span class=\"ml-4\">Kata</span></a></li><li class=\"leading-relaxed\"><a class=\"inline-flex items-center\" href=\"https://docs.codewars.com\" target=\"_blank\" title=\"The Codewars Docs\"><div class=\"my-0.5\"><svg class=\"ml-1.5 w-6 h-6 inline-block\" fill=\"none\" stroke=\"currentColor\" viewbox=\"0 0 24 24\"><path d=\"M12 6.253v13m0-13C10.832 5.477 9.246 5 7.5 5S4.168 5.477 3 6.253v13C4.168 18.477 5.754 18 7.5 18s3.332.477 4.5 1.253m0-13C13.168 5.477 14.754 5 16.5 5c1.747 0 3.332.477 4.5 1.253v13C19.832 18.477 18.247 18 16.5 18c-1.746 0-3.332.477-4.5 1.253\" stroke-linecap=\"round\" stroke-linejoin=\"round\" stroke-width=\"2\"></path></svg></div><span class=\"ml-4\">Docs</span></a></li><li class=\"leading-relaxed\"><a class=\"inline-flex items-center\" href=\"https://blog.codewars.com\" target=\"_blank\" title=\"The Codewars Blog\"><div class=\"my-0.5\"><svg class=\"ml-1.5 w-6 h-6 inline-block\" fill=\"none\" stroke=\"currentColor\" viewbox=\"0 0 24 24\"><path d=\"M6 5c7.18 0 13 5.82 13 13M6 11a7 7 0 017 7m-6 0a1 1 0 11-2 0 1 1 0 012 0z\" stroke-linecap=\"round\" stroke-linejoin=\"round\" stroke-width=\"2\"></path></svg></div><span class=\"ml-4\">Blog</span></a></li><li class=\"leading-relaxed\"><a class=\"inline-flex items-center\" href=\"/kumite\"><div class=\"my-0.5\"><svg class=\"ml-1.5 w-6 h-6 inline-block\" fill=\"none\" height=\"24\" stroke=\"currentColor\" stroke-linecap=\"round\" stroke-linejoin=\"round\" stroke-width=\"2\" viewbox=\"0 0 24 24\" width=\"24\"><path d=\"M0 0h24v24H0z\" fill=\"none\" stroke=\"none\"></path><path d=\"M4 12v-3a3 3 0 0 1 3 -3h13m-3 -3l3 3l-3 3\"></path><path d=\"M20 12v3a3 3 0 0 1 -3 3h-13m3 3l-3 -3l3 -3\"></path></svg></div><span class=\"ml-4\">Kumite</span></a></li><li class=\"leading-relaxed\"><a class=\"inline-flex items-center\" href=\"/topics\"><div class=\"my-0.5\"><svg class=\"ml-1.5 w-6 h-6 inline-block\" fill=\"none\" stroke=\"currentColor\" viewbox=\"0 0 24 24\"><path d=\"M17 8h2a2 2 0 012 2v6a2 2 0 01-2 2h-2v4l-4-4H9a1.994 1.994 0 01-1.414-.586m0 0L11 14h4a2 2 0 002-2V6a2 2 0 00-2-2H5a2 2 0 00-2 2v6a2 2 0 002 2h2v4l.586-.586z\" stroke-linecap=\"round\" stroke-linejoin=\"round\" stroke-width=\"2\"></path></svg></div><span class=\"ml-4\">Forum</span></a></li></ul><ul class=\"bottom\"><li class=\"leading-relaxed nav-leaders\"><a class=\"inline-flex items-center\" href=\"/users/leaderboard\" title=\"Leaders\"><div class=\"my-0.5\"><svg class=\"ml-1.5 w-6 h-6 inline-block\" fill=\"none\" stroke=\"currentColor\" viewbox=\"0 0 24 24\"><path d=\"M13 7h8m0 0v8m0-8l-8 8-4-4-6 6\" stroke-linecap=\"round\" stroke-linejoin=\"round\" stroke-width=\"2\"></path></svg></div><span class=\"ml-4\">Leaders</span></a></li></ul></nav><header class=\"main is-visible\" id=\"main_header\"><ul class=\"items\"><li class=\"item-list\"><a class=\"js-toggle-dark-mode w-6\"><svg class=\"block dark:hidden\" fill=\"currentColor\" viewbox=\"0 0 20 20\"><path clip-rule=\"evenodd\" d=\"M10 2a1 1 0 011 1v1a1 1 0 11-2 0V3a1 1 0 011-1zm4 8a4 4 0 11-8 0 4 4 0 018 0zm-.464 4.95l.707.707a1 1 0 001.414-1.414l-.707-.707a1 1 0 00-1.414 1.414zm2.12-10.607a1 1 0 010 1.414l-.706.707a1 1 0 11-1.414-1.414l.707-.707a1 1 0 011.414 0zM17 11a1 1 0 100-2h-1a1 1 0 100 2h1zm-7 4a1 1 0 011 1v1a1 1 0 11-2 0v-1a1 1 0 011-1zM5.05 6.464A1 1 0 106.465 5.05l-.708-.707a1 1 0 00-1.414 1.414l.707.707zm1.414 8.486l-.707.707a1 1 0 01-1.414-1.414l.707-.707a1 1 0 011.414 1.414zM4 11a1 1 0 100-2H3a1 1 0 000 2h1z\" fill-rule=\"evenodd\"></path></svg><svg class=\"hidden dark:block\" fill=\"currentColor\" viewbox=\"0 0 20 20\"><path d=\"M17.293 13.293A8 8 0 016.707 2.707a8.001 8.001 0 1010.586 10.586z\"></path></svg></a></li><li><span><a class=\"is-nudged-down-more\" data-turbolinks=\"false\" href=\"/users/sign_in\">Log In</a></span></li><li><span><a class=\"btn is-red text-gray-200 dark:text-white\" data-turbolinks=\"false\" href=\"/\">Sign Up</a></span></li></ul></header><main id=\"shell_content\" role=\"main\"><div class=\"is-hidden\" id=\"global_alerts\"><div class=\"alert-box\"></div></div><div id=\"flash\"></div><div class=\"w-256 max-w-full mx-auto my-0 px-0\"><section class=\"user-profile mb-0\"><div class=\"w-full px-0\"><figure class=\"profile-pic hidden md:block\"><a href=\"/users/jhoffner\"><img data-tippy-content=\"jhoffner\" data-tippy-placement=\"bottom\" src=\"https://avatars.githubusercontent.com/u/579835?s=100\" title=\"jhoffner\"/></a></figure><div><div class=\"relative\"><img class=\"profile-badge hidden md:inline-block mr-2 h-10\" src=\"/assets/badges/red-badge-47ac3e7d3259fd0c444c39033b34806833b89723b02073d6f6b08a1935f675fb.svg\"/><a href=\"/users/jhoffner\"><img class=\"inline-block\" src=\"/users/jhoffner/badges/large?logo=false\"/></a><div class=\"absolute right-0 top-0 text-ui-text-lc group w-12\"><svg class=\"block mx-auto h-8\" fill=\"currentColor\" stroke=\"currentColor\" stroke-width=\"1\" viewbox=\"0 0 24 24\"><path d=\"M12 4l4 6l5 -4l-2 10h-14l-2 -10l5 4z\"></path></svg><div class=\"hidden sm:block text-sm text-center -my-2 text-ui-text-lc group-hover:block\">admin</div></div></div><div class=\"flex-box\"><div class=\"stat-box mt-1 mb-1 md:mb-0\"><div class=\"stat\"><b>Name:</b>Jake Hoffner</div><div class=\"stat\"><b>Clan:</b>Codewars</div><div class=\"stat\"><b>Skills:</b>ruby, c#, .net, javascript, coffeescript, nodejs, rails</div></div><div class=\"stat-box mt-1 mb-1 md:mb-0\"><div class=\"stat\"><b>Member Since:</b>Oct 2012</div><div class=\"stat\"><b>Last Seen:</b>Apr 2021</div><div class=\"stat\"><b>Profiles:</b><ul class=\"is-inline\"><li class=\"mr-5px\"><a href=\"https://github.com/jhoffner\" rel=\"noopener\" target=\"_blank\"><i class=\"icon-moon-github\"></i></a></li><li class=\"mr-5px\"><a href=\"https://www.twitter.com/JakeHoffner\" rel=\"noopener\" target=\"_blank\"><i class=\"icon-moon-twitter\"></i></a></li><li class=\"mr-5px\"><a href=\"https://www.linkedin.com/in/jakehoffner\" rel=\"noopener\" target=\"_blank\"><i class=\"icon-moon-linkedin\"></i></a></li><li class=\"mr-0\"><a href=\"http://stackoverflow.com/users/572261/jake-hoffner\" rel=\"noopener\" target=\"_blank\"><i class=\"icon-moon-stackoverflow\"></i></a></li></ul></div></div><div class=\"stat-box mt-1 mb-1 md:mb-0\"><div class=\"stat\"><b>Following:</b>200</div><div class=\"stat\"><b>Followers:</b>1285</div><div class=\"stat\"><b>Allies:</b>161</div></div></div><div class=\"mx-auto md:w-10/12 md:px-2\"><div class=\"flex-buttons mt-4 mb-2\"><div class=\"flex-button\"><a class=\"btn is-dark is-tiny\" href=\"/users/jhoffner/badges\">View Profile Badges</a></div></div></div><div class=\"clearfix\"></div></div></div></section></div><div class=\"w-256 max-w-full mx-auto my-4\"><div class=\"flex flex-col md:flex-row\"><div class=\"w-full is-low-light px-0\"><div class=\"max-w-md mx-auto\"><div class=\"p-10px\" id=\"_carbonad\" style=\"min-height: 100px\"><script async=\"\" id=\"_carbonads_js\" src=\"//cdn.carbonads.com/carbon.js?serve=CKYILK3L&amp;placement=codewarscom\" type=\"text/javascript\"></script><div class=\"clearfix\"></div></div></div></div></div></div><div class=\"w-256 max-w-full mx-auto mb-0 mt-4 bg-ui-section p-0\"><ul class=\"list-none mb-5 py-0 px-2 overflow-hidden flex flex-row items-center bg-ui-users-tabs-bg h-10 space-x-2\"><li class=\"h-full px-4 flex items-center justify-center border-t border-brand bg-ui-section\"><a class=\"cursor-default pointer-events-none\" href=\"/users/jhoffner/stats\">Stats</a></li><li class=\"h-full px-4 flex items-center justify-center\"><a href=\"/users/jhoffner/completed\">Kata</a></li><li class=\"h-full px-4 flex items-center justify-center\"><a href=\"/users/jhoffner/authored_collections\">Collections</a></li><li class=\"h-full px-4 flex items-center justify-center\"><a href=\"/users/jhoffner/published_kumite\">Kumite</a></li><li class=\"h-full px-4 flex items-center justify-center\"><a href=\"/users/jhoffner/following\">Social</a></li><li class=\"h-full px-4 flex items-center justify-center\"><a href=\"/users/jhoffner/comments\">Discourse</a></li></ul><div class=\"px-4 pb-4\"><div class=\"alert-box mt-15px mb-15px\"><i class=\"icon-moon-info\"></i>Next stats refresh <time data-text-time=\"1619526705\"></time></div><div><div class=\"w-full px-0\"><section class=\"stat-category\"><figure class=\"hidden md:block\"><i class=\"icon-moon-progress\"></i></figure><div class=\"stat-container\"><h2 class=\"mt-2 md:mt-5 mb-1\">Progress</h2><div class=\"stat-row\"><div class=\"stat-box mt-1 mb-1 md:mb-0\"><div class=\"stat\"><b>Rank:</b>3 kyu</div><div class=\"stat\"><b>Honor:</b>172,929</div><div class=\"stat\"><b>Leaderboard Position:</b>#4</div><div class=\"stat\"><b>Honor Percentile:</b>Top 0.001%</div><div class=\"stat\"><b>Total Completed Kata:</b>399</div></div><div class=\"stat-box mt-1 mb-1 md:mb-0\"><h3><i class=\"icon-moon-terminal\"></i>Languages:</h3><div class=\"ml-5\"><div class=\"stat\"><b>Total Languages Trained:</b>13</div><div class=\"stat\"><b>Highest Trained:</b>JavaScript (3 kyu)</div><div class=\"stat\"><b>Most Recent:</b>Ruby</div></div></div><div class=\"stat-box mt-1 mb-1 md:mb-0\"><h3><i class=\"icon-moon-up\"></i>Up Votes:</h3><div class=\"ml-5\"><div class=\"stat\"><b>Best Practice Solutions:</b>11,176</div><div class=\"stat\"><b>Clever Solutions:</b>4,238</div><div class=\"stat\"><b>Comments:</b>737</div></div></div></div></div><div class=\"clearfix\"></div></section></div></div><div class=\"my-4\"><div class=\"w-full px-0\"><section class=\"stat-category\"><figure class=\"hidden md:block\"><i class=\"icon-moon-contribution\"></i></figure><div class=\"stat-container\"><h2 class=\"mt-2 md:mt-5 mb-1\">Contributions</h2><div class=\"stat-row\"><div class=\"stat-box mt-1 mb-1 md:mb-0\"><h3><i class=\"icon-moon-users\"></i>Community:</h3><div class=\"ml-5\"><div class=\"stat\"><b>Comments:</b>1279 (296 replies)</div><div class=\"stat\"><b>Collections:</b>12</div><div class=\"stat\"><b>Kumite:</b>127 (289 Started)</div><div class=\"stat\"><b>Translations:</b>365 (354 approved)</div><div class=\"stat\"><b>Contributed Kata:</b>1007</div><div class=\"stat\"><b>Kata Approvals:</b>658</div></div></div><div class=\"stat-box mt-1 mb-1 md:mb-0\"><h3><i class=\"icon-moon-compare\"></i>Authored Kata:</h3><div class=\"ml-5\"><div class=\"stat\"><b>Created:</b>57 (0 in beta)</div><div class=\"stat\"><b>Total Completions:</b>961,347</div><div class=\"stat\"><b>Total Stars:</b>17,095</div><div class=\"stat\"><b>Total Collected:</b>3,870</div><div class=\"stat\"><b>Avg. Rank:</b>6 kyu</div><div class=\"stat\"><b>Avg. Satisfaction Rating:</b>86%</div></div></div><div class=\"stat-box mt-1 mb-1 md:mb-0\"><h3><i class=\"icon-moon-tag\"></i>Top Tags:</h3><div class=\"ml-5\"><div class=\"stat\"><b>Fundamentals:</b>46</div><div class=\"stat\"><b>Data Types:</b>33</div><div class=\"stat\"><b>Algorithms:</b>29</div><div class=\"stat\"><b>Strings:</b>19</div><div class=\"stat\"><b>Programming Paradigms:</b>16</div><div class=\"stat\"><b>Logic:</b>14</div></div></div></div></div></section></div></div><div class=\"my-4\"><div class=\"w-full px-0\"><section class=\"stat-category\"><figure class=\"hidden md:block\"><i class=\"icon-moon-streak\"></i></figure><div class=\"stat-container\"><h2 class=\"mt-2 md:mt-5 mb-1\">Streaks</h2><div class=\"stat-row\"><div class=\"stat-box mt-1 mb-1 md:mb-0\"><h3><i class=\"icon-moon-calendar\"></i>Most in a Single Day:</h3><div class=\"ml-5\"><div class=\"stat\"><b>Completed Kata:</b>27</div><div class=\"stat\"><b>Date:</b>Jun 28, 2014</div></div></div><div class=\"stat-box mt-1 mb-1 md:mb-0\"><h3><i class=\"icon-moon-calendar\"></i>Most in a Single Week:</h3><div class=\"ml-5\"><div class=\"stat\"><b>Completed Kata:</b>37</div><div class=\"stat\"><b>Ended On:</b>Jun 29, 2014</div></div></div><div class=\"stat-box mt-1 mb-1 md:mb-0\"><h3><i class=\"icon-moon-calendar\"></i>Most Consecutive Days:</h3><div class=\"ml-5\"><div class=\"stat\"><b>Most Number of days:</b>5</div><div class=\"stat\"><b>Ended On:</b>Jan 5, 2015</div><div class=\"stat\"><b>Current Streak:</b>0</div></div></div></div></div></section></div></div><div class=\"mt-8\"><div class=\"w-full px-0\"><section class=\"stat-category language\"><figure class=\"hidden md:block\"><i class=\"icon-moon-javascript\"></i></figure><div class=\"stat-container\"><h2 class=\"mt-2 md:mt-5 mb-1\">JavaScript</h2><div class=\"stat-row\"><div class=\"stat-box mt-1 mb-1 md:mb-0\"><div class=\"stat\"><b>Rank:</b>3 kyu</div><div class=\"stat\"><b>First Completed:</b>Mar 2013</div><div class=\"stat\"><b>Last Completed:</b>Feb 2020</div><div class=\"stat\"><b>Completed Kata:</b>231</div><div class=\"stat\"><b>Kata Attempts:</b>810</div><div class=\"stat\"><b>Completed on 1<sup>st</sup> Attempt:</b>62</div><div class=\"stat\"><b>Authored Kata:</b>38</div></div><div class=\"stat-box mt-1 mb-1 md:mb-0 double\"><h3><i class=\"icon-moon-bullseye\"></i>Completed Kata By Rank:</h3><div class=\"ml-5 ranks\"><div class=\"stat\"><b><i class=\"icon-moon-ranks2 white-rank drop-shadow\"></i>8 Kyu:</b>40</div><div class=\"stat\"><b><i class=\"icon-moon-ranks2 white-rank drop-shadow\"></i>7 Kyu:</b>73</div><div class=\"stat\"><b><i class=\"icon-moon-ranks2 yellow-rank drop-shadow\"></i>6 Kyu:</b>71</div><div class=\"stat\"><b><i class=\"icon-moon-ranks2 yellow-rank drop-shadow\"></i>5 Kyu:</b>29</div><div class=\"stat\"><b><i class=\"icon-moon-ranks2 blue-rank drop-shadow\"></i>4 Kyu:</b>6</div><div class=\"stat\"><b><i class=\"icon-moon-ranks2 purple-rank drop-shadow\"></i>1 Kyu:</b>1</div></div><h3 class=\"mt-15px\"><i class=\"icon-moon-up\"></i>Solution Votes:</h3><div class=\"ml-5\"><div class=\"stat\"><b>Best Practice:</b>3,993</div><div class=\"stat\"><b>Clever:</b>1,362</div></div></div></div></div></section></div><div class=\"w-full px-0\"><section class=\"stat-category language\"><figure class=\"hidden md:block\"><i class=\"icon-moon-ruby\"></i></figure><div class=\"stat-container\"><h2 class=\"mt-2 md:mt-5 mb-1\">Ruby</h2><div class=\"stat-row\"><div class=\"stat-box mt-1 mb-1 md:mb-0\"><div class=\"stat\"><b>Rank:</b>4 kyu</div><div class=\"stat\"><b>First Completed:</b>Mar 2013</div><div class=\"stat\"><b>Last Completed:</b>Feb 2020</div><div class=\"stat\"><b>Completed Kata:</b>137</div><div class=\"stat\"><b>Kata Attempts:</b>329</div><div class=\"stat\"><b>Completed on 1<sup>st</sup> Attempt:</b>27</div><div class=\"stat\"><b>Authored Kata:</b>38</div><div class=\"stat\"><b>Authored Translations:</b>1 (1 approved)</div></div><div class=\"stat-box mt-1 mb-1 md:mb-0 double\"><h3><i class=\"icon-moon-bullseye\"></i>Completed Kata By Rank:</h3><div class=\"ml-5 ranks\"><div class=\"stat\"><b><i class=\"icon-moon-ranks2 white-rank drop-shadow\"></i>8 Kyu:</b>31</div><div class=\"stat\"><b><i class=\"icon-moon-ranks2 white-rank drop-shadow\"></i>7 Kyu:</b>45</div><div class=\"stat\"><b><i class=\"icon-moon-ranks2 yellow-rank drop-shadow\"></i>6 Kyu:</b>33</div><div class=\"stat\"><b><i class=\"icon-moon-ranks2 yellow-rank drop-shadow\"></i>5 Kyu:</b>11</div><div class=\"stat\"><b><i class=\"icon-moon-ranks2 blue-rank drop-shadow\"></i>4 Kyu:</b>10</div><div class=\"stat\"><b><i class=\"icon-moon-ranks2 blue-rank drop-shadow\"></i>3 Kyu:</b>1</div></div><h3 class=\"mt-15px\"><i class=\"icon-moon-up\"></i>Solution Votes:</h3><div class=\"ml-5\"><div class=\"stat\"><b>Best Practice:</b>1,400</div><div class=\"stat\"><b>Clever:</b>487</div></div></div></div></div></section></div><div class=\"w-full px-0\"><section class=\"stat-category language\"><figure class=\"hidden md:block\"><i class=\"icon-moon-coffeescript\"></i></figure><div class=\"stat-container\"><h2 class=\"mt-2 md:mt-5 mb-1\">CoffeeScript</h2><div class=\"stat-row\"><div class=\"stat-box mt-1 mb-1 md:mb-0\"><div class=\"stat\"><b>Rank:</b>4 kyu</div><div class=\"stat\"><b>First Completed:</b>Mar 2013</div><div class=\"stat\"><b>Last Completed:</b>Feb 2020</div><div class=\"stat\"><b>Completed Kata:</b>41</div><div class=\"stat\"><b>Kata Attempts:</b>12</div><div class=\"stat\"><b>Completed on 1<sup>st</sup> Attempt:</b>5</div><div class=\"stat\"><b>Authored Kata:</b>33</div></div><div class=\"stat-box mt-1 mb-1 md:mb-0 double\"><h3><i class=\"icon-moon-bullseye\"></i>Completed Kata By Rank:</h3><div class=\"ml-5 ranks\"><div class=\"stat\"><b><i class=\"icon-moon-ranks2 white-rank drop-shadow\"></i>8 Kyu:</b>6</div><div class=\"stat\"><b><i class=\"icon-moon-ranks2 white-rank drop-shadow\"></i>7 Kyu:</b>13</div><div class=\"stat\"><b><i class=\"icon-moon-ranks2 yellow-rank drop-shadow\"></i>6 Kyu:</b>10</div><div class=\"stat\"><b><i class=\"icon-moon-ranks2 yellow-rank drop-shadow\"></i>5 Kyu:</b>6</div><div class=\"stat\"><b><i class=\"icon-moon-ranks2 blue-rank drop-shadow\"></i>4 Kyu:</b>5</div></div><h3 class=\"mt-15px\"><i class=\"icon-moon-up\"></i>Solution Votes:</h3><div class=\"ml-5\"><div class=\"stat\"><b>Best Practice:</b>24</div><div class=\"stat\"><b>Clever:</b>11</div></div></div></div></div></section></div><div class=\"w-full px-0\"><section class=\"stat-category language\"><figure class=\"hidden md:block\"><i class=\"icon-moon-python\"></i></figure><div class=\"stat-container\"><h2 class=\"mt-2 md:mt-5 mb-1\">Python</h2><div class=\"stat-row\"><div class=\"stat-box mt-1 mb-1 md:mb-0\"><div class=\"stat\"><b>Rank:</b>6 kyu</div><div class=\"stat\"><b>First Completed:</b>Jul 2014</div><div class=\"stat\"><b>Last Completed:</b>Sep 2018</div><div class=\"stat\"><b>Completed Kata:</b>51</div><div class=\"stat\"><b>Kata Attempts:</b>75</div><div class=\"stat\"><b>Completed on 1<sup>st</sup> Attempt:</b>6</div><div class=\"stat\"><b>Authored Kata:</b>3</div></div><div class=\"stat-box mt-1 mb-1 md:mb-0 double\"><h3><i class=\"icon-moon-bullseye\"></i>Completed Kata By Rank:</h3><div class=\"ml-5 ranks\"><div class=\"stat\"><b><i class=\"icon-moon-ranks2 white-rank drop-shadow\"></i>8 Kyu:</b>12</div><div class=\"stat\"><b><i class=\"icon-moon-ranks2 white-rank drop-shadow\"></i>7 Kyu:</b>12</div><div class=\"stat\"><b><i class=\"icon-moon-ranks2 yellow-rank drop-shadow\"></i>6 Kyu:</b>11</div><div class=\"stat\"><b><i class=\"icon-moon-ranks2 yellow-rank drop-shadow\"></i>5 Kyu:</b>5</div><div class=\"stat\"><b><i class=\"icon-moon-ranks2 blue-rank drop-shadow\"></i>4 Kyu:</b>8</div><div class=\"stat\"><b><i class=\"icon-moon-ranks2 blue-rank drop-shadow\"></i>3 Kyu:</b>2</div></div><h3 class=\"mt-15px\"><i class=\"icon-moon-up\"></i>Solution Votes:</h3><div class=\"ml-5\"><div class=\"stat\"><b>Best Practice:</b>4,800</div><div class=\"stat\"><b>Clever:</b>1,945</div></div></div></div></div></section></div><div class=\"w-full px-0\"><section class=\"stat-category language\"><figure class=\"hidden md:block\"><i class=\"icon-moon-sql\"></i></figure><div class=\"stat-container\"><h2 class=\"mt-2 md:mt-5 mb-1\">SQL</h2><div class=\"stat-row\"><div class=\"stat-box mt-1 mb-1 md:mb-0\"><div class=\"stat\"><b>Rank:</b>6 kyu</div><div class=\"stat\"><b>First Completed:</b>Oct 2016</div><div class=\"stat\"><b>Last Completed:</b>Jul 2018</div><div class=\"stat\"><b>Completed Kata:</b>13</div><div class=\"stat\"><b>Kata Attempts:</b>96</div><div class=\"stat\"><b>Completed on 1<sup>st</sup> Attempt:</b>3</div><div class=\"stat\"><b>Authored Kata:</b>3</div><div class=\"stat\"><b>Authored Translations:</b>1 (1 approved)</div></div><div class=\"stat-box mt-1 mb-1 md:mb-0 double\"><h3><i class=\"icon-moon-bullseye\"></i>Completed Kata By Rank:</h3><div class=\"ml-5 ranks\"><div class=\"stat\"><b><i class=\"icon-moon-ranks2 white-rank drop-shadow\"></i>8 Kyu:</b>3</div><div class=\"stat\"><b><i class=\"icon-moon-ranks2 white-rank drop-shadow\"></i>7 Kyu:</b>2</div><div class=\"stat\"><b><i class=\"icon-moon-ranks2 yellow-rank drop-shadow\"></i>6 Kyu:</b>6</div><div class=\"stat\"><b><i class=\"icon-moon-ranks2 yellow-rank drop-shadow\"></i>5 Kyu:</b>2</div></div><h3 class=\"mt-15px\"><i class=\"icon-moon-up\"></i>Solution Votes:</h3><div class=\"ml-5\"><div class=\"stat\"><b>Best Practice:</b>451</div><div class=\"stat\"><b>Clever:</b>140</div></div></div></div></div></section></div><div class=\"w-full px-0\"><section class=\"stat-category language\"><figure class=\"hidden md:block\"><i class=\"icon-moon-java\"></i></figure><div class=\"stat-container\"><h2 class=\"mt-2 md:mt-5 mb-1\">Java</h2><div class=\"stat-row\"><div class=\"stat-box mt-1 mb-1 md:mb-0\"><div class=\"stat\"><b>Rank:</b>6 kyu</div><div class=\"stat\"><b>First Completed:</b>Sep 2014</div><div class=\"stat\"><b>Last Completed:</b>Mar 2017</div><div class=\"stat\"><b>Completed Kata:</b>10</div><div class=\"stat\"><b>Kata Attempts:</b>28</div><div class=\"stat\"><b>Completed on 1<sup>st</sup> Attempt:</b>2</div></div><div class=\"stat-box mt-1 mb-1 md:mb-0 double\"><h3><i class=\"icon-moon-bullseye\"></i>Completed Kata By Rank:</h3><div class=\"ml-5 ranks\"><div class=\"stat\"><b><i class=\"icon-moon-ranks2 white-rank drop-shadow\"></i>8 Kyu:</b>1</div><div class=\"stat\"><b><i class=\"icon-moon-ranks2 white-rank drop-shadow\"></i>7 Kyu:</b>2</div><div class=\"stat\"><b><i class=\"icon-moon-ranks2 yellow-rank drop-shadow\"></i>6 Kyu:</b>3</div><div class=\"stat\"><b><i class=\"icon-moon-ranks2 yellow-rank drop-shadow\"></i>5 Kyu:</b>2</div><div class=\"stat\"><b><i class=\"icon-moon-ranks2 blue-rank drop-shadow\"></i>4 Kyu:</b>1</div></div><h3 class=\"mt-15px\"><i class=\"icon-moon-up\"></i>Solution Votes:</h3><div class=\"ml-5\"><div class=\"stat\"><b>Best Practice:</b>154</div><div class=\"stat\"><b>Clever:</b>30</div></div></div></div></div></section></div><div class=\"w-full px-0\"><section class=\"stat-category language\"><figure class=\"hidden md:block\"><i class=\"icon-moon-haskell\"></i></figure><div class=\"stat-container\"><h2 class=\"mt-2 md:mt-5 mb-1\">Haskell</h2><div class=\"stat-row\"><div class=\"stat-box mt-1 mb-1 md:mb-0\"><div class=\"stat\"><b>Rank:</b>6 kyu</div><div class=\"stat\"><b>First Completed:</b>Sep 2014</div><div class=\"stat\"><b>Last Completed:</b>Dec 2016</div><div class=\"stat\"><b>Completed Kata:</b>31</div><div class=\"stat\"><b>Kata Attempts:</b>6</div><div class=\"stat\"><b>Completed on 1<sup>st</sup> Attempt:</b>4</div></div><div class=\"stat-box mt-1 mb-1 md:mb-0 double\"><h3><i class=\"icon-moon-bullseye\"></i>Completed Kata By Rank:</h3><div class=\"ml-5 ranks\"><div class=\"stat\"><b><i class=\"icon-moon-ranks2 white-rank drop-shadow\"></i>8 Kyu:</b>3</div><div class=\"stat\"><b><i class=\"icon-moon-ranks2 white-rank drop-shadow\"></i>7 Kyu:</b>11</div><div class=\"stat\"><b><i class=\"icon-moon-ranks2 yellow-rank drop-shadow\"></i>6 Kyu:</b>10</div><div class=\"stat\"><b><i class=\"icon-moon-ranks2 yellow-rank drop-shadow\"></i>5 Kyu:</b>1</div><div class=\"stat\"><b><i class=\"icon-moon-ranks2 blue-rank drop-shadow\"></i>4 Kyu:</b>1</div><div class=\"stat\"><b><i class=\"icon-moon-ranks2 purple-rank drop-shadow\"></i>1 Kyu:</b>1</div></div><h3 class=\"mt-15px\"><i class=\"icon-moon-up\"></i>Solution Votes:</h3><div class=\"ml-5\"><div class=\"stat\"><b>Best Practice:</b>233</div><div class=\"stat\"><b>Clever:</b>122</div></div></div></div></div></section></div><div class=\"w-full px-0\"><section class=\"stat-category language\"><figure class=\"hidden md:block\"><i class=\"icon-moon-bash\"></i></figure><div class=\"stat-container\"><h2 class=\"mt-2 md:mt-5 mb-1\">Shell</h2><div class=\"stat-row\"><div class=\"stat-box mt-1 mb-1 md:mb-0\"><div class=\"stat\"><b>Rank:</b>8 kyu</div><div class=\"stat\"><b>First Completed:</b>Nov 2016</div><div class=\"stat\"><b>Last Completed:</b>Jan 2017</div><div class=\"stat\"><b>Completed Kata:</b>3</div><div class=\"stat\"><b>Kata Attempts:</b>9</div><div class=\"stat\"><b>Completed on 1<sup>st</sup> Attempt:</b>1</div><div class=\"stat\"><b>Authored Kata:</b>1</div></div><div class=\"stat-box mt-1 mb-1 md:mb-0 double\"><h3><i class=\"icon-moon-bullseye\"></i>Completed Kata By Rank:</h3><div class=\"ml-5 ranks\"><div class=\"stat\"><b><i class=\"icon-moon-ranks2 white-rank drop-shadow\"></i>8 Kyu:</b>2</div><div class=\"stat\"><b><i class=\"icon-moon-ranks2 white-rank drop-shadow\"></i>7 Kyu:</b>1</div></div><h3 class=\"mt-15px\"><i class=\"icon-moon-up\"></i>Solution Votes:</h3><div class=\"ml-5\"><div class=\"stat\"><b>Best Practice:</b>7</div><div class=\"stat\"><b>Clever:</b>1</div></div></div></div></div></section></div><div class=\"w-full px-0\"><section class=\"stat-category language\"><figure class=\"hidden md:block\"><i class=\"icon-moon-csharp\"></i></figure><div class=\"stat-container\"><h2 class=\"mt-2 md:mt-5 mb-1\">C#</h2><div class=\"stat-row\"><div class=\"stat-box mt-1 mb-1 md:mb-0\"><div class=\"stat\"><b>Rank:</b>8 kyu</div><div class=\"stat\"><b>First Completed:</b>Mar 2015</div><div class=\"stat\"><b>Last Completed:</b>Aug 2016</div><div class=\"stat\"><b>Completed Kata:</b>10</div><div class=\"stat\"><b>Kata Attempts:</b>20</div><div class=\"stat\"><b>Completed on 1<sup>st</sup> Attempt:</b>2</div></div><div class=\"stat-box mt-1 mb-1 md:mb-0 double\"><h3><i class=\"icon-moon-bullseye\"></i>Completed Kata By Rank:</h3><div class=\"ml-5 ranks\"><div class=\"stat\"><b><i class=\"icon-moon-ranks2 white-rank drop-shadow\"></i>8 Kyu:</b>1</div><div class=\"stat\"><b><i class=\"icon-moon-ranks2 white-rank drop-shadow\"></i>7 Kyu:</b>3</div><div class=\"stat\"><b><i class=\"icon-moon-ranks2 yellow-rank drop-shadow\"></i>6 Kyu:</b>4</div><div class=\"stat\"><b><i class=\"icon-moon-ranks2 blue-rank drop-shadow\"></i>4 Kyu:</b>1</div></div><h3 class=\"mt-15px\"><i class=\"icon-moon-up\"></i>Solution Votes:</h3><div class=\"ml-5\"><div class=\"stat\"><b>Best Practice:</b>14</div><div class=\"stat\"><b>Clever:</b>57</div></div></div></div></div></section></div><div class=\"w-full px-0\"><section class=\"stat-category language\"><figure class=\"hidden md:block\"><i class=\"icon-moon-typescript\"></i></figure><div class=\"stat-container\"><h2 class=\"mt-2 md:mt-5 mb-1\">TypeScript</h2><div class=\"stat-row\"><div class=\"stat-box mt-1 mb-1 md:mb-0\"><div class=\"stat\"><b>Rank:</b>8 kyu</div><div class=\"stat\"><b>First Completed:</b>May 2016</div><div class=\"stat\"><b>Last Completed:</b>Oct 2019</div><div class=\"stat\"><b>Completed Kata:</b>1</div><div class=\"stat\"><b>Kata Attempts:</b>0</div><div class=\"stat\"><b>Completed on 1<sup>st</sup> Attempt:</b>0</div><div class=\"stat\"><b>Authored Kata:</b>1</div></div><div class=\"stat-box mt-1 mb-1 md:mb-0 double\"><h3><i class=\"icon-moon-bullseye\"></i>Completed Kata By Rank:</h3><div class=\"ml-5 ranks\"><div class=\"stat\"><b><i class=\"icon-moon-ranks2 white-rank drop-shadow\"></i>7 Kyu:</b>1</div></div></div></div></div></section></div><div class=\"w-full px-0\"><section class=\"stat-category language\"><figure class=\"hidden md:block\"><i class=\"icon-moon-objc\"></i></figure><div class=\"stat-container\"><h2 class=\"mt-2 md:mt-5 mb-1\">Objective-C</h2><div class=\"stat-row\"><div class=\"stat-box mt-1 mb-1 md:mb-0\"><div class=\"stat\"><b>Rank:</b>8 kyu</div><div class=\"stat\"><b>First Completed:</b>Jan 2017</div><div class=\"stat\"><b>Last Completed:</b>Oct 2017</div><div class=\"stat\"><b>Completed Kata:</b>2</div><div class=\"stat\"><b>Kata Attempts:</b>1</div><div class=\"stat\"><b>Completed on 1<sup>st</sup> Attempt:</b>1</div><div class=\"stat\"><b>Authored Translations:</b>1 (1 approved)</div></div><div class=\"stat-box mt-1 mb-1 md:mb-0 double\"><h3><i class=\"icon-moon-bullseye\"></i>Completed Kata By Rank:</h3><div class=\"ml-5 ranks\"><div class=\"stat\"><b><i class=\"icon-moon-ranks2 white-rank drop-shadow\"></i>8 Kyu:</b>2</div></div><h3 class=\"mt-15px\"><i class=\"icon-moon-up\"></i>Solution Votes:</h3><div class=\"ml-5\"><div class=\"stat\"><b>Best Practice:</b>0</div><div class=\"stat\"><b>Clever:</b>7</div></div></div></div></div></section></div><div class=\"w-full px-0\"><section class=\"stat-category language\"><figure class=\"hidden md:block\"><i class=\"icon-moon-elixir\"></i></figure><div class=\"stat-container\"><h2 class=\"mt-2 md:mt-5 mb-1\">Elixir</h2><div class=\"stat-row\"><div class=\"stat-box mt-1 mb-1 md:mb-0\"><div class=\"stat\"><b>Rank:</b>8 kyu</div><div class=\"stat\"><b>First Completed:</b>Jul 2016</div><div class=\"stat\"><b>Last Completed:</b>Aug 2016</div><div class=\"stat\"><b>Completed Kata:</b>2</div><div class=\"stat\"><b>Kata Attempts:</b>6</div><div class=\"stat\"><b>Completed on 1<sup>st</sup> Attempt:</b>0</div><div class=\"stat\"><b>Authored Translations:</b>1 (1 approved)</div></div><div class=\"stat-box mt-1 mb-1 md:mb-0 double\"><h3><i class=\"icon-moon-bullseye\"></i>Completed Kata By Rank:</h3><div class=\"ml-5 ranks\"><div class=\"stat\"><b><i class=\"icon-moon-ranks2 white-rank drop-shadow\"></i>8 Kyu:</b>1</div></div></div></div></div></section></div><div class=\"w-full px-0\"><section class=\"stat-category language\"><figure class=\"hidden md:block\"><i class=\"icon-moon-crystal\"></i></figure><div class=\"stat-container\"><h2 class=\"mt-2 md:mt-5 mb-1\">Crystal</h2><div class=\"stat-row\"><div class=\"stat-box mt-1 mb-1 md:mb-0\"><div class=\"stat\"><b>Rank:</b>8 kyu</div><div class=\"stat\"><b>First Completed:</b>Aug 2016</div><div class=\"stat\"><b>Last Completed:</b>Aug 2016</div><div class=\"stat\"><b>Completed Kata:</b>1</div><div class=\"stat\"><b>Kata Attempts:</b>0</div><div class=\"stat\"><b>Completed on 1<sup>st</sup> Attempt:</b>0</div><div class=\"stat\"><b>Authored Translations:</b>1 (1 approved)</div></div><div class=\"stat-box mt-1 mb-1 md:mb-0 double\"><h3><i class=\"icon-moon-bullseye\"></i>Completed Kata By Rank:</h3><div class=\"ml-5 ranks\"><div class=\"stat\"><b><i class=\"icon-moon-ranks2 white-rank drop-shadow\"></i>8 Kyu:</b>1</div></div><h3 class=\"mt-15px\"><i class=\"icon-moon-up\"></i>Solution Votes:</h3><div class=\"ml-5\"><div class=\"stat\"><b>Best Practice:</b>3</div><div class=\"stat\"><b>Clever:</b>2</div></div></div></div></div></section></div></div></div></div></main><div class=\"clearfix\"></div></div><div class=\"clearfix\"></div><footer class=\"p-3 text-ui-text mb-0 text-center w-auto h-50px\" id=\"main_footer\"><ul class=\"block list-none mx-auto mb-0 p-0 overflow-hidden space-x-5\"><li class=\"inline-block\">© 2021 Codewars</li><li class=\"inline-block\"><a href=\"/about\">About</a></li><li class=\"inline-block\"><a href=\"https://dev.codewars.com\" target=\"_blank\">API</a></li><li class=\"inline-block\"><a href=\"https://blog.codewars.com\" target=\"_blank\">Blog</a></li><li class=\"inline-block\"><a href=\"/about/privacy\">Privacy</a></li><li class=\"inline-block\"><a href=\"/about/terms-of-service\">Terms</a></li><li class=\"inline-block\"><a data-content=\"info@codewars.com\" href=\"mailto:info@codewars.com\" id=\"contactUs\" rel=\"popover\">Contact</a></li><li class=\"poweredby_link inline-block\"><a class=\"hover:text-current\" data-tippy-content=\"Supercharge your technical hiring with developer assessments.\" data-tippy-placement=\"top\" href=\"https://www.qualified.io?utm_source=codewars&amp;utm_medium=web&amp;utm_term=footer\" target=\"_blank\"><div class=\"flex items-baseline justify-center\"><span class=\"pl-1 text-xs inline-block\">powered by</span><img class=\"h-4 inline-block dark:hidden pl-1\" src=\"/assets/logos/qualified-black-b052752a4beaf94810c9d982f495680e2a9eb207824764ef98240ccef15cfbb1.svg\"/><img class=\"h-4 hidden dark:inline-block pl-1\" src=\"/assets/logos/qualified-white-7cba1bde874154ee4f39d50aebd5b7e435f5b21af9884b236a60d9015039e7f0.svg\"/></div></a></li></ul></footer><div class=\"modal\" id=\"confirm_modal\" style=\"display: none\"><div class=\"modal-header\"><div class=\"close\" data-dismiss=\"modal\"><i class=\"icon-moon-x\"></i></div><h4>Confirm</h4><div class=\"clearfix\"></div></div><div class=\"clearfix\"></div><div class=\"modal-body view\"></div><div class=\"modal-footer\"><ul class=\"form-actions\"><li class=\"cancel\" data-dismiss=\"modal\"><a class=\"btn\">Cancel</a></li><li class=\"alt-confirm is-hidden\"><a class=\"btn\"></a></li><li class=\"confirm\"><a class=\"btn is-green\"><i class=\"icon-general-checkmark\"></i>Confirm</a></li></ul></div></div></div><div class=\"is-hidden\" data-turbolinks-permanent=\"\" id=\"template_helpers\"><script id=\"hidden_field\" type=\"template\"><input data-bind-id=\"@id\" data-bind-name=\"@name\" data-bind-value=\"@value\" type=\"hidden\" /></script><script id=\"input_field\" type=\"template\"><div data-bind-class=\"field_class\"><label data-bind-class=\"%required &amp;&amp; &#39;required&#39;\" data-bind-for=\"@id\" data-bind-if=\"%label\"><abbr data-bind-if=\"%required\" title=\"required\">* </abbr><span data-bind-html=\"%label\"></span></label><div data-bind-class=\"field_value_class\"><input data-bind-id=\"@id\" data-bind-name=\"@name\" data-bind-type=\"%type || &#39;text&#39;\" data-bind-value=\"@value | unescape_html || %defaultValue\" /></div><include data-bind-each=\"@errors\"><small data-bind-html=\"@\"></small></include></div></script><script id=\"checkbox_field\" type=\"template\"><div class=\"boolean\" data-bind-class=\"field_class\"><div class=\"field_value\"><div><input data-bind-name=\"@name\" type=\"hidden\" value=\"false\" /><label class=\"checkbox\"><input class=\"rounded bg-gray-400 dark:bg-gray-600 border-transparent focus:border-transparent focus:bg-gray-400 text-gray-700 focus:ring-1 focus:ring-offset-2 dark:ring-offset-1 focus:ring-gray-500 dark:focus:ring-gray-700 dark:focus:ring-offset-gray-800 boolean\" data-bind-checked=\"@value\" data-bind-id=\"@id\" data-bind-name=\"@name\" type=\"checkbox\" value=\"true\" /><span data-bind-html=\"%label || @label\"></span></label></div></div></div></script><script id=\"markdown_field\" type=\"template\"><div class=\"is-full-height\" data-bind-class=\"field_class\" data-bind-if=\"%style | eq::&#39;full&#39;\"><div class=\"markdown-editor is-full-height mb-0\"><div class=\"tabs is-full-height\"><dl class=\"tabs is-contained bg-k-40\"><dd class=\"is-active\" data-tippy-content=\"Edit your message using markdown\" data-tippy-placement=\"top\"><a data-bind-html=\"{{%label}}\" data-bind-if=\"%label\" data-tab=\"markdown\"></a><a data-bind-unless=\"%label\" data-tab=\"markdown\"><i class=\"icon-moon-edit \"></i></a></dd><dd data-tippy-content=\"Preview your comment\" data-tippy-placement=\"right\"><a data-tab=\"preview\"><i class=\"icon-moon-preview \"></i></a></dd><dd data-tippy-content=\"Edit in full-screen mode\" data-tippy-placement=\"left\"><a class=\"js-expand\"><i class=\"icon-moon-expand \"></i></a></dd></dl><div class=\"clearfix\"></div><ul class=\"tabs-content is-full-height\"><li class=\"is-full-height is-active\" data-tab=\"markdown\"><div class=\"text-editor-container is-full-height\"><textarea class=\"is-hidden\" data-bind-id=\"@id\" data-bind-name=\"@name\" data-bind-value=\"@value\"></textarea><div class=\"text-editor js-editor has-shadow\"></div><div class=\"editor-msg-container is-hidden\"><div class=\"alert-box\"></div></div></div></li><li class=\"is-full-height\" data-tab=\"preview\"><div class=\"panel bg-ui-section is-overflow-auto\"><div class=\"markdown prose max-w-none\"><p>Your rendered <a href=\"https://github.com/adam-p/markdown-here/wiki/Markdown-Cheatsheet\" target=\"_blank\">github-flavored</a> markdown will appear here.</p></div></div></li></ul></div></div></div><div data-bind-class=\"field_class\" data-bind-if=\"%style | ne::&#39;full&#39;\"><label data-bind-class=\"%required &amp;&amp; &#39;required&#39;\" data-bind-for=\"@id\" data-bind-if=\"%label\"><abbr data-bind-if=\"%required\" title=\"required\">* </abbr><span data-bind-html=\"%label\"></span></label><div class=\"markdown-editor is-tall is-low-light\" data-bind-class=\"%markdownEditorClass\"><div class=\"tabs\"><dl class=\"tabs is-contained\"><dd class=\"is-active\" data-tippy-content=\"Edit your message using markdown\" data-tippy-placement=\"top\"><a data-tab=\"markdown\"><i class=\"icon-moon-edit \"></i></a></dd><dd data-tippy-content=\"Preview your comment\" data-tippy-placement=\"right\"><a data-tab=\"preview\"><i class=\"icon-moon-preview \"></i></a></dd><dd data-tippy-content=\"Edit in full-screen mode\" data-tippy-placement=\"right\"><a class=\"js-expand\"><i class=\"icon-moon-expand \"></i></a></dd></dl><ul class=\"tabs-content\"><li class=\"is-full-height is-active\" data-tab=\"markdown\"><div class=\"text-editor-container is-full-height\"><textarea class=\"is-hidden\" data-bind-id=\"@id\" data-bind-name=\"@name\" data-bind-value=\"@value\"></textarea><div class=\"text-editor js-editor has-shadow\"></div><div class=\"editor-msg-container is-hidden\"><div class=\"alert-box\"></div></div></div></li><li class=\"is-full-height\" data-tab=\"preview\"><div class=\"panel bg-ui-section is-overflow-auto\"><div class=\"markdown prose max-w-none\"><p>Your rendered <a href=\"https://github.com/adam-p/markdown-here/wiki/Markdown-Cheatsheet\" target=\"_blank\">github-flavored</a> markdown will appear here.</p></div></div></li></ul></div></div></div></script><script id=\"code_editor_field\" type=\"template\"><div class=\"text-editor-container\" data-bind-class=\"field_class\" data-bind-id=\"{{@id}}_field\"><label data-bind-class=\"%required &amp;&amp; &#39;required&#39;\" data-bind-for=\"@id\" data-bind-if=\"%label\"><abbr data-bind-if=\"%required\" title=\"required\">* </abbr><span data-bind-html=\"%label\"></span></label><textarea class=\"is-hidden\" data-bind-id=\"@id\" data-bind-name=\"@name\" data-bind-value=\"@value\"></textarea><div class=\"text-editor js-editor has-shadow\"></div><div class=\"commands-container\"><ul class=\"is-unstyled\"><li class=\"expand\" title=\"Maximize Editor (esc key)\"><a><i class=\"icon-moon-expand \"></i></a></li><li class=\"shrink is-hidden\" title=\"Shrink Editor (esc key)\"><a><i class=\"icon-moon-collapse \"></i></a></li></ul></div><div class=\"editor-msg-container is-hidden\"><div class=\"alert-box\"></div></div></div></script></div><div class=\"p-4 shadow-lg is-hidden\" data-turbolinks-permanent=\"\" id=\"collection_modal\"><view><script type=\"template\"><h3 class=\"mx-2 mt-2 mb-5 text-base font-bold\">Collect: <span data-bind-html='@current.name'>kata</span></h3><div class=\"pl-2\" data-bind-if=\"@loading\"><p>Loading collection data...</p></div><div data-bind-unless=\"@loading\"><div class=\"tabs\" data-bind-unless=\"@adding\"><dl class=\"tabs\"><dd class=\"is-active\"><a data-tab=\"personal\"><i class=\"icon-moon-plus \"></i>Add To My Collections</a></dd><dd data-bind-class=\"!@recent | hidden_class\"><a data-tab=\"recent\"><i class=\"icon-moon-collection \"></i>Recently Collected In</a></dd></dl><ul class=\"tabs-content mb-0\"><li class=\"is-active\" data-tab=\"personal\"><div class=\"collection-content\" data-bind-if=\"enough_honor?\"><div class=\"collections\" data-bind-if=\"@collections.length\"><ul><li data-bind-data-value=\"@id\" data-bind-each=\"@collections\"><div><h4><i class=\"icon-moon-collection \"></i><span data-bind-text=\"@name\"></span></h4><div class=\"info-row\"><span><i class=\"icon-moon-compare \"></i><span data-bind-text=\"{{@code_challenges | count | string}} kata\"></span></span><a data-bind-href=\"/collections/{{@id}}\"><i class=\"icon-moon-preview \"></i>View</a></div></div><a class=\"btn is-dark is-red-text js-add-toggle\" data-bind-if=\"added?\">Remove</a><a class=\"btn is-dark is-green-text js-add-toggle\" data-bind-unless=\"added?\">Add</a></li></ul></div><div data-bind-unless=\"@collections.length\"><h5>You have not created any collections yet.</h5><p>Collections are a way for you to organize kata so that you can\n",
       "create your own training routines. Every collection you create is public and\n",
       "automatically sharable with other warriors. After you have added a few kata to a\n",
       "collection you and others can train on the kata contained within the collection.</p><p>Get started now by <a class=\"js-add\">creating a new collection</a>.</p></div></div><div class=\"collection-content p-15px\" data-bind-unless=\"enough_honor?\">You must wait until you have earned at least 20 honor before you can create new collections.</div></li></ul></div><form class=\"new-collection px-10px\" data-bind-if=\"@adding\"><p>Set the name for your new collection. Remember, this is going to be visible by everyone\n",
       "so think of something that others will understand.</p><input class=\"mt-4 block w-full rounded-none rounded-l-md sm:text-sm dark:bg-gray-800 focus:outline-none focus:ring-cgray-300 dark:focus:ring-cgray-600 focus:border-cgray-300 dark:focus:border-cgray-600 border-gray-300 dark:border-gray-700\" placeholder=\"New Collection Name\" type=\"text\" /></form><div class=\"collection-footer border-t mt-5\"><a class=\"btn is-green mr-15px js-create\" data-bind-if=\"@adding\">Create & Add</a><a class=\"btn js-done\" data-bind-text=\"done_label\"></a><a class=\"btn is-green float-right js-add\" data-bind-unless=\"@adding || !enough_honor?\">New Collection</a></div></div></script></view></div><script>document.addEventListener(\"turbolinks:load\", (event) => {\n",
       "  if (typeof gtag === \"function\") {\n",
       "    gtag(\"event\", \"page_view\", {\n",
       "      page_location: event.data.url,\n",
       "      page_title: document.title,\n",
       "      page_path: document.location.pathname\n",
       "    });\n",
       "  }\n",
       "  App.setup({\n",
       "    env: \"production\",\n",
       "    currentUser: JSON.parse(\"{}\"),\n",
       "    data: JSON.parse(\"{\\\"routes\\\":{},\\\"controllerName\\\":\\\"users\\\",\\\"profile\\\":{\\\"username\\\":\\\"jhoffner\\\",\\\"name\\\":\\\"Jake Hoffner\\\",\\\"clan\\\":\\\"Codewars\\\",\\\"isSelf\\\":false}}\"),\n",
       "    routes: {\"toggle_relationship\":\"/toggle/508f2708b3be0c0200000002\",\"collection\":\"/api/v1/collections/%7Bid%7D\"},\n",
       "    pageControllerName: 'Users.ShowController',\n",
       "    ablyKey: \"scNMAQ.WPB3NQ:wcqqMD8xujGV8lHt\",\n",
       "    privateChannelName: \"zg4Pnw\",\n",
       "  });\n",
       "}, { once: true });</script><script>document.addEventListener(\"turbolinks:load\", (event) => {\n",
       "  if (typeof Intercom === \"function\" && Intercom.booted) Intercom(\"shutdown\");\n",
       "}, { once: true });</script></body></html>"
      ]
     },
     "execution_count": 42,
     "metadata": {},
     "output_type": "execute_result"
    }
   ],
   "source": [
    "get_member_since('jhoffner')"
   ]
  },
  {
   "cell_type": "code",
   "execution_count": null,
   "id": "smooth-advocate",
   "metadata": {},
   "outputs": [],
   "source": [
    "retorno = (elem.text for elem.text in prueba if 'Member Since:' in elem.text)\n",
    "retorno\n",
    "\n",
    "prueba[0].text"
   ]
  },
  {
   "cell_type": "markdown",
   "id": "disabled-right",
   "metadata": {},
   "source": [
    "Alternativas Code Warrior"
   ]
  },
  {
   "cell_type": "code",
   "execution_count": null,
   "id": "ceramic-liability",
   "metadata": {},
   "outputs": [],
   "source": [
    "from requests import get\n",
    "\n",
    "def get_member_since(who):\n",
    "    return get('https://www.codewars.com/users/' + who).text.split('Since:</b>', 1)[1].split('<', 1)[0]"
   ]
  },
  {
   "cell_type": "markdown",
   "id": "absent-victorian",
   "metadata": {},
   "source": [
    "# ESTO ES UNA JOYA"
   ]
  },
  {
   "cell_type": "markdown",
   "id": "honey-mustang",
   "metadata": {},
   "source": [
    "### Se puede atacar directamente al text!!!! apuntatelo!!!! y lo de next element es también gloria"
   ]
  },
  {
   "cell_type": "code",
   "execution_count": null,
   "id": "retained-representative",
   "metadata": {},
   "outputs": [],
   "source": [
    "from bs4 import BeautifulSoup\n",
    "from urllib.request import urlopen\n",
    "\n",
    "def get_member_since(username):\n",
    "    return BeautifulSoup(urlopen(f\"https://www.codewars.com/users/{username}\")).find(text=\"Member Since:\").next_element"
   ]
  },
  {
   "cell_type": "markdown",
   "id": "blond-retailer",
   "metadata": {},
   "source": [
    "#### Acuerdate que si se ordena una tupla, lo hace primero por el primer valor y en caso de que sean iguales vuelve a ordenar por el segundo y así con los valores que tenga)"
   ]
  },
  {
   "cell_type": "code",
   "execution_count": null,
   "id": "mobile-cheat",
   "metadata": {},
   "outputs": [],
   "source": []
  }
 ],
 "metadata": {
  "kernelspec": {
   "display_name": "Python 3",
   "language": "python",
   "name": "python3"
  },
  "language_info": {
   "codemirror_mode": {
    "name": "ipython",
    "version": 3
   },
   "file_extension": ".py",
   "mimetype": "text/x-python",
   "name": "python",
   "nbconvert_exporter": "python",
   "pygments_lexer": "ipython3",
   "version": "3.8.5"
  }
 },
 "nbformat": 4,
 "nbformat_minor": 5
}
