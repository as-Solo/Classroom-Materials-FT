{
 "cells": [
  {
   "cell_type": "code",
   "execution_count": 21,
   "id": "chemical-hotel",
   "metadata": {},
   "outputs": [],
   "source": [
    "lista = [6, 8, 9, 10]"
   ]
  },
  {
   "cell_type": "code",
   "execution_count": 43,
   "id": "legal-collaboration",
   "metadata": {},
   "outputs": [],
   "source": [
    "lista_bin = [bin(6), bin(8), bin(9), bin(10), bin(12)]"
   ]
  },
  {
   "cell_type": "code",
   "execution_count": 88,
   "id": "efficient-advisory",
   "metadata": {},
   "outputs": [
    {
     "data": {
      "text/plain": [
       "['0b1000', '0b1001', '0b1010', '0b110', '0b1100']"
      ]
     },
     "execution_count": 88,
     "metadata": {},
     "output_type": "execute_result"
    }
   ],
   "source": [
    "sorted(lista_bin)"
   ]
  },
  {
   "cell_type": "code",
   "execution_count": 90,
   "id": "departmental-defensive",
   "metadata": {
    "scrolled": true
   },
   "outputs": [
    {
     "data": {
      "text/plain": [
       "['0b1000', '0b1001', '0b1010', '0b110', '0b1100']"
      ]
     },
     "execution_count": 90,
     "metadata": {},
     "output_type": "execute_result"
    }
   ],
   "source": [
    "sorted(lista_bin)"
   ]
  },
  {
   "cell_type": "code",
   "execution_count": 92,
   "id": "minute-offer",
   "metadata": {},
   "outputs": [],
   "source": [
    "lista_bin.sort()"
   ]
  },
  {
   "cell_type": "code",
   "execution_count": 93,
   "id": "median-medium",
   "metadata": {},
   "outputs": [
    {
     "data": {
      "text/plain": [
       "['0b1000', '0b1001', '0b1010', '0b110', '0b1100']"
      ]
     },
     "execution_count": 93,
     "metadata": {},
     "output_type": "execute_result"
    }
   ],
   "source": [
    "lista_bin"
   ]
  },
  {
   "cell_type": "code",
   "execution_count": 37,
   "id": "violent-copyright",
   "metadata": {},
   "outputs": [],
   "source": [
    "lista_aux = []"
   ]
  },
  {
   "cell_type": "code",
   "execution_count": 41,
   "id": "atmospheric-belief",
   "metadata": {},
   "outputs": [],
   "source": [
    "for elem in lista_bin:\n",
    "    if elem.count('1') == 2:\n",
    "        lista_aux.append(elem)"
   ]
  },
  {
   "cell_type": "code",
   "execution_count": 45,
   "id": "biblical-dutch",
   "metadata": {},
   "outputs": [
    {
     "data": {
      "text/plain": [
       "['0b110', '0b1001', '0b1010']"
      ]
     },
     "execution_count": 45,
     "metadata": {},
     "output_type": "execute_result"
    }
   ],
   "source": [
    "lista_aux"
   ]
  },
  {
   "cell_type": "code",
   "execution_count": 72,
   "id": "sharp-controversy",
   "metadata": {},
   "outputs": [
    {
     "data": {
      "text/plain": [
       "10"
      ]
     },
     "execution_count": 72,
     "metadata": {},
     "output_type": "execute_result"
    }
   ],
   "source": [
    "int(str(1010), 2)"
   ]
  },
  {
   "cell_type": "code",
   "execution_count": 181,
   "id": "congressional-bundle",
   "metadata": {},
   "outputs": [],
   "source": [
    "arr = [3, 8, 3, 6, 5, 7, 9, 1]"
   ]
  },
  {
   "cell_type": "code",
   "execution_count": 178,
   "id": "informed-quick",
   "metadata": {},
   "outputs": [],
   "source": [
    "binarios = ['0b1', '0b1000', '0b1001', '0b101', '0b11', '0b11', '0b110', '0b111']"
   ]
  },
  {
   "cell_type": "code",
   "execution_count": 179,
   "id": "compliant-trinity",
   "metadata": {},
   "outputs": [],
   "source": [
    "lista_ordenada = sorted(binarios)"
   ]
  },
  {
   "cell_type": "code",
   "execution_count": 180,
   "id": "secure-owner",
   "metadata": {},
   "outputs": [
    {
     "data": {
      "text/plain": [
       "['0b1', '0b1000', '0b1001', '0b101', '0b11', '0b11', '0b110', '0b111']"
      ]
     },
     "execution_count": 180,
     "metadata": {},
     "output_type": "execute_result"
    }
   ],
   "source": [
    "lista_ordenada"
   ]
  },
  {
   "cell_type": "code",
   "execution_count": 182,
   "id": "looking-airfare",
   "metadata": {},
   "outputs": [],
   "source": [
    "def sort_by_bit(arr):\n",
    "    lista_bin = [format(elem, 'b') for elem in arr]\n",
    "    print(lista_bin)\n",
    "    print (sorted(lista_bin))\n",
    "    \n",
    "    lista_02 = [int(str(elem), 2) for elem in sorted(lista_bin)]\n",
    "    print (lista_02)\n",
    "    arr.sort()"
   ]
  },
  {
   "cell_type": "code",
   "execution_count": 184,
   "id": "physical-findings",
   "metadata": {},
   "outputs": [
    {
     "name": "stdout",
     "output_type": "stream",
     "text": [
      "['11', '1000', '11', '110', '101', '111', '1001', '1']\n",
      "['1', '1000', '1001', '101', '11', '11', '110', '111']\n",
      "[1, 8, 9, 5, 3, 3, 6, 7]\n"
     ]
    }
   ],
   "source": [
    "sort_by_bit(arr)"
   ]
  },
  {
   "cell_type": "code",
   "execution_count": 158,
   "id": "faced-questionnaire",
   "metadata": {},
   "outputs": [
    {
     "data": {
      "text/plain": [
       "[1, 3, 3, 5, 6, 7, 8, 9]"
      ]
     },
     "execution_count": 158,
     "metadata": {},
     "output_type": "execute_result"
    }
   ],
   "source": [
    "arr"
   ]
  },
  {
   "cell_type": "code",
   "execution_count": null,
   "id": "forward-banner",
   "metadata": {},
   "outputs": [],
   "source": [
    "def sort_by_bit(arr):\n",
    "    lista_auxiliar = []\n",
    "    cont == 1\n",
    "    lista_final = []\n",
    "    \n",
    "    lista_bin = [format(elem, 'b') for elem in arr]\n",
    "    lista_02 = [int(str(elem), 2) for elem in sorted(lista_bin)]\n"
   ]
  },
  {
   "cell_type": "code",
   "execution_count": 218,
   "id": "living-proportion",
   "metadata": {},
   "outputs": [],
   "source": [
    "def sort_by_bit(arr):\n",
    "    \n",
    "    cont = 1\n",
    "    lista_auxiliar = []\n",
    "    \n",
    "    lista_bin = [format(elem, 'b') for elem in arr]\n",
    "    print(lista_bin)\n",
    "    print(sorted(lista_bin))\n",
    "    \n",
    "    \n",
    "    \n",
    "    arr = []\n",
    "    \n",
    "    for elem in sorted(lista_bin):\n",
    "        print (cont, elem)\n",
    "        if str(elem).count('1') == cont:\n",
    "            lista_auxiliar.append(int(str(elem), 2))\n",
    "            \n",
    "        else:\n",
    "            lista_auxiliar.sort()\n",
    "            for num in lista_auxiliar:\n",
    "                arr.append(num)\n",
    "            lista_auxiliar = []\n",
    "            lista_auxiliar.append(int(str(elem), 2))\n",
    "            cont += 1\n",
    "    \n",
    "    lista_auxiliar.sort()\n",
    "    for num in lista_auxiliar:\n",
    "                arr.append(num)\n",
    "    \n",
    "    #lista_02 = [int(str(elem), 2) for elem in sorted(lista_bin)]\n",
    "    #print(lista_02)\n",
    "    print(arr)"
   ]
  },
  {
   "cell_type": "code",
   "execution_count": 220,
   "id": "dependent-singles",
   "metadata": {},
   "outputs": [
    {
     "name": "stdout",
     "output_type": "stream",
     "text": [
      "['1', '11', '11', '101', '110', '111', '1000', '1001']\n",
      "['1', '1000', '1001', '101', '11', '11', '110', '111']\n",
      "1 1\n",
      "1 1000\n",
      "1 1001\n",
      "2 101\n",
      "2 11\n",
      "2 11\n",
      "2 110\n",
      "2 111\n",
      "[1, 8, 3, 3, 5, 6, 9, 7]\n"
     ]
    }
   ],
   "source": [
    "sort_by_bit(arr)"
   ]
  },
  {
   "cell_type": "code",
   "execution_count": 215,
   "id": "split-timing",
   "metadata": {},
   "outputs": [
    {
     "data": {
      "text/plain": [
       "['1001', '101', '1010', '11']"
      ]
     },
     "execution_count": 215,
     "metadata": {},
     "output_type": "execute_result"
    }
   ],
   "source": [
    "mierda = ['1001', '101', '1010', '11']\n",
    "sorted(mierda)"
   ]
  },
  {
   "cell_type": "code",
   "execution_count": 221,
   "id": "united-ordering",
   "metadata": {},
   "outputs": [
    {
     "ename": "AttributeError",
     "evalue": "'str' object has no attribute 'counts'",
     "output_type": "error",
     "traceback": [
      "\u001b[0;31m---------------------------------------------------------------------------\u001b[0m",
      "\u001b[0;31mAttributeError\u001b[0m                            Traceback (most recent call last)",
      "\u001b[0;32m<ipython-input-221-d1c9e5b7b3be>\u001b[0m in \u001b[0;36m<module>\u001b[0;34m\u001b[0m\n\u001b[1;32m      2\u001b[0m \u001b[0;34m\u001b[0m\u001b[0m\n\u001b[1;32m      3\u001b[0m \u001b[0;32mfor\u001b[0m \u001b[0melem\u001b[0m \u001b[0;32min\u001b[0m \u001b[0mlista_prueba\u001b[0m\u001b[0;34m:\u001b[0m\u001b[0;34m\u001b[0m\u001b[0;34m\u001b[0m\u001b[0m\n\u001b[0;32m----> 4\u001b[0;31m     \u001b[0;32mif\u001b[0m \u001b[0melem\u001b[0m\u001b[0;34m.\u001b[0m\u001b[0mcounts\u001b[0m\u001b[0;34m(\u001b[0m\u001b[0;34m'1'\u001b[0m\u001b[0;34m)\u001b[0m \u001b[0;34m==\u001b[0m \u001b[0mcont\u001b[0m\u001b[0;34m:\u001b[0m\u001b[0;34m\u001b[0m\u001b[0;34m\u001b[0m\u001b[0m\n\u001b[0m\u001b[1;32m      5\u001b[0m         \u001b[0mlista_auxiliar\u001b[0m\u001b[0;34m.\u001b[0m\u001b[0mappend\u001b[0m\u001b[0;34m(\u001b[0m\u001b[0melem\u001b[0m\u001b[0;34m)\u001b[0m\u001b[0;34m\u001b[0m\u001b[0;34m\u001b[0m\u001b[0m\n\u001b[1;32m      6\u001b[0m     \u001b[0;32melse\u001b[0m\u001b[0;34m:\u001b[0m\u001b[0;34m\u001b[0m\u001b[0;34m\u001b[0m\u001b[0m\n",
      "\u001b[0;31mAttributeError\u001b[0m: 'str' object has no attribute 'counts'"
     ]
    }
   ],
   "source": [
    "lista_prueba = ['1', '1000', '1001', '101', '11', '11', '110', '111']\n",
    "\n",
    "for elem in lista_prueba:\n",
    "    if elem.counts('1') == cont:\n",
    "        lista_auxiliar.append(elem)\n",
    "    else:\n",
    "        lista_auxiliar.sort()\n",
    "        for elem in lista_auxiliar:\n",
    "            lista_final.append(elem)\n",
    "        lista_auxiliar = []\n",
    "        cont += 1\n",
    "            "
   ]
  },
  {
   "cell_type": "code",
   "execution_count": 224,
   "id": "outside-fiber",
   "metadata": {},
   "outputs": [],
   "source": [
    "kk = [100, 20, 90, 80]\n",
    "que_es = sorted(kk, key=lambda x: (bin(x).count(\"1\"), x))"
   ]
  },
  {
   "cell_type": "code",
   "execution_count": 225,
   "id": "accepting-reserve",
   "metadata": {},
   "outputs": [
    {
     "data": {
      "text/plain": [
       "[20, 80, 100, 90]"
      ]
     },
     "execution_count": 225,
     "metadata": {},
     "output_type": "execute_result"
    }
   ],
   "source": [
    "que_es        "
   ]
  }
 ],
 "metadata": {
  "kernelspec": {
   "display_name": "Python 3",
   "language": "python",
   "name": "python3"
  },
  "language_info": {
   "codemirror_mode": {
    "name": "ipython",
    "version": 3
   },
   "file_extension": ".py",
   "mimetype": "text/x-python",
   "name": "python",
   "nbconvert_exporter": "python",
   "pygments_lexer": "ipython3",
   "version": "3.8.5"
  }
 },
 "nbformat": 4,
 "nbformat_minor": 5
}
