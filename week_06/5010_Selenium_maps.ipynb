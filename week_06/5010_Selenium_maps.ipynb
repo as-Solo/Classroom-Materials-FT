{
 "cells": [
  {
   "cell_type": "code",
   "execution_count": 2,
   "id": "fixed-forum",
   "metadata": {},
   "outputs": [],
   "source": [
    "from selenium import webdriver\n",
    "from time import sleep"
   ]
  },
  {
   "cell_type": "code",
   "execution_count": 4,
   "id": "written-sculpture",
   "metadata": {},
   "outputs": [],
   "source": [
    "driver = webdriver.Chrome(\"./chromedriver.exe\")"
   ]
  },
  {
   "cell_type": "code",
   "execution_count": null,
   "id": "original-azerbaijan",
   "metadata": {},
   "outputs": [],
   "source": [
    "#necesitas lo que quieres buscar y unas coordenadas donde quieres buscarlo"
   ]
  },
  {
   "cell_type": "code",
   "execution_count": 30,
   "id": "normal-lyric",
   "metadata": {},
   "outputs": [],
   "source": [
    "busqueda = 'veterinarios por la zona'\n",
    "coordenadas = 40.4023728,-3.7130593"
   ]
  },
  {
   "cell_type": "code",
   "execution_count": null,
   "id": "furnished-carolina",
   "metadata": {},
   "outputs": [],
   "source": [
    "# Así obligamos al explorador a abrirnos la pág con la búsqueda ya activa en lo que queremos.\n",
    "# Luego iremos pinchando en los resultados del menú de la izquierda (aunque aún no sepa hasta cuando,\n",
    "# pero me huele a while True)\n",
    "# En algún momento vas a tener que buscarte una manera de que el nombre de la busqueda valga. NOOOOOOOOOOOOO!!!!!\n",
    "# No tienes que buscarte la manera de nada (SE COME HASTA LAS TILDES Y LOS ESPACIOS!!!!!!!!!!!!!!!!!!)"
   ]
  },
  {
   "cell_type": "code",
   "execution_count": 31,
   "id": "soviet-blink",
   "metadata": {},
   "outputs": [],
   "source": [
    "driver.get('https://www.google.es/maps/search/' + busqueda + '/' + '@' + str(coordenadas) + ',13z')\n",
    "sleep(1)"
   ]
  },
  {
   "cell_type": "code",
   "execution_count": null,
   "id": "olympic-beauty",
   "metadata": {},
   "outputs": [],
   "source": []
  },
  {
   "cell_type": "code",
   "execution_count": null,
   "id": "selected-planning",
   "metadata": {},
   "outputs": [],
   "source": [
    "# Cuando hayas seleccionado algún elemento pides la url actual. Las coordenadas son los últimos datos del todo,\n",
    "# las primeras coordenadas son dónde se coloca el mapa, no coinciden bien"
   ]
  },
  {
   "cell_type": "code",
   "execution_count": 33,
   "id": "prime-dominican",
   "metadata": {},
   "outputs": [
    {
     "data": {
      "text/plain": [
       "'https://www.google.es/maps/place/Cl%C3%ADnica+Veterinaria+El+Bosque/@40.4059454,-3.7368295,12z/data=!4m8!1m2!2m1!1sveterinarios+por+la+zona!3m4!1s0xd4188229353a2dd:0xf129962aaff6e499!8m2!3d40.389829!4d-3.752298'"
      ]
     },
     "execution_count": 33,
     "metadata": {},
     "output_type": "execute_result"
    }
   ],
   "source": [
    "driver.current_url"
   ]
  },
  {
   "cell_type": "markdown",
   "id": "apparent-abortion",
   "metadata": {},
   "source": [
    "ejemplo_01 = 0xf129962aaff6e499!8m2!3d40.389829!4d-3.752298'"
   ]
  },
  {
   "cell_type": "markdown",
   "id": "curious-strike",
   "metadata": {},
   "source": [
    "ejemplo_02 = 0xf129962aaff6e499!8m2!3d40.389829!4d-3.752298"
   ]
  },
  {
   "cell_type": "markdown",
   "id": "sophisticated-quarterly",
   "metadata": {},
   "source": [
    "#### Puedes hacer un split('0xf129962aaff6e499!8m2!3d') quedarte con el segundo elemento y luego un split o un replace usando el !4d restante. vigila que se repita el patrón"
   ]
  },
  {
   "cell_type": "markdown",
   "id": "young-hunter",
   "metadata": {},
   "source": [
    "#### Puedes hacer un split('!8m2!3d') quedarte con el segundo elemento y luego un split o un replace usando el !4d restante. vigila que se repita el patrón"
   ]
  },
  {
   "cell_type": "markdown",
   "id": "usual-graphics",
   "metadata": {},
   "source": [
    "ejemplo_03 = 0x3ffd37ba5ff5880!8m2!3d40.38567!4d-3.740815"
   ]
  },
  {
   "cell_type": "markdown",
   "id": "spectacular-webster",
   "metadata": {},
   "source": [
    "ejemplo_03 = !8m2!3d40.411612!4d-3.6984665!15sChh2ZXRlcmluYXJpb3MgcG9yIGxhIHpvbmFaNAoYdmV0ZXJpbmFyaW9zIHBvciBsYSB6b25hIhh2ZXRlcmluYXJpb3MgcG9yIGxhIHpvbmGSAQx2ZXRlcmluYXJpYW6aASNDaFpEU1VoTk1HOW5TMFZKUTBGblNVTkRNa3hQVGtWQkVBRQ"
   ]
  },
  {
   "cell_type": "markdown",
   "id": "diverse-warrior",
   "metadata": {},
   "source": [
    "#### Lo bueno es que parece que siempre cierra con un sigbo de **!**"
   ]
  },
  {
   "cell_type": "markdown",
   "id": "selected-meter",
   "metadata": {},
   "source": [
    "ejemplo_04 = 0xa0dab47df8c448da!8m2!3d40.4046349!4d-3.7394532"
   ]
  },
  {
   "cell_type": "markdown",
   "id": "fleet-baking",
   "metadata": {},
   "source": [
    "ejemplo_05 = !8m2!3d45.5195288!4d-73.5556681!15sCglzdGFyYnVja3MiA4gBAVoWCglzdGFyYnVja3MiCXN0YXJidWNrc5IBDGNvZmZlZV9zdG9yZQ"
   ]
  },
  {
   "cell_type": "markdown",
   "id": "whole-house",
   "metadata": {},
   "source": [
    "#### No se repite exactamente el patrón, pero esto con regex lo tengo hecho seguro, porque es muy similar"
   ]
  },
  {
   "cell_type": "code",
   "execution_count": null,
   "id": "sudden-period",
   "metadata": {},
   "outputs": [],
   "source": []
  },
  {
   "cell_type": "code",
   "execution_count": null,
   "id": "center-biotechnology",
   "metadata": {},
   "outputs": [],
   "source": [
    "# Esto lo dejo por aquí por si acaso"
   ]
  },
  {
   "cell_type": "code",
   "execution_count": 13,
   "id": "robust-truck",
   "metadata": {},
   "outputs": [
    {
     "name": "stdout",
     "output_type": "stream",
     "text": [
      "No he econtrado el botón\n"
     ]
    }
   ],
   "source": [
    "try:\n",
    "    driver.find_element_by_css_selector(\"VfPpkd-RLmnJb\").click()\n",
    "except:\n",
    "    print ('No he econtrado el botón')"
   ]
  }
 ],
 "metadata": {
  "kernelspec": {
   "display_name": "Python 3",
   "language": "python",
   "name": "python3"
  },
  "language_info": {
   "codemirror_mode": {
    "name": "ipython",
    "version": 3
   },
   "file_extension": ".py",
   "mimetype": "text/x-python",
   "name": "python",
   "nbconvert_exporter": "python",
   "pygments_lexer": "ipython3",
   "version": "3.8.5"
  }
 },
 "nbformat": 4,
 "nbformat_minor": 5
}
