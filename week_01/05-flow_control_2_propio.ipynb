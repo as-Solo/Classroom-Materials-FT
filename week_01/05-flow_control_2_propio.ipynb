{
 "cells": [
  {
   "cell_type": "markdown",
   "metadata": {
    "toc": true
   },
   "source": [
    "<h1>Table of Contents<span class=\"tocSkip\"></span></h1>\n",
    "<div class=\"toc\"><ul class=\"toc-item\"><li><span><a href=\"#The-&quot;while&quot;-statement\" data-toc-modified-id=\"The-&quot;while&quot;-statement-1\"><span class=\"toc-item-num\">1&nbsp;&nbsp;</span>The \"while\" statement</a></span><ul class=\"toc-item\"><li><ul class=\"toc-item\"><li><span><a href=\"#Your-turn\" data-toc-modified-id=\"Your-turn-1.0.1\"><span class=\"toc-item-num\">1.0.1&nbsp;&nbsp;</span>Your turn</a></span></li></ul></li></ul></li><li><span><a href=\"#Pass\" data-toc-modified-id=\"Pass-2\"><span class=\"toc-item-num\">2&nbsp;&nbsp;</span>Pass</a></span></li><li><span><a href=\"#For\" data-toc-modified-id=\"For-3\"><span class=\"toc-item-num\">3&nbsp;&nbsp;</span>For</a></span><ul class=\"toc-item\"><li><ul class=\"toc-item\"><li><span><a href=\"#Your-turn\" data-toc-modified-id=\"Your-turn-3.0.1\"><span class=\"toc-item-num\">3.0.1&nbsp;&nbsp;</span>Your turn</a></span></li></ul></li><li><span><a href=\"#Iterate-over-strings\" data-toc-modified-id=\"Iterate-over-strings-3.1\"><span class=\"toc-item-num\">3.1&nbsp;&nbsp;</span>Iterate over strings</a></span></li><li><span><a href=\"#Iterate-over-a-list\" data-toc-modified-id=\"Iterate-over-a-list-3.2\"><span class=\"toc-item-num\">3.2&nbsp;&nbsp;</span>Iterate over a list</a></span></li><li><span><a href=\"#Iterate-over-lists-with-their-index\" data-toc-modified-id=\"Iterate-over-lists-with-their-index-3.3\"><span class=\"toc-item-num\">3.3&nbsp;&nbsp;</span>Iterate over lists with their index</a></span></li><li><span><a href=\"#Iterate-over-two-lists-at-the-same-time\" data-toc-modified-id=\"Iterate-over-two-lists-at-the-same-time-3.4\"><span class=\"toc-item-num\">3.4&nbsp;&nbsp;</span>Iterate over two lists at the same time</a></span></li><li><span><a href=\"#Iterate-over-the-items-in-a-dictionary\" data-toc-modified-id=\"Iterate-over-the-items-in-a-dictionary-3.5\"><span class=\"toc-item-num\">3.5&nbsp;&nbsp;</span>Iterate over the items in a dictionary</a></span></li></ul></li><li><span><a href=\"#Break\" data-toc-modified-id=\"Break-4\"><span class=\"toc-item-num\">4&nbsp;&nbsp;</span>Break</a></span></li><li><span><a href=\"#Let`s-go\" data-toc-modified-id=\"Let`s-go-5\"><span class=\"toc-item-num\">5&nbsp;&nbsp;</span>Let`s go</a></span></li></ul></div>"
   ]
  },
  {
   "cell_type": "markdown",
   "metadata": {},
   "source": [
    "# Let's keep the flow going"
   ]
  },
  {
   "cell_type": "markdown",
   "metadata": {},
   "source": [
    "![FLOW](https://media.giphy.com/media/h8y265b9iKtzKT0pDj/giphy.gif)"
   ]
  },
  {
   "cell_type": "markdown",
   "metadata": {},
   "source": [
    "## The \"while\" statement\n",
    "\n",
    "Sometimes we want to run a program as far as a condition is satisfied. We can achieve this with the `while` clause.\n",
    "\n",
    "**Note:** Beware of infite recursions!!"
   ]
  },
  {
   "cell_type": "code",
   "execution_count": 1,
   "metadata": {},
   "outputs": [
    {
     "name": "stdout",
     "output_type": "stream",
     "text": [
      "Hola mundo\n"
     ]
    }
   ],
   "source": [
    "# Infinite recursion is fun!!\n",
    "# What shortcut allows us to break this infinite recursion??\n",
    "condicion = True\n",
    "while condicion:\n",
    "    print (\"Hola mundo\")\n",
    "    condicion = False"
   ]
  },
  {
   "cell_type": "code",
   "execution_count": 3,
   "metadata": {},
   "outputs": [
    {
     "name": "stdout",
     "output_type": "stream",
     "text": [
      "Introduce un número0\n"
     ]
    }
   ],
   "source": [
    "import time\n",
    "time.sleep(2) #para la ejecución durante el tiempo indicado\n",
    "\n",
    "num = 1\n",
    "\n",
    "while num != 0:\n",
    "    num = int(input(\"Introduce un número: \"))"
   ]
  },
  {
   "cell_type": "code",
   "execution_count": 6,
   "metadata": {},
   "outputs": [
    {
     "name": "stdout",
     "output_type": "stream",
     "text": [
      "Introduce un número: 1\n",
      "Introduce un número: 2\n",
      "Introduce un número: 3\n",
      "Introduce un número: 34\n",
      "Introduce un número: 5\n",
      "Introduce un número: 0\n"
     ]
    }
   ],
   "source": [
    "num = 1\n",
    "\n",
    "while num != 0:\n",
    "    num = int(input(\"Introduce un número: \"))# Pregunta al usuario por un número hasta que introduce 0.\n"
   ]
  },
  {
   "cell_type": "markdown",
   "metadata": {},
   "source": [
    "En el caso de while True la expresión siempre va a ser evaluada como verdadera por definición. \n",
    "Equivaldría a:\n",
    "\n",
    "```python\n",
    "mientras verdadero sea verdadero:    \n",
    "    hacer algo\n",
    "   ````"
   ]
  },
  {
   "cell_type": "code",
   "execution_count": 4,
   "metadata": {},
   "outputs": [
    {
     "name": "stdout",
     "output_type": "stream",
     "text": [
      "Introduce una letra que esté entre A y D: d\n"
     ]
    }
   ],
   "source": [
    "while True:\n",
    "    data = input(\"Introduce una letra que esté entre A y D: \")\n",
    "    if data.lower() not in ('a', 'b', 'c', 'd'):\n",
    "        print (\"Tiene que estar entre A y D\")\n",
    "    else:\n",
    "        print (\"Yeah!!\")\n",
    "        break"
   ]
  },
  {
   "cell_type": "markdown",
   "metadata": {},
   "source": [
    "#### Your turn\n",
    "Read integers from the keyboard, until the user enters 0. Finally, display the sum of all positive numbers entered."
   ]
  },
  {
   "cell_type": "markdown",
   "metadata": {},
   "source": [
    "Leer los números enteros del teclado, hasta que el usuario introduzca el 0. Finalmente, muestra la suma de todos los números positivos introducidos."
   ]
  },
  {
   "cell_type": "code",
   "execution_count": 5,
   "metadata": {},
   "outputs": [
    {
     "name": "stdout",
     "output_type": "stream",
     "text": [
      "Introduce un número2\n",
      "Introduce un número3\n",
      "Introduce un número4\n",
      "Introduce un número8\n",
      "Introduce un número0\n",
      "17\n"
     ]
    }
   ],
   "source": [
    "sumatorio = 0\n",
    "while True:\n",
    "    numero = int(input(\"Introduce un número: \"))\n",
    "    sumatorio += numero\n",
    "    if numero == 0:\n",
    "        print (sumatorio)\n",
    "        break"
   ]
  },
  {
   "cell_type": "markdown",
   "metadata": {},
   "source": [
    "Leer números enteros positivos de teclado, hasta que el usuario ingrese el 0. Informar cuál fue el mayor número ingresado."
   ]
  },
  {
   "cell_type": "markdown",
   "metadata": {},
   "source": [
    "Read positive integers from the keyboard, until the user enters 0. Report the largest number entered."
   ]
  },
  {
   "cell_type": "code",
   "execution_count": 8,
   "metadata": {},
   "outputs": [
    {
     "name": "stdout",
     "output_type": "stream",
     "text": [
      "Introduce un número: 5\n",
      "Introduce un número: 6\n",
      "Introduce un número: 1\n",
      "Introduce un número: 8\n",
      "Introduce un número: 9\n",
      "Introduce un número: 0\n",
      "9\n"
     ]
    }
   ],
   "source": [
    "mayor = 0\n",
    "while True:\n",
    "    numero_02 = int(input(\"Introduce un número: \"))\n",
    "    if numero_02 > mayor:\n",
    "        mayor = numero_02\n",
    "    if numero_02 == 0:\n",
    "        print (mayor)\n",
    "        break"
   ]
  },
  {
   "cell_type": "code",
   "execution_count": 23,
   "metadata": {},
   "outputs": [
    {
     "name": "stdout",
     "output_type": "stream",
     "text": [
      "            Manuel  Jordi        Ro\n",
      "Años            32   28.0        88\n",
      "Pelo       Castaño    NaN  Moreno 😜\n",
      "Algoritmo       34    0.0       250\n",
      "Ojos           NaN    2.0       1.5\n",
      "\n",
      "\n",
      "   0  1  2\n",
      "0  2  3  4\n",
      "1  9  1  9\n",
      "2  1  9  1\n",
      "3  9  1  9\n"
     ]
    }
   ],
   "source": [
    "import pandas as pd\n",
    "\n",
    "personas = {\n",
    "    \"Manuel\" : {\n",
    "        'Años': 32, \n",
    "        'Pelo': 'Castaño',\n",
    "        'Algoritmo': 34\n",
    "    },\n",
    "    \"Jordi\" : {\n",
    "        'Años': 28,\n",
    "        'Ojos' : 2,\n",
    "        'Algoritmo': 0\n",
    "    }\n",
    "    ,\n",
    "    \"Ro\" : {\n",
    "        'Años': 88,\n",
    "        'Pelo': 'Moreno 😜',\n",
    "        'Ojos' : 1.5,\n",
    "        'Algoritmo': 250\n",
    "    }\n",
    "}\n",
    "\n",
    "df = pd.DataFrame(personas)\n",
    "print (df)\n",
    "\n",
    "\n",
    "print ('\\n')\n",
    "\n",
    "lista_de_listas = [[2,3,4], [9, 1, 9], [1, 9, 1], [9, 1, 9]]\n",
    "\n",
    "df2 = pd.DataFrame(lista_de_listas)\n",
    "print (df2)\n",
    "\n"
   ]
  },
  {
   "cell_type": "code",
   "execution_count": null,
   "metadata": {},
   "outputs": [],
   "source": []
  },
  {
   "cell_type": "markdown",
   "metadata": {},
   "source": [
    "## Pass\n",
    "The pass statement does nothing. It can be used when a statement is required syntactically  but the program requires no action (from the [docs](https://docs.python.org/3/tutorial/controlflow.html))         \n",
    "\n",
    "(Nuestra sentencia favorita de cara a nuestra jubilación)    \n",
    "Aunque pueda sorprendernos, resulta útil en varias situaciones. En Python no podemos tener sin definir un bloque de código (por ejemplo, el cuerpo de una función, el cuerpo de una condición o el de un bucle). Así que es habitual usar pass cuando estamos escribiendo la estructura de nuestro programa pero aún no hemos abordado la implementación de determinados bloques de código."
   ]
  },
  {
   "cell_type": "code",
   "execution_count": 21,
   "metadata": {},
   "outputs": [],
   "source": []
  },
  {
   "cell_type": "markdown",
   "metadata": {},
   "source": [
    "## For"
   ]
  },
  {
   "cell_type": "markdown",
   "metadata": {},
   "source": [
    "Es muy habitual escribir un código con bucles dentro de estas dos posibles situaciones:    \n",
    "    - 1: Cuando utilizamos un contador en el seno de una repetición. El contador es una variable que va incrementándose o disminuyendo de forma constante en cada iteración del bucle hasta alcanzar un valor límite que marca el fin de las repeticiones.   \n",
    "    - 2: Cuando iteramos sobre los elementos de un contenedor, por ejemplo, una lista, para operar sobre cada uno de ellos. También en este caso conocemos de antemano el número de repeticiones que tendrán lugar."
   ]
  },
  {
   "cell_type": "markdown",
   "metadata": {},
   "source": [
    "La sentencia For, en Python, permite iterar sobre secuencias de valores (listas o cadenas) según un orden establecido. A diferencia de otros lenguajes, con el for de Python no se definen contadores o expresiones que cambien a cada iteración sino una secuencia sobre la cual la variable contador tomará sus valores. En cualquier caso, es la opción más adecuada para resolver los dos casos anteriores....vamos a poner un ejemplo:"
   ]
  },
  {
   "cell_type": "code",
   "execution_count": 16,
   "metadata": {},
   "outputs": [
    {
     "name": "stdout",
     "output_type": "stream",
     "text": [
      "[1, 2, 3, 4]\n"
     ]
    }
   ],
   "source": []
  },
  {
   "cell_type": "markdown",
   "metadata": {},
   "source": [
    "La sentencia for, en Python, itera sobre colecciones. Por tanto, si necesitamos un contador que se incremente en cada iteración, Python proporciona la función range(), que genera listas de enteros. Esta función permite generar secuencias y es bastante versátil y podemos invocarla de diferentes maneras:"
   ]
  },
  {
   "cell_type": "markdown",
   "metadata": {},
   "source": [
    "- Con un solo argumento: genera enteros que van desde 0 hasta el anterior indicado como parámetro:"
   ]
  },
  {
   "cell_type": "code",
   "execution_count": 36,
   "metadata": {},
   "outputs": [
    {
     "data": {
      "text/plain": [
       "range(0, 5)"
      ]
     },
     "execution_count": 36,
     "metadata": {},
     "output_type": "execute_result"
    }
   ],
   "source": [
    "range(5)"
   ]
  },
  {
   "cell_type": "code",
   "execution_count": 37,
   "metadata": {},
   "outputs": [
    {
     "name": "stdout",
     "output_type": "stream",
     "text": [
      "[0, 1, 2, 3, 4]\n"
     ]
    }
   ],
   "source": [
    "print(list(range(5)))"
   ]
  },
  {
   "cell_type": "markdown",
   "metadata": {},
   "source": [
    "- Con dos argumentos. El primer parámetro es el valor inicial y el segundo el valor por debajo del cual deben estar los elementos de la lista:"
   ]
  },
  {
   "cell_type": "code",
   "execution_count": 34,
   "metadata": {},
   "outputs": [
    {
     "data": {
      "text/plain": [
       "range(5, 10)"
      ]
     },
     "execution_count": 34,
     "metadata": {},
     "output_type": "execute_result"
    }
   ],
   "source": [
    "range(5,10)"
   ]
  },
  {
   "cell_type": "code",
   "execution_count": 35,
   "metadata": {},
   "outputs": [
    {
     "name": "stdout",
     "output_type": "stream",
     "text": [
      "[5, 6, 7, 8, 9]\n"
     ]
    }
   ],
   "source": [
    "print(list(range(5,10)))"
   ]
  },
  {
   "cell_type": "markdown",
   "metadata": {},
   "source": [
    "- Con tres argumentos. Igual que en el anterior, pero el tercer parámetro indica el incremento que se produce de un elemento al siguiente:"
   ]
  },
  {
   "cell_type": "code",
   "execution_count": 38,
   "metadata": {},
   "outputs": [
    {
     "data": {
      "text/plain": [
       "range(0, 10, 2)"
      ]
     },
     "execution_count": 38,
     "metadata": {},
     "output_type": "execute_result"
    }
   ],
   "source": [
    "range(0,10,2)"
   ]
  },
  {
   "cell_type": "code",
   "execution_count": 41,
   "metadata": {},
   "outputs": [
    {
     "name": "stdout",
     "output_type": "stream",
     "text": [
      "[0, 2, 4, 6, 8]\n"
     ]
    }
   ],
   "source": [
    "print(list(range(0,10,2)))"
   ]
  },
  {
   "cell_type": "markdown",
   "metadata": {},
   "source": [
    "#### Your turn\n",
    "Write a program that asks the user for his age and displays all the years he has reached (from 1 to his age)."
   ]
  },
  {
   "cell_type": "code",
   "execution_count": 19,
   "metadata": {},
   "outputs": [
    {
     "name": "stdout",
     "output_type": "stream",
     "text": [
      "Introduce tu edad: 12\n",
      "Y a cumpliste 1 años\n",
      "Y a cumpliste 2 años\n",
      "Y a cumpliste 3 años\n",
      "Y a cumpliste 4 años\n",
      "Y a cumpliste 5 años\n",
      "Y a cumpliste 6 años\n",
      "Y a cumpliste 7 años\n",
      "Y a cumpliste 8 años\n",
      "Y a cumpliste 9 años\n",
      "Y a cumpliste 10 años\n",
      "Y a cumpliste 11 años\n",
      "Y a cumpliste 12 años\n"
     ]
    }
   ],
   "source": [
    "edad = int(input(\"Introduce tu edad: \"))\n",
    "\n",
    "for i in range(1, edad +1):\n",
    "    print (f'Ya cumpliste {i} años')"
   ]
  },
  {
   "cell_type": "markdown",
   "metadata": {},
   "source": [
    "### Iterate over strings"
   ]
  },
  {
   "cell_type": "code",
   "execution_count": 54,
   "metadata": {},
   "outputs": [
    {
     "name": "stdout",
     "output_type": "stream",
     "text": [
      "P\n",
      "y\n",
      "t\n",
      "h\n",
      "o\n",
      "n\n"
     ]
    }
   ],
   "source": [
    "palabra = \"Python\"\n",
    "for letra in palabra:\n",
    "    print(letra)"
   ]
  },
  {
   "cell_type": "markdown",
   "metadata": {},
   "source": [
    "### Iterate over a list"
   ]
  },
  {
   "cell_type": "code",
   "execution_count": 55,
   "metadata": {},
   "outputs": [
    {
     "name": "stdout",
     "output_type": "stream",
     "text": [
      "3\n",
      "6\n",
      "9\n",
      "12\n"
     ]
    }
   ],
   "source": [
    "nums = [1,2,3,4]\n",
    "for num in nums:\n",
    "    print(num*3)"
   ]
  },
  {
   "cell_type": "markdown",
   "metadata": {},
   "source": [
    "### Iterate over lists with their index"
   ]
  },
  {
   "cell_type": "code",
   "execution_count": 21,
   "metadata": {
    "scrolled": true
   },
   "outputs": [
    {
     "name": "stdout",
     "output_type": "stream",
     "text": [
      "El nombre es Fer y la posición en la lista es 0\n",
      "El nombre es Ana y la posición en la lista es 1\n",
      "El nombre es Sheriff y la posición en la lista es 2\n",
      "El nombre es Ras y la posición en la lista es 3\n"
     ]
    }
   ],
   "source": [
    "nombres = [\"Fer\", \"Ana\", \"Sheriff\", \"Ras\"]\n",
    "for indice,nombre in enumerate(nombres):\n",
    "    print(f\"El nombre es {nombre} y la posición en la lista es {indice}\")"
   ]
  },
  {
   "cell_type": "markdown",
   "metadata": {},
   "source": [
    "### Iterate over two lists at the same time"
   ]
  },
  {
   "cell_type": "code",
   "execution_count": 22,
   "metadata": {},
   "outputs": [
    {
     "data": {
      "text/plain": [
       "str"
      ]
     },
     "execution_count": 22,
     "metadata": {},
     "output_type": "execute_result"
    }
   ],
   "source": [
    "nombres = [\"Fer\", \"Ana\", \"Sheriff\", \"Ras\"]\n",
    "emojis = [\"🔥\", \"🌴\", \"👮\",\"🚀\"]\n",
    "\n",
    "type(emojis[0])"
   ]
  },
  {
   "cell_type": "code",
   "execution_count": 58,
   "metadata": {
    "scrolled": true
   },
   "outputs": [
    {
     "name": "stdout",
     "output_type": "stream",
     "text": [
      "Hola Fer --> 🔥\n",
      "Hola Ana --> 🌴\n",
      "Hola Sheriff --> 👮\n",
      "Hola Ras --> 🚀\n"
     ]
    }
   ],
   "source": [
    "for nombre,emoji in zip(nombres,emojis):\n",
    "    print(f\"Hola {nombre} --> {emoji}\")"
   ]
  },
  {
   "cell_type": "markdown",
   "metadata": {},
   "source": [
    "Para poder recorrer dos listas y además tener enumerate"
   ]
  },
  {
   "cell_type": "code",
   "execution_count": null,
   "metadata": {},
   "outputs": [],
   "source": [
    "for i, (a, b) in enumerate(zip(alist, blist)):\n",
    "    print i, a, b"
   ]
  },
  {
   "cell_type": "markdown",
   "metadata": {},
   "source": [
    "### Iterate over the items in a dictionary"
   ]
  },
  {
   "cell_type": "code",
   "execution_count": 78,
   "metadata": {},
   "outputs": [],
   "source": [
    "diccionario = { \"Nombre\" : \"Dobby\",\n",
    "               \"Raza\" : \"Galgo\",\n",
    "               \"Emoji\" : \"🐶\"\n",
    "}"
   ]
  },
  {
   "cell_type": "code",
   "execution_count": 79,
   "metadata": {},
   "outputs": [
    {
     "name": "stdout",
     "output_type": "stream",
     "text": [
      "La key es Nombre y el value es Dobby\n",
      "La key es Raza y el value es Galgo\n",
      "La key es Emoji y el value es 🐶\n"
     ]
    }
   ],
   "source": [
    "for key,value in diccionario.items():\n",
    "    print(f\"La key es {key} y el value es {value}\")"
   ]
  },
  {
   "cell_type": "code",
   "execution_count": 80,
   "metadata": {},
   "outputs": [
    {
     "name": "stdout",
     "output_type": "stream",
     "text": [
      "Nombre\n",
      "Raza\n",
      "Emoji\n"
     ]
    }
   ],
   "source": [
    "for key in diccionario.keys():\n",
    "    print(key)"
   ]
  },
  {
   "cell_type": "code",
   "execution_count": 81,
   "metadata": {},
   "outputs": [
    {
     "name": "stdout",
     "output_type": "stream",
     "text": [
      "Dobby\n",
      "Galgo\n",
      "🐶\n"
     ]
    }
   ],
   "source": [
    "for value in diccionario.values():\n",
    "    print(value)"
   ]
  },
  {
   "cell_type": "code",
   "execution_count": 82,
   "metadata": {},
   "outputs": [
    {
     "name": "stdout",
     "output_type": "stream",
     "text": [
      "Dobby\n"
     ]
    }
   ],
   "source": [
    "for key,value in diccionario.items():\n",
    "    if key == \"Nombre\":\n",
    "        print(value)"
   ]
  },
  {
   "cell_type": "markdown",
   "metadata": {},
   "source": [
    "## Break"
   ]
  },
  {
   "cell_type": "markdown",
   "metadata": {},
   "source": [
    "We can literally `break` a recursion when a condition is satisfied"
   ]
  },
  {
   "cell_type": "code",
   "execution_count": 60,
   "metadata": {},
   "outputs": [],
   "source": [
    "musicians = [\"Rufus T. Firefly\", \"Viva Suecia\", \"Standstill\",\"Bowie\", \"Fuel Fandango\"]"
   ]
  },
  {
   "cell_type": "code",
   "execution_count": 62,
   "metadata": {},
   "outputs": [
    {
     "name": "stdout",
     "output_type": "stream",
     "text": [
      "Rufus T. Firefly solo hace temazos\n",
      "Viva Suecia solo hace temazos\n",
      "Standstill solo hace temazos\n",
      "Bowie solo hace temazos\n"
     ]
    }
   ],
   "source": [
    "for group in musicians:\n",
    "    print(f\"{group} solo hace temazos\")\n",
    "    if len(group) <= 5:\n",
    "        break"
   ]
  },
  {
   "cell_type": "markdown",
   "metadata": {},
   "source": [
    "## Let`s go"
   ]
  },
  {
   "cell_type": "markdown",
   "metadata": {},
   "source": [
    "Escribir un programa que pregunte al usuario su edad y muestre por pantalla todos los años que ha cumplido (desde 1 hasta su edad)."
   ]
  },
  {
   "cell_type": "code",
   "execution_count": 31,
   "metadata": {},
   "outputs": [
    {
     "name": "stdout",
     "output_type": "stream",
     "text": [
      "Introduce tu edad: 12\n",
      "Ya cumpliste 1 años\n",
      "Ya cumpliste 2 años\n",
      "Ya cumpliste 3 años\n",
      "Ya cumpliste 4 años\n",
      "Ya cumpliste 5 años\n",
      "Ya cumpliste 6 años\n",
      "Ya cumpliste 7 años\n",
      "Ya cumpliste 8 años\n",
      "Ya cumpliste 9 años\n",
      "Ya cumpliste 10 años\n",
      "Ya cumpliste 11 años\n",
      "Ya cumpliste 12 años\n"
     ]
    }
   ],
   "source": [
    "edad = int(input(\"Introduce tu edad: \"))\n",
    "\n",
    "for i in range(1, edad +1):\n",
    "    print (f'Ya cumpliste {i} años')"
   ]
  },
  {
   "cell_type": "markdown",
   "metadata": {},
   "source": [
    "Escribir un programa que pida al usuario un número entero positivo y muestre por pantalla todos los números impares desde 1 hasta ese número separados por comas."
   ]
  },
  {
   "cell_type": "code",
   "execution_count": 30,
   "metadata": {},
   "outputs": [
    {
     "name": "stdout",
     "output_type": "stream",
     "text": [
      "Introduce tu edad: 13\n",
      "1, 3, 5, 7, 9, 11, 13, \n"
     ]
    }
   ],
   "source": [
    "## Summary\n",
    "edad_02 = int(input(\"Introduce tu edad: \"))\n",
    "mensaje =\"\"\n",
    "for i in range(1, edad_02 +1, 2):\n",
    "    mensaje += str(i) + \", \"\n",
    "print(mensaje)"
   ]
  }
 ],
 "metadata": {
  "kernelspec": {
   "display_name": "Python 3",
   "language": "python",
   "name": "python3"
  },
  "language_info": {
   "codemirror_mode": {
    "name": "ipython",
    "version": 3
   },
   "file_extension": ".py",
   "mimetype": "text/x-python",
   "name": "python",
   "nbconvert_exporter": "python",
   "pygments_lexer": "ipython3",
   "version": "3.8.5"
  },
  "toc": {
   "base_numbering": 1,
   "nav_menu": {},
   "number_sections": true,
   "sideBar": true,
   "skip_h1_title": true,
   "title_cell": "Table of Contents",
   "title_sidebar": "Contents",
   "toc_cell": true,
   "toc_position": {},
   "toc_section_display": true,
   "toc_window_display": false
  }
 },
 "nbformat": 4,
 "nbformat_minor": 5
}
