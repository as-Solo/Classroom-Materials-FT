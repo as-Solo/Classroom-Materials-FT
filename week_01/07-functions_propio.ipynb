{
 "cells": [
  {
   "cell_type": "markdown",
   "metadata": {},
   "source": [
    "# Functions"
   ]
  },
  {
   "cell_type": "markdown",
   "metadata": {},
   "source": [
    "DUDAS CLASE\n",
    "- Split sin machacar el elemento separador????\n",
    "- Las funciones pueden hacer edits (modificar elementos que están fuera de la función) siempre que esos elementos sean mutables\n",
    "- Cuál es la jerarquía, organización de carpetas y archivos dentro de un pryecto?"
   ]
  },
  {
   "cell_type": "markdown",
   "metadata": {
    "toc": true
   },
   "source": [
    "<h1>Table of Contents<span class=\"tocSkip\"></span></h1>\n",
    "<div class=\"toc\"><ul class=\"toc-item\"><li><span><a href=\"#Known-functions\" data-toc-modified-id=\"Known-functions-1\"><span class=\"toc-item-num\">1&nbsp;&nbsp;</span>Known functions</a></span></li><li><span><a href=\"#Motivation\" data-toc-modified-id=\"Motivation-2\"><span class=\"toc-item-num\">2&nbsp;&nbsp;</span>Motivation</a></span></li><li><span><a href=\"#Basic-syntax-and-examples\" data-toc-modified-id=\"Basic-syntax-and-examples-3\"><span class=\"toc-item-num\">3&nbsp;&nbsp;</span>Basic syntax and examples</a></span></li><li><span><a href=\"#Function-documentation\" data-toc-modified-id=\"Function-documentation-4\"><span class=\"toc-item-num\">4&nbsp;&nbsp;</span>Function documentation</a></span></li><li><span><a href=\"#Default-arguments\" data-toc-modified-id=\"Default-arguments-5\"><span class=\"toc-item-num\">5&nbsp;&nbsp;</span>Default arguments</a></span></li><li><span><a href=\"#*args\" data-toc-modified-id=\"*args-6\"><span class=\"toc-item-num\">6&nbsp;&nbsp;</span><code>*args</code></a></span></li><li><span><a href=\"#**kwargs:-keyword-args\" data-toc-modified-id=\"**kwargs:-keyword-args-7\"><span class=\"toc-item-num\">7&nbsp;&nbsp;</span><code>**kwargs</code>: keyword args</a></span></li><li><span><a href=\"#Type-hints\" data-toc-modified-id=\"Type-hints-8\"><span class=\"toc-item-num\">8&nbsp;&nbsp;</span>Type hints</a></span></li><li><span><a href=\"#Exercises\" data-toc-modified-id=\"Exercises-9\"><span class=\"toc-item-num\">9&nbsp;&nbsp;</span>Exercises</a></span></li><li><span><a href=\"#Summary\" data-toc-modified-id=\"Summary-10\"><span class=\"toc-item-num\">10&nbsp;&nbsp;</span>Summary</a></span></li><li><span><a href=\"#Further-materials\" data-toc-modified-id=\"Further-materials-11\"><span class=\"toc-item-num\">11&nbsp;&nbsp;</span>Further materials</a></span></li></ul></div>"
   ]
  },
  {
   "cell_type": "markdown",
   "metadata": {},
   "source": [
    "## Known functions"
   ]
  },
  {
   "cell_type": "code",
   "execution_count": 1,
   "metadata": {},
   "outputs": [
    {
     "name": "stdout",
     "output_type": "stream",
     "text": [
      "Hola Mundo Adiós pepe\n"
     ]
    }
   ],
   "source": [
    "print(\"Hola Mundo\", \"Adiós\", \"pepe\")"
   ]
  },
  {
   "cell_type": "code",
   "execution_count": 2,
   "metadata": {},
   "outputs": [
    {
     "name": "stdout",
     "output_type": "stream",
     "text": [
      "Hola MundoSEPAdiós\n"
     ]
    }
   ],
   "source": [
    "print(\"Hola Mundo\", \"Adiós\", sep=\"SEP\")"
   ]
  },
  {
   "cell_type": "code",
   "execution_count": 3,
   "metadata": {},
   "outputs": [],
   "source": [
    "frase = \"ayer el lab casi no me deja dormir\""
   ]
  },
  {
   "cell_type": "code",
   "execution_count": 4,
   "metadata": {},
   "outputs": [
    {
     "data": {
      "text/plain": [
       "['ay', 'r ', 'l lab casi no me deja dormir']"
      ]
     },
     "execution_count": 4,
     "metadata": {},
     "output_type": "execute_result"
    }
   ],
   "source": [
    "frase.split(\"e\", maxsplit=2)"
   ]
  },
  {
   "cell_type": "code",
   "execution_count": 5,
   "metadata": {},
   "outputs": [
    {
     "data": {
      "text/plain": [
       "5"
      ]
     },
     "execution_count": 5,
     "metadata": {},
     "output_type": "execute_result"
    }
   ],
   "source": [
    "len(\"table\")"
   ]
  },
  {
   "cell_type": "code",
   "execution_count": 6,
   "metadata": {},
   "outputs": [],
   "source": [
    "import math"
   ]
  },
  {
   "cell_type": "code",
   "execution_count": 7,
   "metadata": {},
   "outputs": [
    {
     "data": {
      "text/plain": [
       "3.0"
      ]
     },
     "execution_count": 7,
     "metadata": {},
     "output_type": "execute_result"
    }
   ],
   "source": [
    "math.log10(1000)"
   ]
  },
  {
   "cell_type": "code",
   "execution_count": 8,
   "metadata": {},
   "outputs": [],
   "source": [
    "import random"
   ]
  },
  {
   "cell_type": "code",
   "execution_count": 11,
   "metadata": {},
   "outputs": [
    {
     "data": {
      "text/plain": [
       "0.3458286609625718"
      ]
     },
     "execution_count": 11,
     "metadata": {},
     "output_type": "execute_result"
    }
   ],
   "source": [
    "random.uniform(0, 1)"
   ]
  },
  {
   "cell_type": "markdown",
   "metadata": {},
   "source": [
    "## Motivation"
   ]
  },
  {
   "cell_type": "markdown",
   "metadata": {},
   "source": [
    "**Example**: I am given a list of birth years. I want to compute average age."
   ]
  },
  {
   "cell_type": "code",
   "execution_count": null,
   "metadata": {},
   "outputs": [],
   "source": [
    "#media aritmética, geométrica y armónica!!!!!! 🥰🥰🥰"
   ]
  },
  {
   "cell_type": "code",
   "execution_count": 12,
   "metadata": {},
   "outputs": [],
   "source": [
    "years = [1964, 1968, 1972, 1987, 1995, 1996, 1980, 1984, 1973, 1982, 1955, 1983]"
   ]
  },
  {
   "cell_type": "markdown",
   "metadata": {},
   "source": [
    "anios_02 = [2021 - k for k in lista_de_anios]\n",
    "sumatorio_anios = sum(anios_02)\n",
    "cantidad_personas = len(anios_02)\n",
    "media_todos = sumatorio_anios / cantidad_personas"
   ]
  },
  {
   "cell_type": "code",
   "execution_count": 22,
   "metadata": {
    "scrolled": true
   },
   "outputs": [
    {
     "name": "stdout",
     "output_type": "stream",
     "text": [
      "42.75\n"
     ]
    }
   ],
   "source": [
    "# your code here\n",
    "import numpy as np\n",
    "import datetime as dt\n",
    "anios = [2021 - k for k in years]\n",
    "print(np.mean(anios))"
   ]
  },
  {
   "cell_type": "code",
   "execution_count": 25,
   "metadata": {},
   "outputs": [],
   "source": [
    "def media_de_edad(lista_de_anios):\n",
    "    anios = [2021 - k for k in lista_de_anios]\n",
    "    media_anios = (np.mean(anios))\n",
    "    return media_anios\n",
    "    "
   ]
  },
  {
   "cell_type": "code",
   "execution_count": 26,
   "metadata": {},
   "outputs": [
    {
     "data": {
      "text/plain": [
       "42.75"
      ]
     },
     "execution_count": 26,
     "metadata": {},
     "output_type": "execute_result"
    }
   ],
   "source": [
    "media_de_edad(years)"
   ]
  },
  {
   "cell_type": "code",
   "execution_count": null,
   "metadata": {},
   "outputs": [],
   "source": [
    "# a lot of code for ONE functionality, let's join everything in a function"
   ]
  },
  {
   "cell_type": "code",
   "execution_count": 27,
   "metadata": {},
   "outputs": [],
   "source": [
    "from datetime import datetime"
   ]
  },
  {
   "cell_type": "code",
   "execution_count": 28,
   "metadata": {},
   "outputs": [],
   "source": [
    "today = datetime.today()"
   ]
  },
  {
   "cell_type": "code",
   "execution_count": 29,
   "metadata": {},
   "outputs": [
    {
     "data": {
      "text/plain": [
       "datetime.datetime(2021, 3, 25, 9, 53, 8, 761002)"
      ]
     },
     "execution_count": 29,
     "metadata": {},
     "output_type": "execute_result"
    }
   ],
   "source": [
    "today"
   ]
  },
  {
   "cell_type": "code",
   "execution_count": 31,
   "metadata": {},
   "outputs": [
    {
     "data": {
      "text/plain": [
       "2021"
      ]
     },
     "execution_count": 31,
     "metadata": {},
     "output_type": "execute_result"
    }
   ],
   "source": [
    "today.year"
   ]
  },
  {
   "cell_type": "code",
   "execution_count": 32,
   "metadata": {},
   "outputs": [
    {
     "data": {
      "text/plain": [
       "2021"
      ]
     },
     "execution_count": 32,
     "metadata": {},
     "output_type": "execute_result"
    }
   ],
   "source": [
    "datetime.today().year"
   ]
  },
  {
   "cell_type": "code",
   "execution_count": null,
   "metadata": {},
   "outputs": [],
   "source": [
    "def get_average_age(birth_years):\n",
    "    # current year\n",
    "\n",
    "    # compute individual ages\n",
    "\n",
    "    # compute average\n",
    "\n",
    "    return ..."
   ]
  },
  {
   "cell_type": "markdown",
   "metadata": {},
   "source": [
    "**Reusability** is the main motivation for function existence"
   ]
  },
  {
   "cell_type": "markdown",
   "metadata": {},
   "source": [
    "## Basic syntax and examples"
   ]
  },
  {
   "cell_type": "markdown",
   "metadata": {},
   "source": [
    "```\n",
    "def function_name(argument1, argument2, ...):\n",
    "    code\n",
    "    return something\n",
    "```"
   ]
  },
  {
   "cell_type": "markdown",
   "metadata": {},
   "source": [
    "ejercicios"
   ]
  },
  {
   "cell_type": "code",
   "execution_count": 44,
   "metadata": {},
   "outputs": [],
   "source": [
    "def gritar(frase):\n",
    "    grito = frase.upper() +'!!'\n",
    "    return grito"
   ]
  },
  {
   "cell_type": "code",
   "execution_count": 46,
   "metadata": {},
   "outputs": [
    {
     "name": "stdout",
     "output_type": "stream",
     "text": [
      "VAMOOOOOOOS!!\n"
     ]
    }
   ],
   "source": [
    "print(gritar (\"Vamooooooos\"))"
   ]
  },
  {
   "cell_type": "code",
   "execution_count": 61,
   "metadata": {},
   "outputs": [],
   "source": [
    "def count_minusculas (palabra):\n",
    "    contador = 0\n",
    "    for letra in palabra:\n",
    "        if letra.islower():\n",
    "            contador += 1\n",
    "    return contador\n",
    "\n",
    "def count_minusculas_02 (palabra):\n",
    "    contador = [letra for letra in palabra if letra.islower()]\n",
    "    return len(contador)"
   ]
  },
  {
   "cell_type": "code",
   "execution_count": 63,
   "metadata": {},
   "outputs": [
    {
     "data": {
      "text/plain": [
       "9"
      ]
     },
     "execution_count": 63,
     "metadata": {},
     "output_type": "execute_result"
    }
   ],
   "source": [
    "count_minusculas_02('Terminator')"
   ]
  },
  {
   "cell_type": "code",
   "execution_count": 65,
   "metadata": {},
   "outputs": [],
   "source": [
    "def square_number(x):\n",
    "    return x ** 2"
   ]
  },
  {
   "cell_type": "markdown",
   "metadata": {},
   "source": [
    "A function may have no arguments"
   ]
  },
  {
   "cell_type": "code",
   "execution_count": 66,
   "metadata": {},
   "outputs": [],
   "source": [
    "def give_me_a_one():\n",
    "    return 1"
   ]
  },
  {
   "cell_type": "markdown",
   "metadata": {},
   "source": [
    "Functions may return nothing"
   ]
  },
  {
   "cell_type": "code",
   "execution_count": null,
   "metadata": {},
   "outputs": [],
   "source": [
    "def say_hello():\n",
    "    print(\"Hello!\")\n",
    "    # no return      #si la función no retorna nada su valor será None"
   ]
  },
  {
   "cell_type": "code",
   "execution_count": null,
   "metadata": {},
   "outputs": [],
   "source": [
    "def say_hello_2():\n",
    "    return \"Hello!\""
   ]
  },
  {
   "cell_type": "markdown",
   "metadata": {},
   "source": [
    "A function can have several arguments"
   ]
  },
  {
   "cell_type": "code",
   "execution_count": null,
   "metadata": {},
   "outputs": [],
   "source": [
    "def get_full_name(name, surname):\n",
    "    full_name = name + \" \" + surname\n",
    "    \n",
    "    return full_name"
   ]
  },
  {
   "cell_type": "markdown",
   "metadata": {},
   "source": [
    "**Exercise**: write a function that given two words, returns the longest one"
   ]
  },
  {
   "cell_type": "code",
   "execution_count": 74,
   "metadata": {},
   "outputs": [
    {
     "ename": "NameError",
     "evalue": "name 'palabra_01' is not defined",
     "output_type": "error",
     "traceback": [
      "\u001b[1;31m---------------------------------------------------------------------------\u001b[0m",
      "\u001b[1;31mNameError\u001b[0m                                 Traceback (most recent call last)",
      "\u001b[1;32m<ipython-input-74-96b7ba57d230>\u001b[0m in \u001b[0;36m<module>\u001b[1;34m\u001b[0m\n\u001b[1;32m----> 1\u001b[1;33m \u001b[0mressultado_bueno\u001b[0m \u001b[1;33m=\u001b[0m \u001b[0mpalabra_01\u001b[0m \u001b[1;32mif\u001b[0m \u001b[0mlen\u001b[0m\u001b[1;33m(\u001b[0m\u001b[0mpalabra_01\u001b[0m\u001b[1;33m)\u001b[0m \u001b[1;33m>=\u001b[0m \u001b[0mlen\u001b[0m\u001b[1;33m(\u001b[0m\u001b[0mpalabra_02\u001b[0m\u001b[1;33m)\u001b[0m \u001b[1;32melse\u001b[0m \u001b[0mpalabra_02\u001b[0m  \u001b[1;31m# Esto es lo suyo\u001b[0m\u001b[1;33m\u001b[0m\u001b[1;33m\u001b[0m\u001b[0m\n\u001b[0m",
      "\u001b[1;31mNameError\u001b[0m: name 'palabra_01' is not defined"
     ]
    }
   ],
   "source": [
    "resultado_bueno = palabra_01 if len(palabra_01) >= len(palabra_02) else palabra_02  # Esto es lo suyo"
   ]
  },
  {
   "cell_type": "code",
   "execution_count": 72,
   "metadata": {},
   "outputs": [],
   "source": [
    "def get_longest_word(palabra_01, palabra_02):\n",
    "    if len(palabra_01) > len(palabra_02):\n",
    "        return palabra_01\n",
    "    elif len(palabra_02) > len(palabra_01):\n",
    "        return palabra_02\n",
    "    else:\n",
    "        return palabra_01\n",
    "    \n",
    "    \n"
   ]
  },
  {
   "cell_type": "code",
   "execution_count": 73,
   "metadata": {},
   "outputs": [
    {
     "data": {
      "text/plain": [
       "'adios'"
      ]
     },
     "execution_count": 73,
     "metadata": {},
     "output_type": "execute_result"
    }
   ],
   "source": [
    "get_longest_word(\"hola\", \"adios\")"
   ]
  },
  {
   "cell_type": "markdown",
   "metadata": {},
   "source": [
    "`get_longest_word(\"hola\", \"adios\")`  \n",
    "\"adios\""
   ]
  },
  {
   "cell_type": "markdown",
   "metadata": {},
   "source": [
    "**Exercise**: given a word, calculate the number of lower case letters"
   ]
  },
  {
   "cell_type": "markdown",
   "metadata": {},
   "source": [
    "`count_lower_case_letters(\"pePiTo\")`  \n",
    "4"
   ]
  },
  {
   "cell_type": "markdown",
   "metadata": {},
   "source": [
    "**Exercise**: given 3 numbers, return maximum difference between two of them"
   ]
  },
  {
   "cell_type": "markdown",
   "metadata": {},
   "source": [
    "`get_max_diff(4, 9, 8)`  \n",
    "5"
   ]
  },
  {
   "cell_type": "markdown",
   "metadata": {},
   "source": [
    "## Function documentation"
   ]
  },
  {
   "cell_type": "markdown",
   "metadata": {},
   "source": [
    "Code is written 1 time.  \n",
    "Code is read 100 times.  \n",
    "Help your peers understand your work.  "
   ]
  },
  {
   "cell_type": "code",
   "execution_count": null,
   "metadata": {},
   "outputs": [],
   "source": [
    "def square_number(x):\n",
    "    \"\"\"\n",
    "    Computes square of a number \n",
    "    Args:\n",
    "        x (float): number to square\n",
    "        \n",
    "    Returns:\n",
    "        float: number squared\n",
    "    \"\"\"\n",
    "    # code\n",
    "    return x ** 2"
   ]
  },
  {
   "cell_type": "markdown",
   "metadata": {},
   "source": [
    "primera línea------> Qué hace la función\n",
    "segunda línea------> Titular ARGS\n",
    "                     Definimos cada argumento en una línea\n",
    "tercera línea------> Titular RETURN\n",
    "                     Decimos qué se devuelve y definimos el return"
   ]
  },
  {
   "cell_type": "code",
   "execution_count": null,
   "metadata": {},
   "outputs": [],
   "source": [
    "def get_average_age(birth_years):\n",
    "    \"\"\"\n",
    "    Compute average age of a list of birth years.\n",
    "    Args:\n",
    "        birth_years (list): list of integers\n",
    "        \n",
    "    Returns:\n",
    "        float: average age\n",
    "    \"\"\"\n",
    "    this_year = datetime.today().year\n",
    "    \n",
    "    ages = [this_year - year for year in birth_years]\n",
    "    \n",
    "    age_sum = sum(ages)\n",
    "    n_people = len(ages)\n",
    "\n",
    "    age_mean = age_sum / n_people\n",
    "    \n",
    "    return age_mean"
   ]
  },
  {
   "cell_type": "markdown",
   "metadata": {},
   "source": [
    "## Default arguments"
   ]
  },
  {
   "cell_type": "markdown",
   "metadata": {},
   "source": [
    "A function can have default arguments: no need to pass them when calling the function."
   ]
  },
  {
   "cell_type": "code",
   "execution_count": 82,
   "metadata": {},
   "outputs": [
    {
     "name": "stdout",
     "output_type": "stream",
     "text": [
      "n\n",
      "n\n"
     ]
    }
   ],
   "source": [
    "for _ in range(2):     # Standar para hacer ver al resto que no vas a usar la variable dentro del bucle\n",
    "    print(\"n\")"
   ]
  },
  {
   "cell_type": "code",
   "execution_count": null,
   "metadata": {},
   "outputs": [],
   "source": [
    "round(1.778, 1)"
   ]
  },
  {
   "cell_type": "code",
   "execution_count": null,
   "metadata": {},
   "outputs": [],
   "source": [
    "round(1.778)"
   ]
  },
  {
   "cell_type": "code",
   "execution_count": null,
   "metadata": {},
   "outputs": [],
   "source": [
    "round?"
   ]
  },
  {
   "cell_type": "code",
   "execution_count": null,
   "metadata": {},
   "outputs": [],
   "source": [
    "def repeat(phrase, n=2):\n",
    "    \"\"\"\n",
    "    Repeats given phrase a number of times.\n",
    "    Args:\n",
    "        phrase (str): phrase to repeat\n",
    "        n (int): number of times to repeat. Defaults to 2.\n",
    "    \n",
    "    Returns:\n",
    "        None\n",
    "    \"\"\"\n",
    "    ..."
   ]
  },
  {
   "cell_type": "code",
   "execution_count": null,
   "metadata": {},
   "outputs": [],
   "source": [
    "repeat?"
   ]
  },
  {
   "cell_type": "code",
   "execution_count": null,
   "metadata": {},
   "outputs": [],
   "source": [
    "repeat(\"hola\", 4)"
   ]
  },
  {
   "cell_type": "code",
   "execution_count": null,
   "metadata": {},
   "outputs": [],
   "source": [
    "repeat(\"hola\")"
   ]
  },
  {
   "cell_type": "markdown",
   "metadata": {},
   "source": [
    "`verbose` default argument is very typical"
   ]
  },
  {
   "cell_type": "code",
   "execution_count": null,
   "metadata": {},
   "outputs": [],
   "source": [
    "def square(x, verbose=False):\n",
    "    if verbose:\n",
    "        print(\"passed number was\", x)\n",
    "    \n",
    "    return x ** 2"
   ]
  },
  {
   "cell_type": "code",
   "execution_count": null,
   "metadata": {},
   "outputs": [],
   "source": [
    "square(8, True)"
   ]
  },
  {
   "cell_type": "code",
   "execution_count": null,
   "metadata": {},
   "outputs": [],
   "source": [
    "def top_difference(numbers, verbose=False):\n",
    "    \"\"\"\n",
    "    Computes the top difference between 2 numbers in a list.\n",
    "    Args:\n",
    "        numbers (list)\n",
    "        verbose (bool): whether to print some information that might be helpful\n",
    "    \n",
    "    Returns:\n",
    "        float: top difference\n",
    "    \"\"\"\n",
    "    max_n = max(numbers)\n",
    "    min_n = min(numbers)\n",
    "    \n",
    "    if verbose == True:\n",
    "        print(f\"Maximum was {max_n}, minimum was {min_n}\")\n",
    "    \n",
    "    top_diff = max_n - min_n\n",
    "    \n",
    "    return top_diff"
   ]
  },
  {
   "cell_type": "code",
   "execution_count": null,
   "metadata": {},
   "outputs": [],
   "source": [
    "top_difference([27, 11, 65, 75, 54], verbose=True)"
   ]
  },
  {
   "cell_type": "markdown",
   "metadata": {},
   "source": [
    "## `*args`"
   ]
  },
  {
   "cell_type": "markdown",
   "metadata": {},
   "source": [
    "We want a function that multiplies 3 numbers"
   ]
  },
  {
   "cell_type": "code",
   "execution_count": null,
   "metadata": {},
   "outputs": [],
   "source": [
    "def multiply_3_nums(a, b, c):\n",
    "    return a * b * c"
   ]
  },
  {
   "cell_type": "code",
   "execution_count": null,
   "metadata": {},
   "outputs": [],
   "source": [
    "multiply_3_nums(1, 2, 3)"
   ]
  },
  {
   "cell_type": "code",
   "execution_count": null,
   "metadata": {},
   "outputs": [],
   "source": [
    "multiply_3_nums(1, 2, 3, 4)"
   ]
  },
  {
   "cell_type": "markdown",
   "metadata": {},
   "source": [
    "We want a function that multiplies 4 numbers"
   ]
  },
  {
   "cell_type": "code",
   "execution_count": null,
   "metadata": {},
   "outputs": [],
   "source": [
    "def multiply_4_nums(a, b, c, d):\n",
    "    return a * b * c * d"
   ]
  },
  {
   "cell_type": "code",
   "execution_count": null,
   "metadata": {},
   "outputs": [],
   "source": [
    "multiply_4_nums(1, 1, 1, 8)"
   ]
  },
  {
   "cell_type": "code",
   "execution_count": null,
   "metadata": {},
   "outputs": [],
   "source": [
    "multiply_4_nums(1, 1, 1, 8, 9)"
   ]
  },
  {
   "cell_type": "markdown",
   "metadata": {},
   "source": [
    "We would like a function that multiplies any number of numbers."
   ]
  },
  {
   "cell_type": "markdown",
   "metadata": {},
   "source": [
    "First, let's see how `*args` work"
   ]
  },
  {
   "cell_type": "code",
   "execution_count": null,
   "metadata": {},
   "outputs": [],
   "source": [
    "def explore_args(*args):\n",
    "    print(args)\n",
    "    print(type(args))"
   ]
  },
  {
   "cell_type": "code",
   "execution_count": null,
   "metadata": {},
   "outputs": [],
   "source": [
    "explore_args(1, 2, 3, \"pepe\")"
   ]
  },
  {
   "cell_type": "code",
   "execution_count": null,
   "metadata": {},
   "outputs": [],
   "source": [
    "def multiply_numbers(*numbers):\n",
    "    print(type(numbers))\n",
    "    \n",
    "    product = 1\n",
    "    \n",
    "    for n in numbers:\n",
    "        product = product * n\n",
    "        print(product)\n",
    "        \n",
    "    return product"
   ]
  },
  {
   "cell_type": "code",
   "execution_count": null,
   "metadata": {},
   "outputs": [],
   "source": [
    "multiply_numbers(2, 3, 4, 5, 6, 7)"
   ]
  },
  {
   "cell_type": "markdown",
   "metadata": {},
   "source": [
    "A function can have an argument before `*args`"
   ]
  },
  {
   "cell_type": "code",
   "execution_count": null,
   "metadata": {},
   "outputs": [],
   "source": [
    "def multiply_numbers_and_add_a(a, *numbers):\n",
    "    print(numbers)\n",
    "    product = 1\n",
    "    \n",
    "    for n in numbers:\n",
    "        product = product * n\n",
    "        \n",
    "        \n",
    "    return product + a"
   ]
  },
  {
   "cell_type": "code",
   "execution_count": null,
   "metadata": {},
   "outputs": [],
   "source": [
    "multiply_numbers_and_add_a(7, 1, 2, 3)"
   ]
  },
  {
   "cell_type": "markdown",
   "metadata": {},
   "source": [
    "## `**kwargs`: keyword args"
   ]
  },
  {
   "cell_type": "code",
   "execution_count": 83,
   "metadata": {},
   "outputs": [],
   "source": [
    "def explore_kwargs(**kwargs):\n",
    "    print(kwargs)\n",
    "    print(type(kwargs))"
   ]
  },
  {
   "cell_type": "code",
   "execution_count": 84,
   "metadata": {},
   "outputs": [
    {
     "ename": "TypeError",
     "evalue": "explore_kwargs() takes 0 positional arguments but 2 were given",
     "output_type": "error",
     "traceback": [
      "\u001b[1;31m---------------------------------------------------------------------------\u001b[0m",
      "\u001b[1;31mTypeError\u001b[0m                                 Traceback (most recent call last)",
      "\u001b[1;32m<ipython-input-84-73e4f05dbc7f>\u001b[0m in \u001b[0;36m<module>\u001b[1;34m\u001b[0m\n\u001b[1;32m----> 1\u001b[1;33m \u001b[0mexplore_kwargs\u001b[0m\u001b[1;33m(\u001b[0m\u001b[1;36m5\u001b[0m\u001b[1;33m,\u001b[0m \u001b[1;36m6\u001b[0m\u001b[1;33m)\u001b[0m\u001b[1;33m\u001b[0m\u001b[1;33m\u001b[0m\u001b[0m\n\u001b[0m",
      "\u001b[1;31mTypeError\u001b[0m: explore_kwargs() takes 0 positional arguments but 2 were given"
     ]
    }
   ],
   "source": [
    "explore_kwargs(5, 6)"
   ]
  },
  {
   "cell_type": "code",
   "execution_count": 85,
   "metadata": {
    "scrolled": false
   },
   "outputs": [
    {
     "name": "stdout",
     "output_type": "stream",
     "text": [
      "{'a': 5, 'b': 6}\n",
      "<class 'dict'>\n"
     ]
    }
   ],
   "source": [
    "explore_kwargs(a=5, b=6)"
   ]
  },
  {
   "cell_type": "code",
   "execution_count": 91,
   "metadata": {},
   "outputs": [
    {
     "name": "stdout",
     "output_type": "stream",
     "text": [
      "{'a': 0, 'b': 1, 'c': 58, 'd': 0}\n",
      "<class 'dict'>\n"
     ]
    }
   ],
   "source": [
    "explore_kwargs(a = 0, b = 1, c = 58, d = 0)"
   ]
  },
  {
   "cell_type": "markdown",
   "metadata": {},
   "source": [
    "## Type hints"
   ]
  },
  {
   "cell_type": "markdown",
   "metadata": {},
   "source": [
    "Useful hints for your peers"
   ]
  },
  {
   "cell_type": "markdown",
   "metadata": {},
   "source": [
    "Indicate what types you expect, what types you return."
   ]
  },
  {
   "cell_type": "markdown",
   "metadata": {},
   "source": [
    "If you don't include documentation (BAD), you can at least include type hints."
   ]
  },
  {
   "cell_type": "code",
   "execution_count": 92,
   "metadata": {},
   "outputs": [],
   "source": [
    "def laugh_sentence(text: str, yell: bool = False) -> str:\n",
    "    laugh = text + \", hahahaha\"\n",
    "    \n",
    "    if yell:\n",
    "        return laugh.upper()\n",
    "    else:\n",
    "        return laugh"
   ]
  },
  {
   "cell_type": "code",
   "execution_count": 93,
   "metadata": {},
   "outputs": [
    {
     "data": {
      "text/plain": [
       "'you are my friend, hahahaha'"
      ]
     },
     "execution_count": 93,
     "metadata": {},
     "output_type": "execute_result"
    }
   ],
   "source": [
    "laugh_sentence(\"you are my friend\")"
   ]
  },
  {
   "cell_type": "code",
   "execution_count": 94,
   "metadata": {},
   "outputs": [
    {
     "data": {
      "text/plain": [
       "'YOU ARE MY FRIEND, HAHAHAHA'"
      ]
     },
     "execution_count": 94,
     "metadata": {},
     "output_type": "execute_result"
    }
   ],
   "source": [
    "laugh_sentence(\"you are my friend\", yell=True)"
   ]
  },
  {
   "cell_type": "code",
   "execution_count": 95,
   "metadata": {},
   "outputs": [
    {
     "data": {
      "text/plain": [
       "'YOU ARE MY FRIEND, HAHAHAHA'"
      ]
     },
     "execution_count": 95,
     "metadata": {},
     "output_type": "execute_result"
    }
   ],
   "source": [
    "laugh_sentence(\"you are my friend\", yell=1)"
   ]
  },
  {
   "cell_type": "markdown",
   "metadata": {},
   "source": [
    "## Exercises"
   ]
  },
  {
   "cell_type": "markdown",
   "metadata": {},
   "source": [
    "Build a function that decides if an integer number is prime or not."
   ]
  },
  {
   "cell_type": "markdown",
   "metadata": {},
   "source": [
    "A number is prime if it cannot be divided by anyone"
   ]
  },
  {
   "cell_type": "code",
   "execution_count": null,
   "metadata": {},
   "outputs": [],
   "source": [
    "def is_prime(n: int) -> bool:\n",
    "    # your code here\n",
    "    return ..."
   ]
  },
  {
   "cell_type": "markdown",
   "metadata": {},
   "source": [
    "**Exercise**: Build a function that returns the factorial of a number."
   ]
  },
  {
   "cell_type": "markdown",
   "metadata": {},
   "source": [
    "`factorial(2) = 2 * 1`  \n",
    "`factorial(3) = 3 * 2 * 1`  \n",
    "`factorial(4) = 4 * 3 * 2 * 1`  \n",
    "`factorial(5) = 5 * 4 * 3 * 2 * 1`\n",
    "`...`"
   ]
  },
  {
   "cell_type": "markdown",
   "metadata": {},
   "source": [
    "## Summary"
   ]
  },
  {
   "cell_type": "markdown",
   "metadata": {},
   "source": [
    " * Reusability is very important. Functions help us with that job.\n",
    " * Variable number of arguments are handled with `*args`"
   ]
  },
  {
   "cell_type": "markdown",
   "metadata": {},
   "source": [
    "## Further materials"
   ]
  },
  {
   "cell_type": "markdown",
   "metadata": {},
   "source": [
    " * [Google docstrings documentation](https://sphinxcontrib-napoleon.readthedocs.io/en/latest/example_google.html)\n",
    " * [Project Euler: Math and programming problems](https://projecteuler.net/)"
   ]
  }
 ],
 "metadata": {
  "kernelspec": {
   "display_name": "Python 3",
   "language": "python",
   "name": "python3"
  },
  "language_info": {
   "codemirror_mode": {
    "name": "ipython",
    "version": 3
   },
   "file_extension": ".py",
   "mimetype": "text/x-python",
   "name": "python",
   "nbconvert_exporter": "python",
   "pygments_lexer": "ipython3",
   "version": "3.8.5"
  },
  "toc": {
   "base_numbering": 1,
   "nav_menu": {},
   "number_sections": true,
   "sideBar": true,
   "skip_h1_title": true,
   "title_cell": "Table of Contents",
   "title_sidebar": "Contents",
   "toc_cell": true,
   "toc_position": {
    "height": "calc(100% - 180px)",
    "left": "10px",
    "top": "150px",
    "width": "165px"
   },
   "toc_section_display": true,
   "toc_window_display": true
  },
  "varInspector": {
   "cols": {
    "lenName": 16,
    "lenType": 16,
    "lenVar": 40
   },
   "kernels_config": {
    "python": {
     "delete_cmd_postfix": "",
     "delete_cmd_prefix": "del ",
     "library": "var_list.py",
     "varRefreshCmd": "print(var_dic_list())"
    },
    "r": {
     "delete_cmd_postfix": ") ",
     "delete_cmd_prefix": "rm(",
     "library": "var_list.r",
     "varRefreshCmd": "cat(var_dic_list()) "
    }
   },
   "types_to_exclude": [
    "module",
    "function",
    "builtin_function_or_method",
    "instance",
    "_Feature"
   ],
   "window_display": false
  }
 },
 "nbformat": 4,
 "nbformat_minor": 4
}
