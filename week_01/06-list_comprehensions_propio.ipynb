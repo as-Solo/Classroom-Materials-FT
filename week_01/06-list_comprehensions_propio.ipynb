{
 "cells": [
  {
   "cell_type": "markdown",
   "metadata": {},
   "source": [
    "# Comprehensions"
   ]
  },
  {
   "cell_type": "markdown",
   "metadata": {
    "toc": true
   },
   "source": [
    "<h1>Table of Contents<span class=\"tocSkip\"></span></h1>\n",
    "<div class=\"toc\"><ul class=\"toc-item\"><li><span><a href=\"#Basic-list-comprehensions\" data-toc-modified-id=\"Basic-list-comprehensions-1\"><span class=\"toc-item-num\">1&nbsp;&nbsp;</span>Basic list comprehensions</a></span><ul class=\"toc-item\"><li><span><a href=\"#for-loop\" data-toc-modified-id=\"for-loop-1.1\"><span class=\"toc-item-num\">1.1&nbsp;&nbsp;</span><code>for</code> loop</a></span></li><li><span><a href=\"#for-loop-&amp;-if-condition\" data-toc-modified-id=\"for-loop-&amp;-if-condition-1.2\"><span class=\"toc-item-num\">1.2&nbsp;&nbsp;</span><code>for</code> loop &amp; <code>if</code> condition</a></span></li><li><span><a href=\"#if-else-assignment-inside-for-loop\" data-toc-modified-id=\"if-else-assignment-inside-for-loop-1.3\"><span class=\"toc-item-num\">1.3&nbsp;&nbsp;</span><code>if else</code> assignment inside <code>for</code> loop</a></span></li></ul></li><li><span><a href=\"#Double-list-comprehensions\" data-toc-modified-id=\"Double-list-comprehensions-2\"><span class=\"toc-item-num\">2&nbsp;&nbsp;</span>Double list comprehensions</a></span></li><li><span><a href=\"#Nested-list-comprehensions\" data-toc-modified-id=\"Nested-list-comprehensions-3\"><span class=\"toc-item-num\">3&nbsp;&nbsp;</span>Nested list comprehensions</a></span></li><li><span><a href=\"#Dictionary-comprehensions\" data-toc-modified-id=\"Dictionary-comprehensions-4\"><span class=\"toc-item-num\">4&nbsp;&nbsp;</span>Dictionary comprehensions</a></span></li><li><span><a href=\"#Set-comprehensions\" data-toc-modified-id=\"Set-comprehensions-5\"><span class=\"toc-item-num\">5&nbsp;&nbsp;</span>Set comprehensions</a></span></li><li><span><a href=\"#Summary\" data-toc-modified-id=\"Summary-6\"><span class=\"toc-item-num\">6&nbsp;&nbsp;</span>Summary</a></span></li><li><span><a href=\"#Timings\" data-toc-modified-id=\"Timings-7\"><span class=\"toc-item-num\">7&nbsp;&nbsp;</span>Timings</a></span></li></ul></div>"
   ]
  },
  {
   "cell_type": "markdown",
   "metadata": {},
   "source": [
    "## Basic list comprehensions"
   ]
  },
  {
   "cell_type": "markdown",
   "metadata": {},
   "source": [
    "### `for` loop"
   ]
  },
  {
   "cell_type": "code",
   "execution_count": 2,
   "metadata": {},
   "outputs": [],
   "source": [
    "words = ['play', 'filling', 'bar', 'theatre', 'easygoing', 'date', 'lead', 'that', 'story',  'island']"
   ]
  },
  {
   "cell_type": "code",
   "execution_count": 2,
   "metadata": {},
   "outputs": [
    {
     "data": {
      "text/plain": [
       "['play',\n",
       " 'filling',\n",
       " 'bar',\n",
       " 'theatre',\n",
       " 'easygoing',\n",
       " 'date',\n",
       " 'lead',\n",
       " 'that',\n",
       " 'story',\n",
       " 'island']"
      ]
     },
     "execution_count": 2,
     "metadata": {},
     "output_type": "execute_result"
    }
   ],
   "source": [
    "words"
   ]
  },
  {
   "cell_type": "markdown",
   "metadata": {},
   "source": [
    "**Exercise**: we want another list with same words in upper case (mayúsculas)"
   ]
  },
  {
   "cell_type": "code",
   "execution_count": 14,
   "metadata": {},
   "outputs": [
    {
     "name": "stdout",
     "output_type": "stream",
     "text": [
      "['PLAY', 'FILLING', 'BAR', 'THEATRE', 'EASYGOING', 'DATE', 'LEAD', 'THAT', 'STORY', 'ISLAND']\n"
     ]
    }
   ],
   "source": [
    "# reminder: upper of a word\n",
    "words_big = []\n",
    "for elemento in words:\n",
    "    palabra = elemento.upper()\n",
    "    words_big.append(palabra)\n",
    "print (words_big)"
   ]
  },
  {
   "cell_type": "code",
   "execution_count": 16,
   "metadata": {},
   "outputs": [
    {
     "name": "stdout",
     "output_type": "stream",
     "text": [
      "['PLAY', 'FILLING', 'BAR', 'THEATRE', 'EASYGOING', 'DATE', 'LEAD', 'THAT', 'STORY', 'ISLAND']\n"
     ]
    }
   ],
   "source": [
    "words_big = []\n",
    "for elemento in words:\n",
    "    words_big.append(elemento.upper())\n",
    "print (words_big)"
   ]
  },
  {
   "cell_type": "markdown",
   "metadata": {},
   "source": [
    "To know what we iterate through we can use `break` and `type`"
   ]
  },
  {
   "cell_type": "code",
   "execution_count": null,
   "metadata": {},
   "outputs": [],
   "source": [
    "for w in enumerate(words):\n",
    "    print(type(w))\n",
    "    print(w)\n",
    "    break"
   ]
  },
  {
   "cell_type": "code",
   "execution_count": 3,
   "metadata": {},
   "outputs": [
    {
     "name": "stdout",
     "output_type": "stream",
     "text": [
      "0\n",
      "play\n"
     ]
    }
   ],
   "source": [
    "for ind, word in enumerate(words):\n",
    "    print(ind)\n",
    "    print(word)\n",
    "    break"
   ]
  },
  {
   "cell_type": "markdown",
   "metadata": {},
   "source": [
    "Let's create UPPER list with a comprehension"
   ]
  },
  {
   "cell_type": "markdown",
   "metadata": {},
   "source": [
    "<img width=600 src=\"https://miro.medium.com/max/1022/1*RycJnooSC4_amWAXsvvKhw.png\">"
   ]
  },
  {
   "cell_type": "code",
   "execution_count": 20,
   "metadata": {},
   "outputs": [
    {
     "name": "stdout",
     "output_type": "stream",
     "text": [
      "['PLAY', 'FILLING', 'BAR', 'THEATRE', 'EASYGOING', 'DATE', 'LEAD', 'THAT', 'STORY', 'ISLAND']\n"
     ]
    }
   ],
   "source": [
    "lista_tocha = [w.upper() for w in words]\n",
    "print (lista_tocha)"
   ]
  },
  {
   "cell_type": "markdown",
   "metadata": {},
   "source": [
    "**Exercise**: we want the squares of numbers from 1 to 10."
   ]
  },
  {
   "cell_type": "code",
   "execution_count": 26,
   "metadata": {},
   "outputs": [
    {
     "name": "stdout",
     "output_type": "stream",
     "text": [
      "[0, 1, 2, 3, 4, 5, 6, 7, 8, 9]\n"
     ]
    }
   ],
   "source": [
    "nums = list(range(10))\n",
    "print(nums)"
   ]
  },
  {
   "cell_type": "code",
   "execution_count": 28,
   "metadata": {},
   "outputs": [
    {
     "name": "stdout",
     "output_type": "stream",
     "text": [
      "[0, 1, 4, 9, 16, 25, 36, 49, 64, 81]\n"
     ]
    }
   ],
   "source": [
    "# classic\n",
    "num_clasica = []\n",
    "for n in nums:\n",
    "    num_clasica.append(n**2)\n",
    "print (num_clasica)"
   ]
  },
  {
   "cell_type": "code",
   "execution_count": 25,
   "metadata": {},
   "outputs": [
    {
     "name": "stdout",
     "output_type": "stream",
     "text": [
      "[0, 1, 4, 9, 16, 25, 36, 49, 64, 81]\n"
     ]
    }
   ],
   "source": [
    "# list comprehension\n",
    "nums_cuad = [numero**2 for numero in nums]\n",
    "print (nums_cuad)"
   ]
  },
  {
   "cell_type": "markdown",
   "metadata": {},
   "source": [
    "### `for` loop & `if` condition"
   ]
  },
  {
   "cell_type": "markdown",
   "metadata": {},
   "source": [
    "**Exercise**: We want the sub-list with words longer than 6 characters."
   ]
  },
  {
   "cell_type": "code",
   "execution_count": null,
   "metadata": {},
   "outputs": [],
   "source": [
    "max_len = 6"
   ]
  },
  {
   "cell_type": "code",
   "execution_count": 29,
   "metadata": {
    "scrolled": true
   },
   "outputs": [
    {
     "data": {
      "text/plain": [
       "['play',\n",
       " 'filling',\n",
       " 'bar',\n",
       " 'theatre',\n",
       " 'easygoing',\n",
       " 'date',\n",
       " 'lead',\n",
       " 'that',\n",
       " 'story',\n",
       " 'island']"
      ]
     },
     "execution_count": 29,
     "metadata": {},
     "output_type": "execute_result"
    }
   ],
   "source": [
    "words"
   ]
  },
  {
   "cell_type": "code",
   "execution_count": 31,
   "metadata": {},
   "outputs": [
    {
     "name": "stdout",
     "output_type": "stream",
     "text": [
      "['filling', 'theatre', 'easygoing']\n"
     ]
    }
   ],
   "source": [
    "palabras_largas = []\n",
    "for word in words:\n",
    "    if len(word)>6:\n",
    "        palabras_largas.append(word)\n",
    "        \n",
    "print(palabras_largas)"
   ]
  },
  {
   "cell_type": "code",
   "execution_count": 34,
   "metadata": {
    "scrolled": true
   },
   "outputs": [
    {
     "name": "stdout",
     "output_type": "stream",
     "text": [
      "['filling', 'theatre', 'easygoing']\n"
     ]
    }
   ],
   "source": [
    "palabras_largas_02 = [w for w in words if len(w) > 6]\n",
    "print(palabras_largas_02)"
   ]
  },
  {
   "cell_type": "code",
   "execution_count": 38,
   "metadata": {},
   "outputs": [
    {
     "data": {
      "text/plain": [
       "['Play', 'Fill', 'Bar', 'Thea', 'Easy', 'Date', 'Lead', 'That', 'Stor', 'Isla']"
      ]
     },
     "execution_count": 38,
     "metadata": {},
     "output_type": "execute_result"
    }
   ],
   "source": [
    "[w[:4].capitalize() for w in words] # se le puede hacer cualquir trastada '❤❤❤'"
   ]
  },
  {
   "cell_type": "code",
   "execution_count": 35,
   "metadata": {},
   "outputs": [
    {
     "data": {
      "text/plain": [
       "8"
      ]
     },
     "execution_count": 35,
     "metadata": {},
     "output_type": "execute_result"
    }
   ],
   "source": [
    "len(\"mesonero\")"
   ]
  },
  {
   "cell_type": "code",
   "execution_count": null,
   "metadata": {},
   "outputs": [],
   "source": [
    "# classic"
   ]
  },
  {
   "cell_type": "markdown",
   "metadata": {},
   "source": [
    "<img width=600 src=\"https://www.mrdbourke.com/content/images/2019/09/python-list-comprehension-article.png\">"
   ]
  },
  {
   "cell_type": "code",
   "execution_count": null,
   "metadata": {},
   "outputs": [],
   "source": [
    "# list comprehension"
   ]
  },
  {
   "cell_type": "markdown",
   "metadata": {},
   "source": [
    "**Exercise**: Build a list with all multiples of 5 between 0 and 100."
   ]
  },
  {
   "cell_type": "code",
   "execution_count": 40,
   "metadata": {},
   "outputs": [
    {
     "name": "stdout",
     "output_type": "stream",
     "text": [
      "[0, 5, 10, 15, 20, 25, 30, 35, 40, 45, 50, 55, 60, 65, 70, 75, 80, 85, 90, 95]\n"
     ]
    }
   ],
   "source": [
    "# classic\n",
    "multiplos_five = []\n",
    "\n",
    "for i in range (100):\n",
    "    if i % 5 == 0:\n",
    "        multiplos_five.append(i)\n",
    "print(multiplos_five)"
   ]
  },
  {
   "cell_type": "code",
   "execution_count": 39,
   "metadata": {
    "scrolled": true
   },
   "outputs": [
    {
     "name": "stdout",
     "output_type": "stream",
     "text": [
      "[0, 5, 10, 15, 20, 25, 30, 35, 40, 45, 50, 55, 60, 65, 70, 75, 80, 85, 90, 95]\n"
     ]
    }
   ],
   "source": [
    "# list comprehension\n",
    "multiplos_cinco = [num for num in range(100) if num % 5 == 0]\n",
    "\n",
    "print(multiplos_cinco)"
   ]
  },
  {
   "cell_type": "code",
   "execution_count": null,
   "metadata": {},
   "outputs": [],
   "source": []
  },
  {
   "cell_type": "markdown",
   "metadata": {},
   "source": [
    "Examples"
   ]
  },
  {
   "cell_type": "code",
   "execution_count": 41,
   "metadata": {},
   "outputs": [
    {
     "data": {
      "text/plain": [
       "[7, 7, 7, 7, 7, 7, 7, 7, 7, 7]"
      ]
     },
     "execution_count": 41,
     "metadata": {},
     "output_type": "execute_result"
    }
   ],
   "source": [
    "[7 for x in range(10)]"
   ]
  },
  {
   "cell_type": "code",
   "execution_count": 42,
   "metadata": {},
   "outputs": [
    {
     "data": {
      "text/plain": [
       "[0, 1, 4, 9, 16, 25, 36, 49, 64, 81]"
      ]
     },
     "execution_count": 42,
     "metadata": {},
     "output_type": "execute_result"
    }
   ],
   "source": [
    "[x ** 2 for x in range(10)]"
   ]
  },
  {
   "cell_type": "code",
   "execution_count": 43,
   "metadata": {},
   "outputs": [
    {
     "data": {
      "text/plain": [
       "[0, 1, 4, 9, 16, 25, 36, 49, 64, 81]"
      ]
     },
     "execution_count": 43,
     "metadata": {},
     "output_type": "execute_result"
    }
   ],
   "source": [
    "[y ** 2 for y in range(10)]"
   ]
  },
  {
   "cell_type": "markdown",
   "metadata": {},
   "source": [
    "### `if else` assignment inside `for` loop"
   ]
  },
  {
   "cell_type": "markdown",
   "metadata": {},
   "source": [
    "Let's first learn how to if-else assign a value to a variable in one line:"
   ]
  },
  {
   "cell_type": "code",
   "execution_count": 44,
   "metadata": {},
   "outputs": [],
   "source": [
    "word = \"computer\""
   ]
  },
  {
   "cell_type": "code",
   "execution_count": 45,
   "metadata": {},
   "outputs": [],
   "source": [
    "if len(word) > 5:\n",
    "    word_type = \"long\"\n",
    "else:\n",
    "    word_type = \"short\""
   ]
  },
  {
   "cell_type": "code",
   "execution_count": 46,
   "metadata": {},
   "outputs": [
    {
     "data": {
      "text/plain": [
       "'long'"
      ]
     },
     "execution_count": 46,
     "metadata": {},
     "output_type": "execute_result"
    }
   ],
   "source": [
    "word_type"
   ]
  },
  {
   "cell_type": "code",
   "execution_count": null,
   "metadata": {},
   "outputs": [],
   "source": [
    "# equivalent one liner\n",
    "word_type = \"long\" if len(word) > 5 else \"short\""
   ]
  },
  {
   "cell_type": "code",
   "execution_count": null,
   "metadata": {},
   "outputs": [],
   "source": [
    "age = 22"
   ]
  },
  {
   "cell_type": "code",
   "execution_count": null,
   "metadata": {},
   "outputs": [],
   "source": [
    "mayor = \"si\" if age > 18 else \"no\""
   ]
  },
  {
   "cell_type": "code",
   "execution_count": null,
   "metadata": {},
   "outputs": [],
   "source": [
    "mayor"
   ]
  },
  {
   "cell_type": "markdown",
   "metadata": {},
   "source": [
    "**Exercise**: given a list of words, create another list with the same length, computing whether each word is long or short"
   ]
  },
  {
   "cell_type": "code",
   "execution_count": 47,
   "metadata": {},
   "outputs": [
    {
     "data": {
      "text/plain": [
       "['play',\n",
       " 'filling',\n",
       " 'bar',\n",
       " 'theatre',\n",
       " 'easygoing',\n",
       " 'date',\n",
       " 'lead',\n",
       " 'that',\n",
       " 'story',\n",
       " 'island']"
      ]
     },
     "execution_count": 47,
     "metadata": {},
     "output_type": "execute_result"
    }
   ],
   "source": [
    "words"
   ]
  },
  {
   "cell_type": "code",
   "execution_count": 49,
   "metadata": {},
   "outputs": [
    {
     "name": "stdout",
     "output_type": "stream",
     "text": [
      "['corto', 'largo', 'corto', 'largo', 'largo', 'corto', 'corto', 'corto', 'corto', 'largo']\n"
     ]
    }
   ],
   "source": [
    "largo_corto = []\n",
    "\n",
    "for w in words:\n",
    "    dato = 'largo' if len(w) > 5 else 'corto'\n",
    "    largo_corto.append(dato)\n",
    "    \n",
    "print (largo_corto)\n",
    "        "
   ]
  },
  {
   "cell_type": "code",
   "execution_count": null,
   "metadata": {},
   "outputs": [],
   "source": [
    "# list with \"long\"s and \"short\"s\n",
    "types = []\n",
    "\n",
    "for w in words:\n",
    "    print(w)\n",
    "    w_type = \"long\" if len(w) > 5 else \"short\"\n",
    "    print(w_type)\n",
    "    types.append(w_type)\n",
    "    print(\"\")"
   ]
  },
  {
   "cell_type": "code",
   "execution_count": null,
   "metadata": {},
   "outputs": [],
   "source": [
    "words"
   ]
  },
  {
   "cell_type": "code",
   "execution_count": null,
   "metadata": {},
   "outputs": [],
   "source": [
    "types"
   ]
  },
  {
   "cell_type": "code",
   "execution_count": null,
   "metadata": {},
   "outputs": [],
   "source": [
    "[(\"long\" if len(w) > 5 else \"short\") for w in words] #esto es puta crema"
   ]
  },
  {
   "cell_type": "markdown",
   "metadata": {},
   "source": [
    "## Double list comprehensions"
   ]
  },
  {
   "cell_type": "markdown",
   "metadata": {},
   "source": [
    "**Exercise**: we are 4 friends. We want to visit 3 countries.  \n",
    "Create a list of strings, containing all the posibilities of \"name loves country\""
   ]
  },
  {
   "cell_type": "markdown",
   "metadata": {},
   "source": [
    "How many combinations are there?"
   ]
  },
  {
   "cell_type": "code",
   "execution_count": 52,
   "metadata": {},
   "outputs": [],
   "source": [
    "countries = [\"Brasil\", \"Morocco\", \"New Zealand\"]\n",
    "friends = [\"Alice\", \"Bob\", \"Eve\", \"John\"]"
   ]
  },
  {
   "cell_type": "code",
   "execution_count": 54,
   "metadata": {},
   "outputs": [
    {
     "name": "stdout",
     "output_type": "stream",
     "text": [
      "['Alice loves Brasil', 'Alice loves Morocco', 'Alice loves New Zealand', 'Bob loves Brasil', 'Bob loves Morocco', 'Bob loves New Zealand', 'Eve loves Brasil', 'Eve loves Morocco', 'Eve loves New Zealand', 'John loves Brasil', 'John loves Morocco', 'John loves New Zealand']\n"
     ]
    }
   ],
   "source": [
    "# classic\n",
    "pairs = []\n",
    "\n",
    "for tipo in friends:\n",
    "    for pais in countries:\n",
    "        pairs.append(f'{tipo} loves {pais}')\n",
    "        \n",
    "print (pairs)"
   ]
  },
  {
   "cell_type": "code",
   "execution_count": 55,
   "metadata": {},
   "outputs": [
    {
     "data": {
      "text/plain": [
       "['Alice loves Brasil',\n",
       " 'Alice loves Morocco',\n",
       " 'Alice loves New Zealand',\n",
       " 'Bob loves Brasil',\n",
       " 'Bob loves Morocco',\n",
       " 'Bob loves New Zealand',\n",
       " 'Eve loves Brasil',\n",
       " 'Eve loves Morocco',\n",
       " 'Eve loves New Zealand',\n",
       " 'John loves Brasil',\n",
       " 'John loves Morocco',\n",
       " 'John loves New Zealand']"
      ]
     },
     "execution_count": 55,
     "metadata": {},
     "output_type": "execute_result"
    }
   ],
   "source": [
    "# list comprehension\n",
    "[f'{tipo} loves {pais}' for tipo in friends for pais in countries] #PUTA LOCURA!!!!!!!!!!!!!!!!!!!!"
   ]
  },
  {
   "cell_type": "code",
   "execution_count": null,
   "metadata": {},
   "outputs": [],
   "source": [
    "len(pairs)"
   ]
  },
  {
   "cell_type": "markdown",
   "metadata": {},
   "source": [
    "## Nested list comprehensions"
   ]
  },
  {
   "cell_type": "code",
   "execution_count": 56,
   "metadata": {},
   "outputs": [
    {
     "data": {
      "text/plain": [
       "['Alice', 'Bob', 'Eve', 'John']"
      ]
     },
     "execution_count": 56,
     "metadata": {},
     "output_type": "execute_result"
    }
   ],
   "source": [
    "friends"
   ]
  },
  {
   "cell_type": "markdown",
   "metadata": {},
   "source": [
    "Build a list of lists with names in upper and lower\n",
    "\n",
    "first element shold be `[\"Alice\", \"ALICE\", \"alice\"]`"
   ]
  },
  {
   "cell_type": "code",
   "execution_count": 61,
   "metadata": {},
   "outputs": [
    {
     "data": {
      "text/plain": [
       "[['Alice', 'ALICE', 'alice'],\n",
       " ['Bob', 'BOB', 'bob'],\n",
       " ['Eve', 'EVE', 'eve'],\n",
       " ['John', 'JOHN', 'john']]"
      ]
     },
     "execution_count": 61,
     "metadata": {},
     "output_type": "execute_result"
    }
   ],
   "source": [
    "# list comprehension\n",
    "list_of_lists = [[f,f.upper(), f.lower()] for f in friends] "
   ]
  },
  {
   "cell_type": "code",
   "execution_count": 60,
   "metadata": {},
   "outputs": [
    {
     "data": {
      "text/plain": [
       "4"
      ]
     },
     "execution_count": 60,
     "metadata": {},
     "output_type": "execute_result"
    }
   ],
   "source": [
    "len(list_of_lists)"
   ]
  },
  {
   "cell_type": "markdown",
   "metadata": {},
   "source": [
    "## Dictionary comprehensions"
   ]
  },
  {
   "cell_type": "markdown",
   "metadata": {},
   "source": [
    "**Exercise**: you are given a list of words. Write a dictionary containing the length of every word."
   ]
  },
  {
   "cell_type": "code",
   "execution_count": 62,
   "metadata": {},
   "outputs": [
    {
     "data": {
      "text/plain": [
       "['play',\n",
       " 'filling',\n",
       " 'bar',\n",
       " 'theatre',\n",
       " 'easygoing',\n",
       " 'date',\n",
       " 'lead',\n",
       " 'that',\n",
       " 'story',\n",
       " 'island']"
      ]
     },
     "execution_count": 62,
     "metadata": {},
     "output_type": "execute_result"
    }
   ],
   "source": [
    "words"
   ]
  },
  {
   "cell_type": "markdown",
   "metadata": {},
   "source": [
    "```\n",
    "{\n",
    "    \"play\": 4,\n",
    "    \"filling\": 7,\n",
    "    ...\n",
    "}\n",
    "```"
   ]
  },
  {
   "cell_type": "code",
   "execution_count": null,
   "metadata": {},
   "outputs": [],
   "source": [
    "words"
   ]
  },
  {
   "cell_type": "code",
   "execution_count": 66,
   "metadata": {},
   "outputs": [],
   "source": [
    "word_lengths = dict()\n",
    "# equiv to {} but less readable (couldn´t it be a set?)"
   ]
  },
  {
   "cell_type": "code",
   "execution_count": 67,
   "metadata": {},
   "outputs": [
    {
     "data": {
      "text/plain": [
       "dict"
      ]
     },
     "execution_count": 67,
     "metadata": {},
     "output_type": "execute_result"
    }
   ],
   "source": [
    "type(word_lengths)"
   ]
  },
  {
   "cell_type": "code",
   "execution_count": 69,
   "metadata": {},
   "outputs": [
    {
     "name": "stdout",
     "output_type": "stream",
     "text": [
      "{'play': 4, 'filling': 7, 'bar': 3, 'theatre': 7, 'easygoing': 9, 'date': 4, 'lead': 4, 'that': 4, 'story': 5, 'island': 6}\n"
     ]
    }
   ],
   "source": [
    "# classic\n",
    "for w in words:\n",
    "    word_lengths[w] = len(w)\n",
    "\n",
    "print (word_lengths)"
   ]
  },
  {
   "cell_type": "code",
   "execution_count": 75,
   "metadata": {},
   "outputs": [],
   "source": [
    "# dict comprehension\n",
    "word_dict = {key : len(key) for key in words}"
   ]
  },
  {
   "cell_type": "code",
   "execution_count": null,
   "metadata": {},
   "outputs": [],
   "source": [
    "# more use cases\n",
    "{w.upper(): len(w) for w in words}"
   ]
  },
  {
   "cell_type": "code",
   "execution_count": 76,
   "metadata": {},
   "outputs": [
    {
     "data": {
      "text/plain": [
       "{'PLAY': 1,\n",
       " 'FILLING': 1,\n",
       " 'BAR': 1,\n",
       " 'THEATRE': 1,\n",
       " 'EASYGOING': 1,\n",
       " 'DATE': 1,\n",
       " 'LEAD': 1,\n",
       " 'THAT': 1,\n",
       " 'STORY': 1,\n",
       " 'ISLAND': 1}"
      ]
     },
     "execution_count": 76,
     "metadata": {},
     "output_type": "execute_result"
    }
   ],
   "source": [
    "{w.upper(): 1 for w in words}"
   ]
  },
  {
   "cell_type": "code",
   "execution_count": 77,
   "metadata": {},
   "outputs": [
    {
     "data": {
      "text/plain": [
       "{'PLAY': 0,\n",
       " 'FILLING': 1,\n",
       " 'BAR': 2,\n",
       " 'THEATRE': 3,\n",
       " 'EASYGOING': 4,\n",
       " 'DATE': 5,\n",
       " 'LEAD': 6,\n",
       " 'THAT': 7,\n",
       " 'STORY': 8,\n",
       " 'ISLAND': 9}"
      ]
     },
     "execution_count": 77,
     "metadata": {},
     "output_type": "execute_result"
    }
   ],
   "source": [
    "{w.upper(): ind for ind, w in enumerate(words)}"
   ]
  },
  {
   "cell_type": "markdown",
   "metadata": {},
   "source": [
    "**Exercise**: you are given a dict of ages.  \n",
    "Create a dictionary containing their ages in 5 years time."
   ]
  },
  {
   "cell_type": "code",
   "execution_count": 79,
   "metadata": {},
   "outputs": [],
   "source": [
    "ages = {\n",
    "    \"Alice\": 24,\n",
    "    \"Bob\": 28,\n",
    "    \"Eve\": 34,\n",
    "    \"John\": 19\n",
    "}"
   ]
  },
  {
   "cell_type": "code",
   "execution_count": 82,
   "metadata": {},
   "outputs": [
    {
     "name": "stdout",
     "output_type": "stream",
     "text": [
      "{'Alice': 29, 'Bob': 33, 'Eve': 39, 'John': 24}\n"
     ]
    }
   ],
   "source": [
    "# classic\n",
    "new_ages = dict()\n",
    "\n",
    "for key, values in ages.items():\n",
    "    new_ages[key] = values + 5\n",
    "\n",
    "print (new_ages)"
   ]
  },
  {
   "cell_type": "markdown",
   "metadata": {},
   "source": [
    "Now as a comprehension"
   ]
  },
  {
   "cell_type": "code",
   "execution_count": 84,
   "metadata": {},
   "outputs": [
    {
     "name": "stdout",
     "output_type": "stream",
     "text": [
      "{'Alice': 29, 'Bob': 33, 'Eve': 39, 'John': 24}\n"
     ]
    }
   ],
   "source": [
    "# dict comprehension\n",
    "edades_nuevas = dict()\n",
    "\n",
    "edades_nuevas = {k : v + 5 for k,v in ages.items()}\n",
    "\n",
    "print(edades_nuevas)"
   ]
  },
  {
   "cell_type": "markdown",
   "metadata": {},
   "source": [
    "## Set comprehensions"
   ]
  },
  {
   "cell_type": "markdown",
   "metadata": {},
   "source": [
    "**Exercise**: you are given country-age pairs for several users. Build a set with unique countries."
   ]
  },
  {
   "cell_type": "code",
   "execution_count": 86,
   "metadata": {},
   "outputs": [],
   "source": [
    "codes = [\"es-91\", \"en-88\", \"en-43\", \"fr-12\", \"it-33\", \"es-15\", \"fr-55\", \"es-66\", \"usa-55\"]"
   ]
  },
  {
   "cell_type": "code",
   "execution_count": 93,
   "metadata": {},
   "outputs": [
    {
     "name": "stdout",
     "output_type": "stream",
     "text": [
      "{'en', 'fr', 'it', 'usa', 'es'}\n",
      "{'en', 'fr', 'it', 'usa', 'es'}\n"
     ]
    }
   ],
   "source": [
    "nuevo_set = {word[:-3] for word in codes}\n",
    "print (nuevo_set)\n",
    "\n",
    "nuevo_set2 = {word.split(\"-\")[0] for word in codes} # Esto es mejor que lo de arriba y sigue siendo una brutalidad!!!! 😱😱\n",
    "print (nuevo_set2)"
   ]
  },
  {
   "cell_type": "markdown",
   "metadata": {},
   "source": [
    "## Summary"
   ]
  },
  {
   "cell_type": "markdown",
   "metadata": {},
   "source": [
    " * Comprehensions are elegant.\n",
    " * Comprehensions are compact.\n",
    " * Readability counts: do not ALWAYS use comprehensions.\n",
    " * List, set, dict comprehensions"
   ]
  },
  {
   "cell_type": "markdown",
   "metadata": {},
   "source": [
    "## Timings"
   ]
  },
  {
   "cell_type": "code",
   "execution_count": 94,
   "metadata": {},
   "outputs": [],
   "source": [
    "nums = list(range(10 ** 6))"
   ]
  },
  {
   "cell_type": "code",
   "execution_count": 95,
   "metadata": {},
   "outputs": [
    {
     "name": "stdout",
     "output_type": "stream",
     "text": [
      "447 ms ± 84.8 ms per loop (mean ± std. dev. of 7 runs, 1 loop each)\n"
     ]
    }
   ],
   "source": [
    "%%timeit\n",
    "squares = []\n",
    "\n",
    "for n in nums:\n",
    "    squares.append(n ** 2)"
   ]
  },
  {
   "cell_type": "code",
   "execution_count": 96,
   "metadata": {},
   "outputs": [
    {
     "name": "stdout",
     "output_type": "stream",
     "text": [
      "381 ms ± 15.9 ms per loop (mean ± std. dev. of 7 runs, 1 loop each)\n"
     ]
    }
   ],
   "source": [
    "%%timeit\n",
    "[x ** 2 for x in nums]"
   ]
  },
  {
   "cell_type": "markdown",
   "metadata": {},
   "source": [
    "Very similar times as expected"
   ]
  }
 ],
 "metadata": {
  "kernelspec": {
   "display_name": "Python 3",
   "language": "python",
   "name": "python3"
  },
  "language_info": {
   "codemirror_mode": {
    "name": "ipython",
    "version": 3
   },
   "file_extension": ".py",
   "mimetype": "text/x-python",
   "name": "python",
   "nbconvert_exporter": "python",
   "pygments_lexer": "ipython3",
   "version": "3.8.5"
  },
  "toc": {
   "base_numbering": 1,
   "nav_menu": {},
   "number_sections": true,
   "sideBar": true,
   "skip_h1_title": true,
   "title_cell": "Table of Contents",
   "title_sidebar": "Contents",
   "toc_cell": true,
   "toc_position": {},
   "toc_section_display": true,
   "toc_window_display": true
  },
  "varInspector": {
   "cols": {
    "lenName": 16,
    "lenType": 16,
    "lenVar": 40
   },
   "kernels_config": {
    "python": {
     "delete_cmd_postfix": "",
     "delete_cmd_prefix": "del ",
     "library": "var_list.py",
     "varRefreshCmd": "print(var_dic_list())"
    },
    "r": {
     "delete_cmd_postfix": ") ",
     "delete_cmd_prefix": "rm(",
     "library": "var_list.r",
     "varRefreshCmd": "cat(var_dic_list()) "
    }
   },
   "types_to_exclude": [
    "module",
    "function",
    "builtin_function_or_method",
    "instance",
    "_Feature"
   ],
   "window_display": false
  }
 },
 "nbformat": 4,
 "nbformat_minor": 4
}
